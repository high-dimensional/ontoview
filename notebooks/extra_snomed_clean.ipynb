{
 "cells": [
  {
   "cell_type": "markdown",
   "id": "daffa2d8",
   "metadata": {},
   "source": [
    "# Clean snomed"
   ]
  },
  {
   "cell_type": "code",
   "execution_count": 1,
   "id": "94524ff6",
   "metadata": {},
   "outputs": [],
   "source": [
    "import pandas as pd"
   ]
  },
  {
   "cell_type": "code",
   "execution_count": 2,
   "id": "c89f4966",
   "metadata": {},
   "outputs": [],
   "source": [
    "snomed_df = pd.read_csv(\"ontologies/snomed/ontology_concepts.csv\")"
   ]
  },
  {
   "cell_type": "code",
   "execution_count": 5,
   "id": "b7ffcf13",
   "metadata": {},
   "outputs": [],
   "source": [
    "snomed_df.loc[snomed_df[\"is_preferred_name\"], \"is_preferred_name\"] = \"1\""
   ]
  },
  {
   "cell_type": "code",
   "execution_count": 11,
   "id": "8df1ff11",
   "metadata": {},
   "outputs": [],
   "source": [
    "snomed_df.loc[snomed_df[\"is_preferred_name\"]==False, \"is_preferred_name\"] = \"0\""
   ]
  },
  {
   "cell_type": "code",
   "execution_count": 12,
   "id": "08a0659b",
   "metadata": {},
   "outputs": [
    {
     "data": {
      "text/html": [
       "<div>\n",
       "<style scoped>\n",
       "    .dataframe tbody tr th:only-of-type {\n",
       "        vertical-align: middle;\n",
       "    }\n",
       "\n",
       "    .dataframe tbody tr th {\n",
       "        vertical-align: top;\n",
       "    }\n",
       "\n",
       "    .dataframe thead th {\n",
       "        text-align: right;\n",
       "    }\n",
       "</style>\n",
       "<table border=\"1\" class=\"dataframe\">\n",
       "  <thead>\n",
       "    <tr style=\"text-align: right;\">\n",
       "      <th></th>\n",
       "      <th>Unnamed: 0</th>\n",
       "      <th>cui</th>\n",
       "      <th>concept_name</th>\n",
       "      <th>is_preferred_name</th>\n",
       "      <th>type_name</th>\n",
       "      <th>ontology</th>\n",
       "      <th>tui</th>\n",
       "    </tr>\n",
       "  </thead>\n",
       "  <tbody>\n",
       "    <tr>\n",
       "      <th>0</th>\n",
       "      <td>0</td>\n",
       "      <td>101009</td>\n",
       "      <td>Quilonia ethiopica (organism)</td>\n",
       "      <td>1</td>\n",
       "      <td>organism</td>\n",
       "      <td>SNOMED-CT</td>\n",
       "      <td>6000</td>\n",
       "    </tr>\n",
       "    <tr>\n",
       "      <th>1</th>\n",
       "      <td>1</td>\n",
       "      <td>101009</td>\n",
       "      <td>Quilonia ethiopica</td>\n",
       "      <td>0</td>\n",
       "      <td>organism</td>\n",
       "      <td>SNOMED-CT</td>\n",
       "      <td>6000</td>\n",
       "    </tr>\n",
       "    <tr>\n",
       "      <th>2</th>\n",
       "      <td>2</td>\n",
       "      <td>102002</td>\n",
       "      <td>Hemoglobin Okaloosa (substance)</td>\n",
       "      <td>1</td>\n",
       "      <td>substance</td>\n",
       "      <td>SNOMED-CT</td>\n",
       "      <td>19000</td>\n",
       "    </tr>\n",
       "    <tr>\n",
       "      <th>3</th>\n",
       "      <td>3</td>\n",
       "      <td>102002</td>\n",
       "      <td>Hemoglobin Okaloosa</td>\n",
       "      <td>0</td>\n",
       "      <td>substance</td>\n",
       "      <td>SNOMED-CT</td>\n",
       "      <td>19000</td>\n",
       "    </tr>\n",
       "    <tr>\n",
       "      <th>4</th>\n",
       "      <td>4</td>\n",
       "      <td>102002</td>\n",
       "      <td>Hb 48(CD7), Leu-arg</td>\n",
       "      <td>0</td>\n",
       "      <td>substance</td>\n",
       "      <td>SNOMED-CT</td>\n",
       "      <td>19000</td>\n",
       "    </tr>\n",
       "  </tbody>\n",
       "</table>\n",
       "</div>"
      ],
      "text/plain": [
       "   Unnamed: 0     cui                     concept_name is_preferred_name  \\\n",
       "0           0  101009    Quilonia ethiopica (organism)                 1   \n",
       "1           1  101009               Quilonia ethiopica                 0   \n",
       "2           2  102002  Hemoglobin Okaloosa (substance)                 1   \n",
       "3           3  102002              Hemoglobin Okaloosa                 0   \n",
       "4           4  102002              Hb 48(CD7), Leu-arg                 0   \n",
       "\n",
       "   type_name   ontology    tui  \n",
       "0   organism  SNOMED-CT   6000  \n",
       "1   organism  SNOMED-CT   6000  \n",
       "2  substance  SNOMED-CT  19000  \n",
       "3  substance  SNOMED-CT  19000  \n",
       "4  substance  SNOMED-CT  19000  "
      ]
     },
     "execution_count": 12,
     "metadata": {},
     "output_type": "execute_result"
    }
   ],
   "source": [
    "snomed_df.head()"
   ]
  },
  {
   "cell_type": "code",
   "execution_count": 13,
   "id": "c3b02300",
   "metadata": {},
   "outputs": [],
   "source": [
    "snomed_df.to_csv( \"ontologies/snomed/ontology_concepts.csv\",index=False)"
   ]
  },
  {
   "cell_type": "code",
   "execution_count": null,
   "id": "c7c2c94b",
   "metadata": {},
   "outputs": [],
   "source": []
  }
 ],
 "metadata": {
  "kernelspec": {
   "display_name": "Python 3",
   "language": "python",
   "name": "python3"
  },
  "language_info": {
   "codemirror_mode": {
    "name": "ipython",
    "version": 3
   },
   "file_extension": ".py",
   "mimetype": "text/x-python",
   "name": "python",
   "nbconvert_exporter": "python",
   "pygments_lexer": "ipython3",
   "version": "3.8.6"
  }
 },
 "nbformat": 4,
 "nbformat_minor": 5
}
