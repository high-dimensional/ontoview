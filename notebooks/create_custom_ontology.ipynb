{
 "cells": [
  {
   "cell_type": "markdown",
   "metadata": {},
   "source": [
    "# Create custom ontology\n",
    "\n",
    "create a custom neurological ontology specific to queen square from\n",
    "- TA2\n",
    "- MESH\n",
    "- RADLEX"
   ]
  },
  {
   "cell_type": "code",
   "execution_count": 134,
   "metadata": {},
   "outputs": [],
   "source": [
    "import pandas as pd\n",
    "import numpy as np\n",
    "from tqdm import tqdm, trange\n",
    "import re\n",
    "from neuroNLP.ontology import Ontology, CandidateGenerator"
   ]
  },
  {
   "cell_type": "code",
   "execution_count": 2,
   "metadata": {},
   "outputs": [
    {
     "name": "stderr",
     "output_type": "stream",
     "text": [
      "/home/user/anaconda3/lib/python3.7/site-packages/IPython/core/interactiveshell.py:3147: DtypeWarning: Columns (12,31,38,45,59,76,79,81,86,88) have mixed types.Specify dtype option on import or set low_memory=False.\n",
      "  interactivity=interactivity, compiler=compiler, result=result)\n"
     ]
    }
   ],
   "source": [
    "radlex_df = pd.read_csv(\"sources/RADLEX.csv\")"
   ]
  },
  {
   "cell_type": "code",
   "execution_count": 3,
   "metadata": {},
   "outputs": [
    {
     "name": "stderr",
     "output_type": "stream",
     "text": [
      "/home/user/anaconda3/lib/python3.7/site-packages/IPython/core/interactiveshell.py:3147: DtypeWarning: Columns (10,31) have mixed types.Specify dtype option on import or set low_memory=False.\n",
      "  interactivity=interactivity, compiler=compiler, result=result)\n"
     ]
    }
   ],
   "source": [
    "mesh_df = pd.read_csv(\"sources/MESH.csv\")"
   ]
  },
  {
   "cell_type": "markdown",
   "metadata": {},
   "source": [
    "# TA2 anatomy\n",
    "## Convert TA2 format\n",
    "convert TA2 anatomical ontology to an edge list format"
   ]
  },
  {
   "cell_type": "code",
   "execution_count": 2,
   "metadata": {},
   "outputs": [],
   "source": [
    "ta2_df_raw = pd.read_excel(\"SenseOrgans_levelled.xlsx\")\n",
    "ta2_df = ta2_df_raw.dropna(how=\"all\",axis=0)\n",
    "ta2_df = ta2_df.dropna(how=\"all\",axis=1)"
   ]
  },
  {
   "cell_type": "code",
   "execution_count": 3,
   "metadata": {},
   "outputs": [],
   "source": [
    "ta2_df.columns = ta2_df.iloc[0]\n",
    "ta2_df = ta2_df.drop(ta2_df.index[0])"
   ]
  },
  {
   "cell_type": "code",
   "execution_count": 4,
   "metadata": {},
   "outputs": [],
   "source": [
    "level_name = \"Level \""
   ]
  },
  {
   "cell_type": "code",
   "execution_count": 5,
   "metadata": {},
   "outputs": [],
   "source": [
    "ta2_df[level_name][(ta2_df[level_name]==9) & ta2_df[\"UK English \"].str.isupper()] = 3"
   ]
  },
  {
   "cell_type": "code",
   "execution_count": 6,
   "metadata": {},
   "outputs": [],
   "source": [
    "ta2_df[level_name][(ta2_df[level_name]==9)] = 4"
   ]
  },
  {
   "cell_type": "code",
   "execution_count": 7,
   "metadata": {},
   "outputs": [],
   "source": [
    "ta2_df[level_name][ta2_df[\"UK English \"].str.startswith(\"   \")] = 7"
   ]
  },
  {
   "cell_type": "code",
   "execution_count": 8,
   "metadata": {},
   "outputs": [],
   "source": [
    "ta2_df[level_name][ta2_df[\"UK English \"].str.startswith(\"      \")] = 8"
   ]
  },
  {
   "cell_type": "code",
   "execution_count": 9,
   "metadata": {},
   "outputs": [],
   "source": [
    "ta2_df[level_name][(ta2_df[level_name]==10)] = 6"
   ]
  },
  {
   "cell_type": "code",
   "execution_count": 10,
   "metadata": {},
   "outputs": [
    {
     "data": {
      "text/plain": [
       "6    157\n",
       "7     93\n",
       "4     30\n",
       "8     21\n",
       "3      7\n",
       "2      5\n",
       "1      4\n",
       "0      1\n",
       "Name: Level , dtype: int64"
      ]
     },
     "execution_count": 10,
     "metadata": {},
     "output_type": "execute_result"
    }
   ],
   "source": [
    "ta2_df[level_name].value_counts()"
   ]
  },
  {
   "cell_type": "code",
   "execution_count": 11,
   "metadata": {},
   "outputs": [],
   "source": [
    "ta2_df[\"UK English \"] = ta2_df[\"UK English \"].str.lower()\n",
    "ta2_df[\"UK English \"] = ta2_df[\"UK English \"].str.strip()\n",
    "ta2_df[\"UK English \"] = ta2_df[\"UK English \"].str.strip(\"()\")\n",
    "ta2_df[\"UK English \"] = ta2_df[\"UK English \"].str.strip(\"♂♀\")\n",
    "ta2_df[\"UK English \"] = ta2_df[\"UK English \"].str.strip()"
   ]
  },
  {
   "cell_type": "code",
   "execution_count": 12,
   "metadata": {},
   "outputs": [
    {
     "data": {
      "text/plain": [
       "Index(['c', 'UK English ', 'US English ', 'English synonym ', 'Other ',\n",
       "       'Level '],\n",
       "      dtype='object', name=5)"
      ]
     },
     "execution_count": 12,
     "metadata": {},
     "output_type": "execute_result"
    }
   ],
   "source": [
    "ta2_df.columns"
   ]
  },
  {
   "cell_type": "code",
   "execution_count": 13,
   "metadata": {},
   "outputs": [],
   "source": [
    "ta2_df = ta2_df.reset_index()\n",
    "ta2_df = ta2_df.rename(columns={4: \"id\", \"c\": \"ta_cui\", \"UK English \": \"uk_english\", \"US English \": \"us_english\", 'English synonym ':\"english_synonym\",'Other ':\"other\", level_name:\"level\"})"
   ]
  },
  {
   "cell_type": "code",
   "execution_count": 14,
   "metadata": {},
   "outputs": [],
   "source": [
    "ta2_df.to_csv(\"senseorgs_df_processed.csv\", index=False)"
   ]
  },
  {
   "cell_type": "markdown",
   "metadata": {},
   "source": [
    "## Convert to similar ontology format as radlex and mesh\n",
    "Find the parent of each concept"
   ]
  },
  {
   "cell_type": "code",
   "execution_count": 162,
   "metadata": {},
   "outputs": [],
   "source": [
    "cns_df = pd.read_csv(\"cns_df_processed.csv\")\n",
    "senorg_df = pd.read_csv(\"senseorgs_df_processed.csv\")"
   ]
  },
  {
   "cell_type": "code",
   "execution_count": 163,
   "metadata": {},
   "outputs": [],
   "source": [
    "def find_parent(x):\n",
    "    level = x[\"level\"]\n",
    "    index = x.name\n",
    "    for idx, row in cns_df[index::-1].iterrows():\n",
    "        if row[\"level\"]<level:\n",
    "            return row[\"ta_cui\"]\n",
    "    return \"root\"\n",
    "    "
   ]
  },
  {
   "cell_type": "code",
   "execution_count": 164,
   "metadata": {},
   "outputs": [],
   "source": [
    "senorg_df[\"parent_cui\"] = [find_parent(row) for idx, row in senorg_df.iterrows()]\n",
    "cns_df[\"parent_cui\"] = [find_parent(row) for idx, row in cns_df.iterrows()]"
   ]
  },
  {
   "cell_type": "code",
   "execution_count": 165,
   "metadata": {},
   "outputs": [
    {
     "data": {
      "text/html": [
       "<div>\n",
       "<style scoped>\n",
       "    .dataframe tbody tr th:only-of-type {\n",
       "        vertical-align: middle;\n",
       "    }\n",
       "\n",
       "    .dataframe tbody tr th {\n",
       "        vertical-align: top;\n",
       "    }\n",
       "\n",
       "    .dataframe thead th {\n",
       "        text-align: right;\n",
       "    }\n",
       "</style>\n",
       "<table border=\"1\" class=\"dataframe\">\n",
       "  <thead>\n",
       "    <tr style=\"text-align: right;\">\n",
       "      <th></th>\n",
       "      <th>index</th>\n",
       "      <th>ta_cui</th>\n",
       "      <th>uk_english</th>\n",
       "      <th>us_english</th>\n",
       "      <th>english_synonym</th>\n",
       "      <th>other</th>\n",
       "      <th>level</th>\n",
       "      <th>parent_cui</th>\n",
       "    </tr>\n",
       "  </thead>\n",
       "  <tbody>\n",
       "    <tr>\n",
       "      <th>0</th>\n",
       "      <td>5</td>\n",
       "      <td>5363</td>\n",
       "      <td>nervous system</td>\n",
       "      <td>Nervous system</td>\n",
       "      <td></td>\n",
       "      <td>Systema nervorum; Neurologia</td>\n",
       "      <td>0</td>\n",
       "      <td>root</td>\n",
       "    </tr>\n",
       "    <tr>\n",
       "      <th>1</th>\n",
       "      <td>6</td>\n",
       "      <td>5364</td>\n",
       "      <td>central nervous system</td>\n",
       "      <td>CENTRAL NERVOUS SYSTEM</td>\n",
       "      <td></td>\n",
       "      <td>Systema nervorum centrale</td>\n",
       "      <td>1</td>\n",
       "      <td>5363</td>\n",
       "    </tr>\n",
       "    <tr>\n",
       "      <th>2</th>\n",
       "      <td>7</td>\n",
       "      <td>5365</td>\n",
       "      <td>grey matter</td>\n",
       "      <td>Gray matter</td>\n",
       "      <td></td>\n",
       "      <td></td>\n",
       "      <td>6</td>\n",
       "      <td>5364</td>\n",
       "    </tr>\n",
       "    <tr>\n",
       "      <th>3</th>\n",
       "      <td>8</td>\n",
       "      <td>5366</td>\n",
       "      <td>white matter</td>\n",
       "      <td>White matter</td>\n",
       "      <td></td>\n",
       "      <td></td>\n",
       "      <td>6</td>\n",
       "      <td>5364</td>\n",
       "    </tr>\n",
       "    <tr>\n",
       "      <th>4</th>\n",
       "      <td>9</td>\n",
       "      <td>5367</td>\n",
       "      <td>reticular formation</td>\n",
       "      <td>Reticular formation</td>\n",
       "      <td></td>\n",
       "      <td></td>\n",
       "      <td>6</td>\n",
       "      <td>5364</td>\n",
       "    </tr>\n",
       "  </tbody>\n",
       "</table>\n",
       "</div>"
      ],
      "text/plain": [
       "   index  ta_cui              uk_english               us_english  \\\n",
       "0      5    5363          nervous system          Nervous system    \n",
       "1      6    5364  central nervous system  CENTRAL NERVOUS SYSTEM    \n",
       "2      7    5365             grey matter             Gray matter    \n",
       "3      8    5366            white matter            White matter    \n",
       "4      9    5367     reticular formation     Reticular formation    \n",
       "\n",
       "  english_synonym                          other  level parent_cui  \n",
       "0                  Systema nervorum; Neurologia       0       root  \n",
       "1                     Systema nervorum centrale       1       5363  \n",
       "2                                                     6       5364  \n",
       "3                                                     6       5364  \n",
       "4                                                     6       5364  "
      ]
     },
     "execution_count": 165,
     "metadata": {},
     "output_type": "execute_result"
    }
   ],
   "source": [
    "cns_df.head()"
   ]
  },
  {
   "cell_type": "code",
   "execution_count": 166,
   "metadata": {},
   "outputs": [],
   "source": [
    "cns_df = cns_df.rename(columns={\"ta_cui\":\"source_ontology_id\", \"uk_english\":\"concept_name\", \"parent_cui\":\"source_ontology_parent\", \"english_synonym\":\"synonyms\"})"
   ]
  },
  {
   "cell_type": "code",
   "execution_count": 167,
   "metadata": {},
   "outputs": [],
   "source": [
    "senorg_df = senorg_df.rename(columns={\"ta_cui\":\"source_ontology_id\", \"uk_english\":\"concept_name\", \"parent_cui\":\"source_ontology_parent\", \"english_synonym\":\"synonyms\"})"
   ]
  },
  {
   "cell_type": "code",
   "execution_count": 168,
   "metadata": {},
   "outputs": [],
   "source": [
    "anatomy_df = pd.concat([cns_df,senorg_df])"
   ]
  },
  {
   "cell_type": "code",
   "execution_count": 169,
   "metadata": {},
   "outputs": [],
   "source": [
    "anatomy_df=anatomy_df.drop([\"index\",\"us_english\",\"other\",\"level\"],axis=1)"
   ]
  },
  {
   "cell_type": "code",
   "execution_count": 170,
   "metadata": {},
   "outputs": [],
   "source": [
    "anatomy_df[\"source_ontology\"] = \"TA2\""
   ]
  },
  {
   "cell_type": "code",
   "execution_count": 171,
   "metadata": {},
   "outputs": [],
   "source": [
    "anatomy_df[\"synonyms\"] = anatomy_df[\"synonyms\"].str.replace(\"; \", \"|\")"
   ]
  },
  {
   "cell_type": "code",
   "execution_count": 175,
   "metadata": {},
   "outputs": [
    {
     "data": {
      "text/html": [
       "<div>\n",
       "<style scoped>\n",
       "    .dataframe tbody tr th:only-of-type {\n",
       "        vertical-align: middle;\n",
       "    }\n",
       "\n",
       "    .dataframe tbody tr th {\n",
       "        vertical-align: top;\n",
       "    }\n",
       "\n",
       "    .dataframe thead th {\n",
       "        text-align: right;\n",
       "    }\n",
       "</style>\n",
       "<table border=\"1\" class=\"dataframe\">\n",
       "  <thead>\n",
       "    <tr style=\"text-align: right;\">\n",
       "      <th></th>\n",
       "      <th>source_ontology_id</th>\n",
       "      <th>concept_name</th>\n",
       "      <th>synonyms</th>\n",
       "      <th>source_ontology_parent</th>\n",
       "      <th>source_ontology</th>\n",
       "    </tr>\n",
       "  </thead>\n",
       "  <tbody>\n",
       "    <tr>\n",
       "      <th>0</th>\n",
       "      <td>T5363</td>\n",
       "      <td>nervous system</td>\n",
       "      <td></td>\n",
       "      <td>QSX2</td>\n",
       "      <td>TA2</td>\n",
       "    </tr>\n",
       "    <tr>\n",
       "      <th>1</th>\n",
       "      <td>T5364</td>\n",
       "      <td>central nervous system</td>\n",
       "      <td></td>\n",
       "      <td>T5363</td>\n",
       "      <td>TA2</td>\n",
       "    </tr>\n",
       "    <tr>\n",
       "      <th>2</th>\n",
       "      <td>T5365</td>\n",
       "      <td>grey matter</td>\n",
       "      <td></td>\n",
       "      <td>T5364</td>\n",
       "      <td>TA2</td>\n",
       "    </tr>\n",
       "    <tr>\n",
       "      <th>3</th>\n",
       "      <td>T5366</td>\n",
       "      <td>white matter</td>\n",
       "      <td></td>\n",
       "      <td>T5364</td>\n",
       "      <td>TA2</td>\n",
       "    </tr>\n",
       "    <tr>\n",
       "      <th>4</th>\n",
       "      <td>T5367</td>\n",
       "      <td>reticular formation</td>\n",
       "      <td></td>\n",
       "      <td>T5364</td>\n",
       "      <td>TA2</td>\n",
       "    </tr>\n",
       "  </tbody>\n",
       "</table>\n",
       "</div>"
      ],
      "text/plain": [
       "  source_ontology_id            concept_name synonyms source_ontology_parent  \\\n",
       "0              T5363          nervous system                            QSX2   \n",
       "1              T5364  central nervous system                           T5363   \n",
       "2              T5365             grey matter                           T5364   \n",
       "3              T5366            white matter                           T5364   \n",
       "4              T5367     reticular formation                           T5364   \n",
       "\n",
       "  source_ontology  \n",
       "0             TA2  \n",
       "1             TA2  \n",
       "2             TA2  \n",
       "3             TA2  \n",
       "4             TA2  "
      ]
     },
     "execution_count": 175,
     "metadata": {},
     "output_type": "execute_result"
    }
   ],
   "source": [
    "anatomy_df.head()"
   ]
  },
  {
   "cell_type": "code",
   "execution_count": 173,
   "metadata": {},
   "outputs": [],
   "source": [
    "anatomy_df[\"source_ontology_id\"] = \"T\" + anatomy_df[\"source_ontology_id\"].astype(str)\n",
    "anatomy_df[\"source_ontology_parent\"] = \"T\" + anatomy_df[\"source_ontology_parent\"].astype(str)"
   ]
  },
  {
   "cell_type": "code",
   "execution_count": 174,
   "metadata": {},
   "outputs": [],
   "source": [
    "anatomy_df.loc[anatomy_df[\"source_ontology_parent\"]==\"Troot\", \"source_ontology_parent\"] = \"QSX2\""
   ]
  },
  {
   "cell_type": "markdown",
   "metadata": {},
   "source": [
    "# Pathologies"
   ]
  },
  {
   "cell_type": "code",
   "execution_count": 176,
   "metadata": {},
   "outputs": [],
   "source": [
    "def contain_string(string, uid):\n",
    "    split = string.split(\"|\")\n",
    "    if uid in split:\n",
    "        return True\n",
    "    else:\n",
    "        return False"
   ]
  },
  {
   "cell_type": "code",
   "execution_count": 177,
   "metadata": {},
   "outputs": [],
   "source": [
    "def find_decendents(uid, df, codes):\n",
    "    child_rows = df[df[\"Parents\"].apply(lambda x: contain_string(x, uid))]\n",
    "    child_codes = child_rows[\"Class ID\"].tolist()\n",
    "    codes.extend(child_codes)\n",
    "    for child_id in child_codes:\n",
    "        find_decendents(child_id, df, codes)\n",
    "        \n",
    "    "
   ]
  },
  {
   "cell_type": "code",
   "execution_count": 178,
   "metadata": {},
   "outputs": [],
   "source": [
    "mesh_df_with_parents = mesh_df[~mesh_df[\"Parents\"].isna()]"
   ]
  },
  {
   "cell_type": "code",
   "execution_count": 179,
   "metadata": {},
   "outputs": [],
   "source": [
    "mesh_url = \"http://purl.bioontology.org/ontology/MESH/\""
   ]
  },
  {
   "cell_type": "code",
   "execution_count": 180,
   "metadata": {},
   "outputs": [],
   "source": [
    "path_dict = {\"cardiovascular disease\":{\"id\":[\"D002318\"]}, \n",
    "             \"toxic\":{\"id\":[\"D064419\"]},\n",
    "             \"traumatic\":{\"id\":[\"D006259\"]},\n",
    "             \"developmental\":{\"id\":[\"D009358\"]},\n",
    "             \"endocrine diseases\":{\"id\":[\"D004700\"]}, \n",
    "             \"eye diseases\":{\"id\":[\"D005128\"]}, \n",
    "             \"blood disorders\":{\"id\":[\"D006425\"]},\n",
    "             \"immune disorders\":{\"id\":[\"D007154\"]},\n",
    "             \"connective tissue disorders\":{\"id\":[\"D003240\"]},\n",
    "             \"cns infections\":{\"id\":[\"D002394\"]},\n",
    "             \"cns neoplasms\":{\"id\":[\"D009423\"]},\n",
    "             \"cns diseases\":{\"id\":[\"D009422\"]},\n",
    "             \"cns interventions\":{\"id\":[\"D019635\"]},\n",
    "             \"metabolic\":{\"id\":[\"D009750\"]},\n",
    "             \"therapeutic\":{\"id\":[\"D013812\"]}}"
   ]
  },
  {
   "cell_type": "code",
   "execution_count": 181,
   "metadata": {},
   "outputs": [
    {
     "name": "stdout",
     "output_type": "stream",
     "text": [
      "finding code: D002318\n",
      "finding code: D064419\n",
      "finding code: D006259\n",
      "finding code: D009358\n",
      "finding code: D004700\n",
      "finding code: D005128\n",
      "finding code: D006425\n",
      "finding code: D007154\n",
      "finding code: D003240\n",
      "finding code: D002394\n",
      "finding code: D009423\n",
      "finding code: D009422\n",
      "finding code: D019635\n",
      "finding code: D009750\n",
      "finding code: D013812\n"
     ]
    }
   ],
   "source": [
    "for branch_name in path_dict.keys():\n",
    "    branch_decendents = []\n",
    "    for code in path_dict[branch_name][\"id\"]:\n",
    "        print(\"finding code: {}\".format(code))\n",
    "        code_decendents = []\n",
    "        url = mesh_url + code\n",
    "        find_decendents(url, mesh_df_with_parents, code_decendents)\n",
    "        branch_decendents.extend(code_decendents)\n",
    "    path_dict[branch_name][\"decendent_codes\"] = branch_decendents"
   ]
  },
  {
   "cell_type": "code",
   "execution_count": 182,
   "metadata": {},
   "outputs": [],
   "source": [
    "col_names = {\"Class ID\":\"source_ontology_id\",\"Synonyms\":\"synonyms\", \"Preferred Label\":\"concept_name\", \"Parents\":\"source_ontology_parent\"} "
   ]
  },
  {
   "cell_type": "code",
   "execution_count": 183,
   "metadata": {},
   "outputs": [],
   "source": [
    "all_decendent_path_codes = [code for key, val in path_dict.items() for code in val[\"decendent_codes\"]]"
   ]
  },
  {
   "cell_type": "code",
   "execution_count": 184,
   "metadata": {},
   "outputs": [],
   "source": [
    "decendent_path_items = mesh_df_with_parents[mesh_df_with_parents[\"Class ID\"].isin(all_decendent_path_codes)]"
   ]
  },
  {
   "cell_type": "code",
   "execution_count": 185,
   "metadata": {},
   "outputs": [],
   "source": [
    "to_drop = list(filter(lambda x: x not in col_names.keys(), decendent_path_items.columns)) "
   ]
  },
  {
   "cell_type": "code",
   "execution_count": 186,
   "metadata": {},
   "outputs": [],
   "source": [
    "decendent_path_items = decendent_path_items.rename(columns=col_names)\n",
    "decendent_path_items = decendent_path_items.drop(to_drop,axis=1)\n",
    "decendent_path_items[\"source_ontology\"] = \"MESH\"\n",
    "decendent_path_items[\"source_ontology_id\"] = decendent_path_items[\"source_ontology_id\"].str.replace(mesh_url, \"\", regex=False)\n",
    "decendent_path_items[\"source_ontology_parent\"] = decendent_path_items[\"source_ontology_parent\"].str.replace(mesh_url, \"\",regex=False)\n",
    "decendent_path_items[\"concept_name\"] = decendent_path_items[\"concept_name\"].str.lower()\n",
    "decendent_path_items[\"synonyms\"] = decendent_path_items[\"synonyms\"].str.lower()"
   ]
  },
  {
   "cell_type": "code",
   "execution_count": 187,
   "metadata": {},
   "outputs": [
    {
     "data": {
      "text/html": [
       "<div>\n",
       "<style scoped>\n",
       "    .dataframe tbody tr th:only-of-type {\n",
       "        vertical-align: middle;\n",
       "    }\n",
       "\n",
       "    .dataframe tbody tr th {\n",
       "        vertical-align: top;\n",
       "    }\n",
       "\n",
       "    .dataframe thead th {\n",
       "        text-align: right;\n",
       "    }\n",
       "</style>\n",
       "<table border=\"1\" class=\"dataframe\">\n",
       "  <thead>\n",
       "    <tr style=\"text-align: right;\">\n",
       "      <th></th>\n",
       "      <th>source_ontology_id</th>\n",
       "      <th>concept_name</th>\n",
       "      <th>synonyms</th>\n",
       "      <th>source_ontology_parent</th>\n",
       "      <th>source_ontology</th>\n",
       "    </tr>\n",
       "  </thead>\n",
       "  <tbody>\n",
       "    <tr>\n",
       "      <th>172</th>\n",
       "      <td>D065707</td>\n",
       "      <td>schizencephaly</td>\n",
       "      <td>cyst, schizencephalic|cysts, schizencephalic|s...</td>\n",
       "      <td>D065704</td>\n",
       "      <td>MESH</td>\n",
       "    </tr>\n",
       "    <tr>\n",
       "      <th>316</th>\n",
       "      <td>D017379</td>\n",
       "      <td>hypertrophy, left ventricular</td>\n",
       "      <td>hypertrophies, left ventricular|left ventricul...</td>\n",
       "      <td>D006332</td>\n",
       "      <td>MESH</td>\n",
       "    </tr>\n",
       "    <tr>\n",
       "      <th>336</th>\n",
       "      <td>D012162</td>\n",
       "      <td>retinal degeneration</td>\n",
       "      <td>degeneration, retinal|retinal degenerations|de...</td>\n",
       "      <td>D015785|D012164</td>\n",
       "      <td>MESH</td>\n",
       "    </tr>\n",
       "    <tr>\n",
       "      <th>460</th>\n",
       "      <td>D007715</td>\n",
       "      <td>klippel-trenaunay-weber syndrome</td>\n",
       "      <td>angioosteohypertrophy syndromes|syndromes, ang...</td>\n",
       "      <td>D000798</td>\n",
       "      <td>MESH</td>\n",
       "    </tr>\n",
       "    <tr>\n",
       "      <th>491</th>\n",
       "      <td>D055676</td>\n",
       "      <td>viscosupplementation</td>\n",
       "      <td>viscosupplementations</td>\n",
       "      <td>D019637|D007270</td>\n",
       "      <td>MESH</td>\n",
       "    </tr>\n",
       "  </tbody>\n",
       "</table>\n",
       "</div>"
      ],
      "text/plain": [
       "    source_ontology_id                      concept_name  \\\n",
       "172            D065707                    schizencephaly   \n",
       "316            D017379     hypertrophy, left ventricular   \n",
       "336            D012162              retinal degeneration   \n",
       "460            D007715  klippel-trenaunay-weber syndrome   \n",
       "491            D055676              viscosupplementation   \n",
       "\n",
       "                                              synonyms source_ontology_parent  \\\n",
       "172  cyst, schizencephalic|cysts, schizencephalic|s...                D065704   \n",
       "316  hypertrophies, left ventricular|left ventricul...                D006332   \n",
       "336  degeneration, retinal|retinal degenerations|de...        D015785|D012164   \n",
       "460  angioosteohypertrophy syndromes|syndromes, ang...                D000798   \n",
       "491                              viscosupplementations        D019637|D007270   \n",
       "\n",
       "    source_ontology  \n",
       "172            MESH  \n",
       "316            MESH  \n",
       "336            MESH  \n",
       "460            MESH  \n",
       "491            MESH  "
      ]
     },
     "execution_count": 187,
     "metadata": {},
     "output_type": "execute_result"
    }
   ],
   "source": [
    "decendent_path_items.head()"
   ]
  },
  {
   "cell_type": "markdown",
   "metadata": {},
   "source": [
    "# Descriptors"
   ]
  },
  {
   "cell_type": "code",
   "execution_count": 188,
   "metadata": {},
   "outputs": [],
   "source": [
    "radlex_df_with_parents = radlex_df[~radlex_df[\"Parents\"].isna()]"
   ]
  },
  {
   "cell_type": "code",
   "execution_count": 189,
   "metadata": {},
   "outputs": [],
   "source": [
    "def find_decendents_radlex(uid, df, codes):\n",
    "    child_rows = df[df[\"Parents\"]==uid]\n",
    "    child_codes = child_rows[\"Class ID\"].tolist()\n",
    "    codes.extend(child_codes)\n",
    "    for child_id in child_codes:\n",
    "        find_decendents_radlex(child_id, df, codes)"
   ]
  },
  {
   "cell_type": "code",
   "execution_count": 190,
   "metadata": {},
   "outputs": [],
   "source": [
    "radlex_url = \"http://radlex.org/RID/\""
   ]
  },
  {
   "cell_type": "code",
   "execution_count": 191,
   "metadata": {},
   "outputs": [],
   "source": [
    "descr_dict = {\"workflow\":{\"id\":[\"RID45812\"]},\n",
    "              \"foreign object\":{\"id\":[\"RID34861\"]}, \n",
    "              \"imaging procedure\":{\"id\":[\"RID13060\"]}, \n",
    "              \"interventional imaging\":{\"id\":[\"RID11005\"]},\n",
    "              \"treatment\":{\"id\":[\"RID8\"]},\n",
    "              \"signs\":{\"id\":[\"RID29023\"]}, \n",
    "              \"confidence\":{\"id\":[\"RID29\"]}, \n",
    "              \"image quality\":{\"id\":[\"RID10\",\"RID39077\"]}, \n",
    "              \"image procedure properties\":{\"id\":[\"RID10638\"]}, \n",
    "              \"quantity\":{\"id\":[\"RID5761\"]},\n",
    "              \"size\":{\"id\":[\"RID5772\"]},\n",
    "              \"distribution\":{\"id\":[\"RID5958\"]}, \n",
    "              \"motion\":{\"id\":[\"RID5921\",\"RID34327\"]},\n",
    "              \"extent\":{\"id\":[\"RID5683\"]},\n",
    "              \"temporal\":{\"id\":[\"RID5716\"]},\n",
    "              \"healing\":{\"id\":[\"RID6351\"]},\n",
    "              \"aetiological\":{\"id\":[\"RID5657\"]},\n",
    "              \"disruptiveness\":{\"id\":[\"RID5675\"]},\n",
    "              \"contrast\":{\"id\":[\"RID34300\",\"RID6058\"]},\n",
    "              \"composition\":{\"id\":[\"RID5738\"]},\n",
    "              \"morphology\":{\"id\":[\"RID5863\",\"RID38770\"]},\n",
    "              \"signal\":{\"id\":[\"RID6049\"]},\n",
    "              \"lesional\":{\"id\":[\"RID43356\",\"RID5972\"]},\n",
    "              \"aggressiveness\":{\"id\":[\"RID5675\"]},\n",
    "              \"orientation location\":{\"id\":[\"RID5817\",\"RID5851\"]}}"
   ]
  },
  {
   "cell_type": "code",
   "execution_count": 192,
   "metadata": {},
   "outputs": [
    {
     "name": "stdout",
     "output_type": "stream",
     "text": [
      "finding code: RID45812\n",
      "finding code: RID34861\n",
      "finding code: RID13060\n",
      "finding code: RID11005\n",
      "finding code: RID8\n",
      "finding code: RID29023\n",
      "finding code: RID29\n",
      "finding code: RID10\n",
      "finding code: RID39077\n",
      "finding code: RID10638\n",
      "finding code: RID5761\n",
      "finding code: RID5772\n",
      "finding code: RID5958\n",
      "finding code: RID5921\n",
      "finding code: RID34327\n",
      "finding code: RID5683\n",
      "finding code: RID5716\n",
      "finding code: RID6351\n",
      "finding code: RID5657\n",
      "finding code: RID5675\n",
      "finding code: RID34300\n",
      "finding code: RID6058\n",
      "finding code: RID5738\n",
      "finding code: RID5863\n",
      "finding code: RID38770\n",
      "finding code: RID6049\n",
      "finding code: RID43356\n",
      "finding code: RID5972\n",
      "finding code: RID5675\n",
      "finding code: RID5817\n",
      "finding code: RID5851\n"
     ]
    }
   ],
   "source": [
    "for branch_name in descr_dict.keys():\n",
    "    branch_decendents = []\n",
    "    for code in descr_dict[branch_name][\"id\"]:\n",
    "        print(\"finding code: {}\".format(code))\n",
    "        code_decendents = []\n",
    "        url = radlex_url + code\n",
    "        find_decendents_radlex(url, radlex_df_with_parents, code_decendents)\n",
    "        branch_decendents.extend(code_decendents)\n",
    "    descr_dict[branch_name][\"decendent_codes\"] = branch_decendents"
   ]
  },
  {
   "cell_type": "code",
   "execution_count": 193,
   "metadata": {},
   "outputs": [],
   "source": [
    "all_decendent_descr_codes = [code for key, val in descr_dict.items() for code in val[\"decendent_codes\"]]"
   ]
  },
  {
   "cell_type": "code",
   "execution_count": 194,
   "metadata": {},
   "outputs": [],
   "source": [
    "decendent_descr_items = radlex_df_with_parents[radlex_df_with_parents[\"Class ID\"].isin(all_decendent_descr_codes)]"
   ]
  },
  {
   "cell_type": "markdown",
   "metadata": {},
   "source": [
    "## Convert to format"
   ]
  },
  {
   "cell_type": "code",
   "execution_count": 195,
   "metadata": {},
   "outputs": [],
   "source": [
    "to_drop = list(filter(lambda x: x not in col_names.keys(), decendent_descr_items.columns)) "
   ]
  },
  {
   "cell_type": "code",
   "execution_count": 196,
   "metadata": {},
   "outputs": [],
   "source": [
    "decendent_descr_items = decendent_descr_items.rename(columns=col_names)\n",
    "decendent_descr_items = decendent_descr_items.drop(to_drop,axis=1)\n",
    "decendent_descr_items[\"source_ontology\"] = \"RADLEX\"\n",
    "decendent_descr_items[\"source_ontology_id\"] = decendent_descr_items[\"source_ontology_id\"].str.replace(radlex_url, \"\", regex=False)\n",
    "decendent_descr_items[\"source_ontology_parent\"] = decendent_descr_items[\"source_ontology_parent\"].str.replace(radlex_url, \"\",regex=False)\n",
    "decendent_descr_items[\"concept_name\"] = decendent_descr_items[\"concept_name\"].str.lower()\n",
    "decendent_descr_items[\"synonyms\"] = decendent_descr_items[\"synonyms\"].str.lower()"
   ]
  },
  {
   "cell_type": "code",
   "execution_count": 197,
   "metadata": {},
   "outputs": [
    {
     "data": {
      "text/html": [
       "<div>\n",
       "<style scoped>\n",
       "    .dataframe tbody tr th:only-of-type {\n",
       "        vertical-align: middle;\n",
       "    }\n",
       "\n",
       "    .dataframe tbody tr th {\n",
       "        vertical-align: top;\n",
       "    }\n",
       "\n",
       "    .dataframe thead th {\n",
       "        text-align: right;\n",
       "    }\n",
       "</style>\n",
       "<table border=\"1\" class=\"dataframe\">\n",
       "  <thead>\n",
       "    <tr style=\"text-align: right;\">\n",
       "      <th></th>\n",
       "      <th>source_ontology_id</th>\n",
       "      <th>concept_name</th>\n",
       "      <th>synonyms</th>\n",
       "      <th>source_ontology_parent</th>\n",
       "      <th>source_ontology</th>\n",
       "    </tr>\n",
       "  </thead>\n",
       "  <tbody>\n",
       "    <tr>\n",
       "      <th>21267</th>\n",
       "      <td>RID45924</td>\n",
       "      <td>final report approved</td>\n",
       "      <td>reported</td>\n",
       "      <td>RID45812</td>\n",
       "      <td>RADLEX</td>\n",
       "    </tr>\n",
       "    <tr>\n",
       "      <th>26196</th>\n",
       "      <td>RID3874</td>\n",
       "      <td>mass</td>\n",
       "      <td>area of enhancement|focus|density|lesion|nodul...</td>\n",
       "      <td>RID38780</td>\n",
       "      <td>RADLEX</td>\n",
       "    </tr>\n",
       "    <tr>\n",
       "      <th>42383</th>\n",
       "      <td>RID35176</td>\n",
       "      <td>dripping candle wax sign</td>\n",
       "      <td>dripping candle sign|dripping candlewax sign|f...</td>\n",
       "      <td>RID29023</td>\n",
       "      <td>RADLEX</td>\n",
       "    </tr>\n",
       "    <tr>\n",
       "      <th>28324</th>\n",
       "      <td>RID39225</td>\n",
       "      <td>nonevaluable</td>\n",
       "      <td>not evaluable</td>\n",
       "      <td>RID39077</td>\n",
       "      <td>RADLEX</td>\n",
       "    </tr>\n",
       "    <tr>\n",
       "      <th>45447</th>\n",
       "      <td>RID45959</td>\n",
       "      <td>prepworknotcomplete</td>\n",
       "      <td>prep work not complete</td>\n",
       "      <td>RID45953</td>\n",
       "      <td>RADLEX</td>\n",
       "    </tr>\n",
       "    <tr>\n",
       "      <th>46676</th>\n",
       "      <td>RID45992</td>\n",
       "      <td>risdown</td>\n",
       "      <td>ris down</td>\n",
       "      <td>RID45985</td>\n",
       "      <td>RADLEX</td>\n",
       "    </tr>\n",
       "    <tr>\n",
       "      <th>7591</th>\n",
       "      <td>RID45951</td>\n",
       "      <td>tracerorder</td>\n",
       "      <td>tracer order</td>\n",
       "      <td>RID45812</td>\n",
       "      <td>RADLEX</td>\n",
       "    </tr>\n",
       "    <tr>\n",
       "      <th>35609</th>\n",
       "      <td>RID34404</td>\n",
       "      <td>mickey mouse sign of liver</td>\n",
       "      <td>mickey mouse sign</td>\n",
       "      <td>RID29023</td>\n",
       "      <td>RADLEX</td>\n",
       "    </tr>\n",
       "    <tr>\n",
       "      <th>13584</th>\n",
       "      <td>RID45927</td>\n",
       "      <td>reqlabsreviewed</td>\n",
       "      <td>lab tests reviewed|required labs reviewed|requ...</td>\n",
       "      <td>RID45812</td>\n",
       "      <td>RADLEX</td>\n",
       "    </tr>\n",
       "    <tr>\n",
       "      <th>46602</th>\n",
       "      <td>RID10767</td>\n",
       "      <td>radial k-space trajectory</td>\n",
       "      <td>projection reconstruction|projection acquisition</td>\n",
       "      <td>RID10766</td>\n",
       "      <td>RADLEX</td>\n",
       "    </tr>\n",
       "  </tbody>\n",
       "</table>\n",
       "</div>"
      ],
      "text/plain": [
       "      source_ontology_id                concept_name  \\\n",
       "21267           RID45924       final report approved   \n",
       "26196            RID3874                        mass   \n",
       "42383           RID35176    dripping candle wax sign   \n",
       "28324           RID39225                nonevaluable   \n",
       "45447           RID45959         prepworknotcomplete   \n",
       "46676           RID45992                     risdown   \n",
       "7591            RID45951                 tracerorder   \n",
       "35609           RID34404  mickey mouse sign of liver   \n",
       "13584           RID45927             reqlabsreviewed   \n",
       "46602           RID10767   radial k-space trajectory   \n",
       "\n",
       "                                                synonyms  \\\n",
       "21267                                           reported   \n",
       "26196  area of enhancement|focus|density|lesion|nodul...   \n",
       "42383  dripping candle sign|dripping candlewax sign|f...   \n",
       "28324                                      not evaluable   \n",
       "45447                             prep work not complete   \n",
       "46676                                           ris down   \n",
       "7591                                        tracer order   \n",
       "35609                                  mickey mouse sign   \n",
       "13584  lab tests reviewed|required labs reviewed|requ...   \n",
       "46602   projection reconstruction|projection acquisition   \n",
       "\n",
       "      source_ontology_parent source_ontology  \n",
       "21267               RID45812          RADLEX  \n",
       "26196               RID38780          RADLEX  \n",
       "42383               RID29023          RADLEX  \n",
       "28324               RID39077          RADLEX  \n",
       "45447               RID45953          RADLEX  \n",
       "46676               RID45985          RADLEX  \n",
       "7591                RID45812          RADLEX  \n",
       "35609               RID29023          RADLEX  \n",
       "13584               RID45812          RADLEX  \n",
       "46602               RID10766          RADLEX  "
      ]
     },
     "execution_count": 197,
     "metadata": {},
     "output_type": "execute_result"
    }
   ],
   "source": [
    "decendent_descr_items[~decendent_descr_items[\"synonyms\"].isna()].sample(10)"
   ]
  },
  {
   "cell_type": "markdown",
   "metadata": {},
   "source": [
    "# Combine all three components"
   ]
  },
  {
   "cell_type": "code",
   "execution_count": 198,
   "metadata": {},
   "outputs": [],
   "source": [
    "total_decendent_onto = pd.concat([decendent_descr_items, decendent_path_items, anatomy_df])"
   ]
  },
  {
   "cell_type": "code",
   "execution_count": 199,
   "metadata": {},
   "outputs": [
    {
     "data": {
      "text/html": [
       "<div>\n",
       "<style scoped>\n",
       "    .dataframe tbody tr th:only-of-type {\n",
       "        vertical-align: middle;\n",
       "    }\n",
       "\n",
       "    .dataframe tbody tr th {\n",
       "        vertical-align: top;\n",
       "    }\n",
       "\n",
       "    .dataframe thead th {\n",
       "        text-align: right;\n",
       "    }\n",
       "</style>\n",
       "<table border=\"1\" class=\"dataframe\">\n",
       "  <thead>\n",
       "    <tr style=\"text-align: right;\">\n",
       "      <th></th>\n",
       "      <th>source_ontology_id</th>\n",
       "      <th>concept_name</th>\n",
       "      <th>synonyms</th>\n",
       "      <th>source_ontology_parent</th>\n",
       "      <th>source_ontology</th>\n",
       "    </tr>\n",
       "  </thead>\n",
       "  <tbody>\n",
       "    <tr>\n",
       "      <th>664</th>\n",
       "      <td>T6027</td>\n",
       "      <td>central reticular nucleus</td>\n",
       "      <td></td>\n",
       "      <td>T6026</td>\n",
       "      <td>TA2</td>\n",
       "    </tr>\n",
       "    <tr>\n",
       "      <th>9584</th>\n",
       "      <td>RID38662</td>\n",
       "      <td>innumerable</td>\n",
       "      <td>NaN</td>\n",
       "      <td>RID5765</td>\n",
       "      <td>RADLEX</td>\n",
       "    </tr>\n",
       "    <tr>\n",
       "      <th>24979</th>\n",
       "      <td>RID35452</td>\n",
       "      <td>polka-dot sign</td>\n",
       "      <td>polka-dot pattern</td>\n",
       "      <td>RID29023</td>\n",
       "      <td>RADLEX</td>\n",
       "    </tr>\n",
       "    <tr>\n",
       "      <th>132</th>\n",
       "      <td>T5495</td>\n",
       "      <td>middle temporal gyrus</td>\n",
       "      <td></td>\n",
       "      <td>T5488</td>\n",
       "      <td>TA2</td>\n",
       "    </tr>\n",
       "    <tr>\n",
       "      <th>13345</th>\n",
       "      <td>D055091</td>\n",
       "      <td>bronchomalacia</td>\n",
       "      <td>bronchi chondromalacia|chondromalacia of bronc...</td>\n",
       "      <td>D055089</td>\n",
       "      <td>MESH</td>\n",
       "    </tr>\n",
       "  </tbody>\n",
       "</table>\n",
       "</div>"
      ],
      "text/plain": [
       "      source_ontology_id               concept_name  \\\n",
       "664                T6027  central reticular nucleus   \n",
       "9584            RID38662                innumerable   \n",
       "24979           RID35452             polka-dot sign   \n",
       "132                T5495      middle temporal gyrus   \n",
       "13345            D055091             bronchomalacia   \n",
       "\n",
       "                                                synonyms  \\\n",
       "664                                                        \n",
       "9584                                                 NaN   \n",
       "24979                                  polka-dot pattern   \n",
       "132                                                        \n",
       "13345  bronchi chondromalacia|chondromalacia of bronc...   \n",
       "\n",
       "      source_ontology_parent source_ontology  \n",
       "664                    T6026             TA2  \n",
       "9584                 RID5765          RADLEX  \n",
       "24979               RID29023          RADLEX  \n",
       "132                    T5488             TA2  \n",
       "13345                D055089            MESH  "
      ]
     },
     "execution_count": 199,
     "metadata": {},
     "output_type": "execute_result"
    }
   ],
   "source": [
    "total_decendent_onto.sample(5)"
   ]
  },
  {
   "cell_type": "markdown",
   "metadata": {},
   "source": [
    "## Add custom top layers"
   ]
  },
  {
   "cell_type": "code",
   "execution_count": 200,
   "metadata": {},
   "outputs": [],
   "source": [
    "\n",
    "custom_layer = {\"source_ontology_id\": [\"QSX0\", \"QSX1\", \"QSX2\",\"QSX3\"], \n",
    "                \"concept_name\":[\"root_entity\", \"pathology\", \"anatomy\",\"descriptor\"],\n",
    "                \"synonyms\":[\"\",\"\",\"\",\"\"],\n",
    "                \"source_ontology_parent\":[\"\",\"QSX0\",\"QSX0\",\"QSX0\"],\n",
    "                \"source_ontology\":[\"QSXNEURO\", \"QSXNEURO\",\"QSXNEURO\",\"QSXNEURO\"]}\n",
    "\n",
    "custom_df = pd.DataFrame(data=custom_layer)"
   ]
  },
  {
   "cell_type": "code",
   "execution_count": 201,
   "metadata": {},
   "outputs": [],
   "source": [
    "top_mesh_layer = {\"source_ontology_id\": [\"QSX\"+str(i+4) for i in range(15)], \n",
    "                \"concept_name\":[\"cardiovascular disease\",\n",
    "                                \"toxic\",\n",
    "                                \"traumatic\",\n",
    "                                \"developmental\",\n",
    "                                \"endocrine diseases\",\n",
    "                                \"eye diseases\",\n",
    "                                \"blood disorders\",\n",
    "                                \"immune disorders\",\n",
    "                                \"connective tissue disorders\",\n",
    "                                \"cns infections\",\n",
    "                                \"cns neoplasms\",\n",
    "                                \"cns diseases\",\n",
    "                                \"cns interventions\",\n",
    "                                \"metabolic\",\n",
    "                                \"therapeutic\"\n",
    "                               ],\n",
    "                \"synonyms\":[\"\" for i in range(15)],\n",
    "                \"source_ontology_parent\":[\"QSX1\" for i in range(15)],\n",
    "                \"source_ontology\":[\"QSXNEURO\" for i in range(15)]}\n",
    "\n",
    "top_radlex_layer = {\"source_ontology_id\": [\"QSX\"+str(i+19) for i in range(36)], \n",
    "                \"concept_name\":[\"workflow\",\n",
    "                                \"foreign object\",\n",
    "                                \"imaging procedure\",\n",
    "                                \"interventional imaging\",\n",
    "                                \"treatment\",\n",
    "                                \"signs\",\n",
    "                                \"confidence\",\n",
    "                                \"image quality\",\n",
    "                                \"image procedure properties\",\n",
    "                                \"quantity\",\n",
    "                                \"size\",\n",
    "                                \"distribution\",\n",
    "                                \"motion\",\n",
    "                                \"extent\",\n",
    "                                \"temporal\",\n",
    "                                \"healing\",\n",
    "                                \"aetiological\",\n",
    "                                \"disruptiveness\",\n",
    "                                \"contrast\",\n",
    "                                \"composition\",\n",
    "                                \"morphology\",\n",
    "                                \"signal\",\n",
    "                                \"lesional\",\n",
    "                                \"aggressiveness\",\n",
    "                                \"orientation location\",\n",
    "                                \"administrative descriptor\",\n",
    "                                \"extrinsic descriptor\",\n",
    "                                \"interventional descriptor\",\n",
    "                                \"meta-descriptor\",\n",
    "                                \"interpretive\",\n",
    "                                \"instrumental\",\n",
    "                                \"biological descriptor\",\n",
    "                                \"natural descriptor\",\n",
    "                                \"absolute metric\",\n",
    "                                \"relative metric\",\n",
    "                                \"intrinsic characteristic\",\n",
    "                               ],\n",
    "                \"synonyms\":[\"\" for i in range(36)],\n",
    "                \"source_ontology_parent\":[\"QSX41\",\n",
    "                                          \"QSX45\",\n",
    "                                          \"QSX3\",\n",
    "                                          \"QSX46\",\n",
    "                                          \"QSX46\",\n",
    "                                          \"QSX47\",\n",
    "                                          \"QSX47\",\n",
    "                                          \"QSX49\",\n",
    "                                          \"QSX49\",\n",
    "                                          \"QSX52\",\n",
    "                                          \"QSX52\",\n",
    "                                          \"QSX52\",\n",
    "                                          \"QSX52\",\n",
    "                                          \"QSX48\",\n",
    "                                          \"QSX48\",\n",
    "                                          \"QSX48\",\n",
    "                                          \"QSX48\",\n",
    "                                          \"QSX48\",\n",
    "                                          \"QSX54\",\n",
    "                                          \"QSX54\",\n",
    "                                          \"QSX54\",\n",
    "                                          \"QSX54\",\n",
    "                                          \"QSX54\",\n",
    "                                          \"QSX53\",\n",
    "                                          \"QSX53\",\n",
    "                                          \"QSX3\",\n",
    "                                          \"QSX3\",\n",
    "                                          \"QSX50\",\n",
    "                                          \"QSX51\",\n",
    "                                          \"QSX51\",\n",
    "                                          \"QSX3\",\n",
    "                                          \"QSX3\",\n",
    "                                          \"QSX50\",\n",
    "                                          \"QSX51\",\n",
    "                                          \"QSX51\",\n",
    "                                          \"QSX51\"\n",
    "                                         ],\n",
    "                \"source_ontology\":[\"QSXNEURO\" for i in range(36)]}"
   ]
  },
  {
   "cell_type": "code",
   "execution_count": 202,
   "metadata": {},
   "outputs": [],
   "source": [
    "top_mesh_df = pd.DataFrame(data=top_mesh_layer)\n",
    "top_radlex_df = pd.DataFrame(data=top_radlex_layer)"
   ]
  },
  {
   "cell_type": "code",
   "execution_count": 203,
   "metadata": {},
   "outputs": [],
   "source": [
    "total_onto = pd.concat([total_decendent_onto,top_radlex_df,top_mesh_df,custom_df])"
   ]
  },
  {
   "cell_type": "code",
   "execution_count": 204,
   "metadata": {},
   "outputs": [],
   "source": [
    "total_onto[\"cui\"] = [\"QS\" + str(i) for i in range(len(total_onto))]\n",
    "total_onto[\"ontology\"] = \"QSNEURO\"\n",
    "total_onto[\"is_preferred_name\"] = 1"
   ]
  },
  {
   "cell_type": "markdown",
   "metadata": {},
   "source": [
    "## drop duplicate names"
   ]
  },
  {
   "cell_type": "code",
   "execution_count": 205,
   "metadata": {},
   "outputs": [],
   "source": [
    "total_onto = total_onto.drop(total_onto[(total_onto[\"concept_name\"].duplicated(keep=False)) & (total_onto[\"source_ontology\"]==\"RADLEX\")].index)"
   ]
  },
  {
   "cell_type": "code",
   "execution_count": 206,
   "metadata": {},
   "outputs": [
    {
     "data": {
      "text/plain": [
       "False    7959\n",
       "Name: concept_name, dtype: int64"
      ]
     },
     "execution_count": 206,
     "metadata": {},
     "output_type": "execute_result"
    }
   ],
   "source": [
    "total_onto[\"concept_name\"].duplicated().value_counts()"
   ]
  },
  {
   "cell_type": "markdown",
   "metadata": {},
   "source": [
    "## Split up synonyms"
   ]
  },
  {
   "cell_type": "code",
   "execution_count": 207,
   "metadata": {},
   "outputs": [],
   "source": [
    "total_onto[\"synonyms\"] = total_onto[\"synonyms\"].str.lower()"
   ]
  },
  {
   "cell_type": "code",
   "execution_count": 208,
   "metadata": {},
   "outputs": [],
   "source": [
    "total_onto.loc[total_onto[\"synonyms\"].isna(), \"synonyms\"] = \"\" #total_onto.loc[total_onto[\"synonyms\"].isna(),\"concept_name\"]"
   ]
  },
  {
   "cell_type": "code",
   "execution_count": 209,
   "metadata": {},
   "outputs": [],
   "source": [
    "total_onto.loc[total_onto[\"synonyms\"].str.isspace(), \"synonyms\"] = \"\" #total_onto.loc[total_onto[\"synonyms\"].str.isspace(),\"concept_name\"]"
   ]
  },
  {
   "cell_type": "code",
   "execution_count": 210,
   "metadata": {},
   "outputs": [],
   "source": [
    "total_onto.loc[total_onto[\"synonyms\"]==\"\", \"synonyms\"] = total_onto.loc[total_onto[\"synonyms\"]==\"\", \"concept_name\"]"
   ]
  },
  {
   "cell_type": "code",
   "execution_count": 211,
   "metadata": {},
   "outputs": [],
   "source": [
    "total_onto.loc[total_onto[\"synonyms\"]!=total_onto[\"concept_name\"], \"synonyms\"] = total_onto.loc[total_onto[\"synonyms\"]!=total_onto[\"concept_name\"], \"concept_name\"]+\"|\"+ total_onto.loc[total_onto[\"synonyms\"]!=total_onto[\"concept_name\"], \"synonyms\"]"
   ]
  },
  {
   "cell_type": "code",
   "execution_count": 212,
   "metadata": {},
   "outputs": [],
   "source": [
    "total_onto[\"synonyms\"] = total_onto[\"synonyms\"].str.split(\"|\")"
   ]
  },
  {
   "cell_type": "code",
   "execution_count": 213,
   "metadata": {},
   "outputs": [],
   "source": [
    "total_onto = total_onto.explode(\"synonyms\")"
   ]
  },
  {
   "cell_type": "code",
   "execution_count": 214,
   "metadata": {},
   "outputs": [],
   "source": [
    "total_onto[\"is_preferred_name\"] = total_onto[\"concept_name\"] == total_onto[\"synonyms\"] "
   ]
  },
  {
   "cell_type": "code",
   "execution_count": 215,
   "metadata": {},
   "outputs": [],
   "source": [
    "total_onto = total_onto.rename(columns={\"concept_name\":\"preferred_name\", \"synonyms\":\"concept_name\"})"
   ]
  },
  {
   "cell_type": "code",
   "execution_count": 216,
   "metadata": {},
   "outputs": [
    {
     "data": {
      "text/html": [
       "<div>\n",
       "<style scoped>\n",
       "    .dataframe tbody tr th:only-of-type {\n",
       "        vertical-align: middle;\n",
       "    }\n",
       "\n",
       "    .dataframe tbody tr th {\n",
       "        vertical-align: top;\n",
       "    }\n",
       "\n",
       "    .dataframe thead th {\n",
       "        text-align: right;\n",
       "    }\n",
       "</style>\n",
       "<table border=\"1\" class=\"dataframe\">\n",
       "  <thead>\n",
       "    <tr style=\"text-align: right;\">\n",
       "      <th></th>\n",
       "      <th>source_ontology_id</th>\n",
       "      <th>preferred_name</th>\n",
       "      <th>concept_name</th>\n",
       "      <th>source_ontology_parent</th>\n",
       "      <th>source_ontology</th>\n",
       "      <th>cui</th>\n",
       "      <th>ontology</th>\n",
       "      <th>is_preferred_name</th>\n",
       "    </tr>\n",
       "  </thead>\n",
       "  <tbody>\n",
       "    <tr>\n",
       "      <th>287143</th>\n",
       "      <td>D052496</td>\n",
       "      <td>lipodystrophy, familial partial</td>\n",
       "      <td>lipodystrophy, familial, of limbs and lower trunk</td>\n",
       "      <td>D000083083|D008060</td>\n",
       "      <td>MESH</td>\n",
       "      <td>QS6127</td>\n",
       "      <td>QSNEURO</td>\n",
       "      <td>False</td>\n",
       "    </tr>\n",
       "    <tr>\n",
       "      <th>133167</th>\n",
       "      <td>D020216</td>\n",
       "      <td>carotid-cavernous sinus fistula</td>\n",
       "      <td>traumatic carotid-cavernous sinus fistula</td>\n",
       "      <td>D001164|D002340|D020212</td>\n",
       "      <td>MESH</td>\n",
       "      <td>QS4243</td>\n",
       "      <td>QSNEURO</td>\n",
       "      <td>False</td>\n",
       "    </tr>\n",
       "    <tr>\n",
       "      <th>39038</th>\n",
       "      <td>RID45831</td>\n",
       "      <td>attemptedcritnotify</td>\n",
       "      <td>critical event notify begun</td>\n",
       "      <td>RID45812</td>\n",
       "      <td>RADLEX</td>\n",
       "      <td>QS2210</td>\n",
       "      <td>QSNEURO</td>\n",
       "      <td>False</td>\n",
       "    </tr>\n",
       "    <tr>\n",
       "      <th>232863</th>\n",
       "      <td>D003117</td>\n",
       "      <td>color vision defects</td>\n",
       "      <td>color vision defect</td>\n",
       "      <td>D000077765|D014786</td>\n",
       "      <td>MESH</td>\n",
       "      <td>QS5480</td>\n",
       "      <td>QSNEURO</td>\n",
       "      <td>False</td>\n",
       "    </tr>\n",
       "    <tr>\n",
       "      <th>28300</th>\n",
       "      <td>D013071</td>\n",
       "      <td>speech, alaryngeal</td>\n",
       "      <td>productions, alaryngeal voice</td>\n",
       "      <td>D012049</td>\n",
       "      <td>MESH</td>\n",
       "      <td>QS2981</td>\n",
       "      <td>QSNEURO</td>\n",
       "      <td>False</td>\n",
       "    </tr>\n",
       "    <tr>\n",
       "      <th>112109</th>\n",
       "      <td>D049310</td>\n",
       "      <td>distal myopathies</td>\n",
       "      <td>udd-markesbery muscular dystrophy</td>\n",
       "      <td>D009136</td>\n",
       "      <td>MESH</td>\n",
       "      <td>QS3982</td>\n",
       "      <td>QSNEURO</td>\n",
       "      <td>False</td>\n",
       "    </tr>\n",
       "    <tr>\n",
       "      <th>139365</th>\n",
       "      <td>D009187</td>\n",
       "      <td>myelitis</td>\n",
       "      <td>subacute necrotizing myelitis</td>\n",
       "      <td>D013118|D002494</td>\n",
       "      <td>MESH</td>\n",
       "      <td>QS4336</td>\n",
       "      <td>QSNEURO</td>\n",
       "      <td>False</td>\n",
       "    </tr>\n",
       "    <tr>\n",
       "      <th>14875</th>\n",
       "      <td>D020222</td>\n",
       "      <td>abducens nerve injury</td>\n",
       "      <td>abducens nerve traumas</td>\n",
       "      <td>D020434|D020209</td>\n",
       "      <td>MESH</td>\n",
       "      <td>QS2802</td>\n",
       "      <td>QSNEURO</td>\n",
       "      <td>False</td>\n",
       "    </tr>\n",
       "    <tr>\n",
       "      <th>53919</th>\n",
       "      <td>D056147</td>\n",
       "      <td>equine-assisted therapy</td>\n",
       "      <td>riding therapies, horseback</td>\n",
       "      <td>D056447</td>\n",
       "      <td>MESH</td>\n",
       "      <td>QS3285</td>\n",
       "      <td>QSNEURO</td>\n",
       "      <td>False</td>\n",
       "    </tr>\n",
       "    <tr>\n",
       "      <th>130059</th>\n",
       "      <td>D015840</td>\n",
       "      <td>oculomotor nerve diseases</td>\n",
       "      <td>partial third nerve palsy</td>\n",
       "      <td>D015835</td>\n",
       "      <td>MESH</td>\n",
       "      <td>QS4201</td>\n",
       "      <td>QSNEURO</td>\n",
       "      <td>False</td>\n",
       "    </tr>\n",
       "  </tbody>\n",
       "</table>\n",
       "</div>"
      ],
      "text/plain": [
       "       source_ontology_id                   preferred_name  \\\n",
       "287143            D052496  lipodystrophy, familial partial   \n",
       "133167            D020216  carotid-cavernous sinus fistula   \n",
       "39038            RID45831              attemptedcritnotify   \n",
       "232863            D003117             color vision defects   \n",
       "28300             D013071               speech, alaryngeal   \n",
       "112109            D049310                distal myopathies   \n",
       "139365            D009187                         myelitis   \n",
       "14875             D020222            abducens nerve injury   \n",
       "53919             D056147          equine-assisted therapy   \n",
       "130059            D015840        oculomotor nerve diseases   \n",
       "\n",
       "                                             concept_name  \\\n",
       "287143  lipodystrophy, familial, of limbs and lower trunk   \n",
       "133167          traumatic carotid-cavernous sinus fistula   \n",
       "39038                         critical event notify begun   \n",
       "232863                                color vision defect   \n",
       "28300                       productions, alaryngeal voice   \n",
       "112109                  udd-markesbery muscular dystrophy   \n",
       "139365                      subacute necrotizing myelitis   \n",
       "14875                              abducens nerve traumas   \n",
       "53919                         riding therapies, horseback   \n",
       "130059                          partial third nerve palsy   \n",
       "\n",
       "         source_ontology_parent source_ontology     cui ontology  \\\n",
       "287143       D000083083|D008060            MESH  QS6127  QSNEURO   \n",
       "133167  D001164|D002340|D020212            MESH  QS4243  QSNEURO   \n",
       "39038                  RID45812          RADLEX  QS2210  QSNEURO   \n",
       "232863       D000077765|D014786            MESH  QS5480  QSNEURO   \n",
       "28300                   D012049            MESH  QS2981  QSNEURO   \n",
       "112109                  D009136            MESH  QS3982  QSNEURO   \n",
       "139365          D013118|D002494            MESH  QS4336  QSNEURO   \n",
       "14875           D020434|D020209            MESH  QS2802  QSNEURO   \n",
       "53919                   D056447            MESH  QS3285  QSNEURO   \n",
       "130059                  D015835            MESH  QS4201  QSNEURO   \n",
       "\n",
       "        is_preferred_name  \n",
       "287143              False  \n",
       "133167              False  \n",
       "39038               False  \n",
       "232863              False  \n",
       "28300               False  \n",
       "112109              False  \n",
       "139365              False  \n",
       "14875               False  \n",
       "53919               False  \n",
       "130059              False  "
      ]
     },
     "execution_count": 216,
     "metadata": {},
     "output_type": "execute_result"
    }
   ],
   "source": [
    "total_onto.sample(10)"
   ]
  },
  {
   "cell_type": "markdown",
   "metadata": {},
   "source": [
    "## create relations list"
   ]
  },
  {
   "cell_type": "code",
   "execution_count": 217,
   "metadata": {},
   "outputs": [
    {
     "name": "stderr",
     "output_type": "stream",
     "text": [
      "52567it [00:05, 9694.92it/s] \n"
     ]
    }
   ],
   "source": [
    "edge_list_old_codes = []\n",
    "for idx, concept in tqdm(total_onto.iterrows()):\n",
    "    source_cui = concept[\"cui\"]\n",
    "    source_onto_parents = str(concept[\"source_ontology_parent\"])\n",
    "    split_parents = source_onto_parents.split(\"|\")\n",
    "    for parent_code in split_parents:\n",
    "        edge_list_old_codes.append((source_cui, parent_code))"
   ]
  },
  {
   "cell_type": "code",
   "execution_count": 218,
   "metadata": {},
   "outputs": [],
   "source": [
    "descr_mapping = {}\n",
    "for key, val in descr_dict.items():\n",
    "    idx = top_radlex_layer[\"concept_name\"].index(key)\n",
    "    new_key = top_radlex_layer[\"source_ontology_id\"][idx]\n",
    "    descr_mapping[key] = {\"old_keys\":val[\"id\"], \"new_key\":new_key}"
   ]
  },
  {
   "cell_type": "code",
   "execution_count": 219,
   "metadata": {},
   "outputs": [],
   "source": [
    "path_mapping = {}\n",
    "for key, val in path_dict.items():\n",
    "    idx = top_mesh_layer[\"concept_name\"].index(key)\n",
    "    new_key = top_mesh_layer[\"source_ontology_id\"][idx]\n",
    "    path_mapping[key] = {\"old_keys\":val[\"id\"], \"new_key\":new_key}"
   ]
  },
  {
   "cell_type": "code",
   "execution_count": 220,
   "metadata": {},
   "outputs": [],
   "source": [
    "pd_mapping = {}\n",
    "pd_mapping.update(path_mapping)\n",
    "pd_mapping.update(descr_mapping)\n",
    "total_mapping = {old_key:val[\"new_key\"] for val in pd_mapping.values() for old_key in val[\"old_keys\"]}"
   ]
  },
  {
   "cell_type": "markdown",
   "metadata": {},
   "source": [
    "## Correct the top level codes"
   ]
  },
  {
   "cell_type": "code",
   "execution_count": 221,
   "metadata": {},
   "outputs": [
    {
     "name": "stderr",
     "output_type": "stream",
     "text": [
      "100%|██████████| 86809/86809 [00:00<00:00, 796531.56it/s]\n"
     ]
    }
   ],
   "source": [
    "edge_list_qx_codes = []\n",
    "for source, sink in tqdm(edge_list_old_codes):\n",
    "    new_sink = sink\n",
    "    if sink in total_mapping.keys():\n",
    "        new_sink = total_mapping[sink]\n",
    "    edge_list_qx_codes.append((source, new_sink))"
   ]
  },
  {
   "cell_type": "code",
   "execution_count": 222,
   "metadata": {},
   "outputs": [],
   "source": [
    "sources, sinks = zip(*edge_list_qx_codes)\n",
    "relations = pd.DataFrame(data={\"sourceId\":sources, \"destinationId\":sinks})"
   ]
  },
  {
   "cell_type": "code",
   "execution_count": 99,
   "metadata": {},
   "outputs": [],
   "source": [
    "edgedict = total_onto[[\"source_ontology_id\", \"cui\"]].to_dict()\n",
    "replacedict = {str(val):edgedict[\"cui\"][key] for key, val in edgedict[\"source_ontology_id\"].items()}"
   ]
  },
  {
   "cell_type": "code",
   "execution_count": 230,
   "metadata": {},
   "outputs": [
    {
     "name": "stderr",
     "output_type": "stream",
     "text": [
      "100%|██████████| 86809/86809 [05:18<00:00, 272.84it/s]\n"
     ]
    }
   ],
   "source": [
    "all_sources = total_onto[\"source_ontology_id\"].tolist()\n",
    "final_edge_list = []\n",
    "for source, sink in tqdm(edge_list_qx_codes):\n",
    "    if sink in all_sources:\n",
    "        new_sink = total_onto[total_onto[\"source_ontology_id\"]==sink][\"cui\"].values[0]\n",
    "        final_edge_list.append((source, new_sink))"
   ]
  },
  {
   "cell_type": "code",
   "execution_count": 231,
   "metadata": {},
   "outputs": [],
   "source": [
    "final_edge_list_unique = list(set(final_edge_list))"
   ]
  },
  {
   "cell_type": "code",
   "execution_count": 232,
   "metadata": {},
   "outputs": [],
   "source": [
    "sources, sinks = zip(*final_edge_list_unique)\n",
    "relations_df = pd.DataFrame(data={\"sourceId\":sources, \"destinationId\":sinks})"
   ]
  },
  {
   "cell_type": "code",
   "execution_count": 244,
   "metadata": {},
   "outputs": [
    {
     "data": {
      "text/html": [
       "<div>\n",
       "<style scoped>\n",
       "    .dataframe tbody tr th:only-of-type {\n",
       "        vertical-align: middle;\n",
       "    }\n",
       "\n",
       "    .dataframe tbody tr th {\n",
       "        vertical-align: top;\n",
       "    }\n",
       "\n",
       "    .dataframe thead th {\n",
       "        text-align: right;\n",
       "    }\n",
       "</style>\n",
       "<table border=\"1\" class=\"dataframe\">\n",
       "  <thead>\n",
       "    <tr style=\"text-align: right;\">\n",
       "      <th></th>\n",
       "      <th>sourceId</th>\n",
       "      <th>destinationId</th>\n",
       "    </tr>\n",
       "  </thead>\n",
       "  <tbody>\n",
       "    <tr>\n",
       "      <th>9210</th>\n",
       "      <td>QS5984</td>\n",
       "      <td>QS4881</td>\n",
       "    </tr>\n",
       "    <tr>\n",
       "      <th>3136</th>\n",
       "      <td>QS3099</td>\n",
       "      <td>QS4105</td>\n",
       "    </tr>\n",
       "    <tr>\n",
       "      <th>1753</th>\n",
       "      <td>QS7056</td>\n",
       "      <td>QS7055</td>\n",
       "    </tr>\n",
       "    <tr>\n",
       "      <th>2537</th>\n",
       "      <td>QS5533</td>\n",
       "      <td>QS5359</td>\n",
       "    </tr>\n",
       "    <tr>\n",
       "      <th>5431</th>\n",
       "      <td>QS1084</td>\n",
       "      <td>QS185</td>\n",
       "    </tr>\n",
       "    <tr>\n",
       "      <th>1187</th>\n",
       "      <td>QS4476</td>\n",
       "      <td>QS4881</td>\n",
       "    </tr>\n",
       "    <tr>\n",
       "      <th>1004</th>\n",
       "      <td>QS4744</td>\n",
       "      <td>QS5903</td>\n",
       "    </tr>\n",
       "    <tr>\n",
       "      <th>2069</th>\n",
       "      <td>QS7139</td>\n",
       "      <td>QS7137</td>\n",
       "    </tr>\n",
       "    <tr>\n",
       "      <th>8271</th>\n",
       "      <td>QS2815</td>\n",
       "      <td>QS5427</td>\n",
       "    </tr>\n",
       "    <tr>\n",
       "      <th>2547</th>\n",
       "      <td>QS5115</td>\n",
       "      <td>QS4600</td>\n",
       "    </tr>\n",
       "  </tbody>\n",
       "</table>\n",
       "</div>"
      ],
      "text/plain": [
       "     sourceId destinationId\n",
       "9210   QS5984        QS4881\n",
       "3136   QS3099        QS4105\n",
       "1753   QS7056        QS7055\n",
       "2537   QS5533        QS5359\n",
       "5431   QS1084         QS185\n",
       "1187   QS4476        QS4881\n",
       "1004   QS4744        QS5903\n",
       "2069   QS7139        QS7137\n",
       "8271   QS2815        QS5427\n",
       "2547   QS5115        QS4600"
      ]
     },
     "execution_count": 244,
     "metadata": {},
     "output_type": "execute_result"
    }
   ],
   "source": [
    "relations_df.sample(10)"
   ]
  },
  {
   "cell_type": "code",
   "execution_count": 245,
   "metadata": {},
   "outputs": [],
   "source": [
    "total_onto.to_csv(\"qs_ontology_concepts.csv\", index=False)"
   ]
  },
  {
   "cell_type": "code",
   "execution_count": 246,
   "metadata": {},
   "outputs": [],
   "source": [
    "relations_df.to_csv(\"qs_ontology_relations.csv\", index=False)"
   ]
  },
  {
   "cell_type": "code",
   "execution_count": 247,
   "metadata": {},
   "outputs": [
    {
     "data": {
      "text/plain": [
       "52567"
      ]
     },
     "execution_count": 247,
     "metadata": {},
     "output_type": "execute_result"
    }
   ],
   "source": [
    "len(total_onto)"
   ]
  },
  {
   "cell_type": "markdown",
   "metadata": {},
   "source": [
    "# Remove parentheic parts from names "
   ]
  },
  {
   "cell_type": "code",
   "execution_count": 39,
   "metadata": {},
   "outputs": [],
   "source": [
    "concept_onto = \"/home/hwatkins/Desktop/neuroNLP_ontologies/ontologies/qs_ontology_concepts.csv\""
   ]
  },
  {
   "cell_type": "code",
   "execution_count": 40,
   "metadata": {},
   "outputs": [],
   "source": [
    "concept_df = pd.read_csv(concept_onto)"
   ]
  },
  {
   "cell_type": "code",
   "execution_count": 41,
   "metadata": {},
   "outputs": [
    {
     "data": {
      "text/html": [
       "<div>\n",
       "<style scoped>\n",
       "    .dataframe tbody tr th:only-of-type {\n",
       "        vertical-align: middle;\n",
       "    }\n",
       "\n",
       "    .dataframe tbody tr th {\n",
       "        vertical-align: top;\n",
       "    }\n",
       "\n",
       "    .dataframe thead th {\n",
       "        text-align: right;\n",
       "    }\n",
       "</style>\n",
       "<table border=\"1\" class=\"dataframe\">\n",
       "  <thead>\n",
       "    <tr style=\"text-align: right;\">\n",
       "      <th></th>\n",
       "      <th>source_ontology_id</th>\n",
       "      <th>preferred_name</th>\n",
       "      <th>concept_name</th>\n",
       "      <th>source_ontology_parent</th>\n",
       "      <th>source_ontology</th>\n",
       "      <th>cui</th>\n",
       "      <th>ontology</th>\n",
       "      <th>is_preferred_name</th>\n",
       "    </tr>\n",
       "  </thead>\n",
       "  <tbody>\n",
       "    <tr>\n",
       "      <th>0</th>\n",
       "      <td>RID10897</td>\n",
       "      <td>curved array transducer</td>\n",
       "      <td>curved array transducer</td>\n",
       "      <td>RID10867</td>\n",
       "      <td>RADLEX</td>\n",
       "      <td>QS0</td>\n",
       "      <td>QSNEURO</td>\n",
       "      <td>1</td>\n",
       "    </tr>\n",
       "    <tr>\n",
       "      <th>1</th>\n",
       "      <td>RID10763</td>\n",
       "      <td>elliptical centric k-space trajectory</td>\n",
       "      <td>elliptical centric k-space trajectory</td>\n",
       "      <td>RID10758</td>\n",
       "      <td>RADLEX</td>\n",
       "      <td>QS1</td>\n",
       "      <td>QSNEURO</td>\n",
       "      <td>1</td>\n",
       "    </tr>\n",
       "    <tr>\n",
       "      <th>2</th>\n",
       "      <td>RID35530</td>\n",
       "      <td>shaggy heart sign</td>\n",
       "      <td>shaggy heart sign</td>\n",
       "      <td>RID29023</td>\n",
       "      <td>RADLEX</td>\n",
       "      <td>QS2</td>\n",
       "      <td>QSNEURO</td>\n",
       "      <td>1</td>\n",
       "    </tr>\n",
       "    <tr>\n",
       "      <th>3</th>\n",
       "      <td>RID39435</td>\n",
       "      <td>arterial phase hypoenhancement</td>\n",
       "      <td>arterial phase hypoenhancement</td>\n",
       "      <td>RID43354</td>\n",
       "      <td>RADLEX</td>\n",
       "      <td>QS3</td>\n",
       "      <td>QSNEURO</td>\n",
       "      <td>1</td>\n",
       "    </tr>\n",
       "    <tr>\n",
       "      <th>4</th>\n",
       "      <td>RID39435</td>\n",
       "      <td>arterial phase hypoenhancement</td>\n",
       "      <td>arterial phase hypo-enhancement</td>\n",
       "      <td>RID43354</td>\n",
       "      <td>RADLEX</td>\n",
       "      <td>QS3</td>\n",
       "      <td>QSNEURO</td>\n",
       "      <td>0</td>\n",
       "    </tr>\n",
       "  </tbody>\n",
       "</table>\n",
       "</div>"
      ],
      "text/plain": [
       "  source_ontology_id                         preferred_name  \\\n",
       "0           RID10897                curved array transducer   \n",
       "1           RID10763  elliptical centric k-space trajectory   \n",
       "2           RID35530                      shaggy heart sign   \n",
       "3           RID39435         arterial phase hypoenhancement   \n",
       "4           RID39435         arterial phase hypoenhancement   \n",
       "\n",
       "                            concept_name source_ontology_parent  \\\n",
       "0                curved array transducer               RID10867   \n",
       "1  elliptical centric k-space trajectory               RID10758   \n",
       "2                      shaggy heart sign               RID29023   \n",
       "3         arterial phase hypoenhancement               RID43354   \n",
       "4        arterial phase hypo-enhancement               RID43354   \n",
       "\n",
       "  source_ontology  cui ontology  is_preferred_name  \n",
       "0          RADLEX  QS0  QSNEURO                  1  \n",
       "1          RADLEX  QS1  QSNEURO                  1  \n",
       "2          RADLEX  QS2  QSNEURO                  1  \n",
       "3          RADLEX  QS3  QSNEURO                  1  \n",
       "4          RADLEX  QS3  QSNEURO                  0  "
      ]
     },
     "execution_count": 41,
     "metadata": {},
     "output_type": "execute_result"
    }
   ],
   "source": [
    "concept_df.head()"
   ]
  },
  {
   "cell_type": "code",
   "execution_count": 42,
   "metadata": {},
   "outputs": [
    {
     "data": {
      "text/html": [
       "<div>\n",
       "<style scoped>\n",
       "    .dataframe tbody tr th:only-of-type {\n",
       "        vertical-align: middle;\n",
       "    }\n",
       "\n",
       "    .dataframe tbody tr th {\n",
       "        vertical-align: top;\n",
       "    }\n",
       "\n",
       "    .dataframe thead th {\n",
       "        text-align: right;\n",
       "    }\n",
       "</style>\n",
       "<table border=\"1\" class=\"dataframe\">\n",
       "  <thead>\n",
       "    <tr style=\"text-align: right;\">\n",
       "      <th></th>\n",
       "      <th>source_ontology_id</th>\n",
       "      <th>preferred_name</th>\n",
       "      <th>concept_name</th>\n",
       "      <th>source_ontology_parent</th>\n",
       "      <th>source_ontology</th>\n",
       "      <th>cui</th>\n",
       "      <th>ontology</th>\n",
       "      <th>is_preferred_name</th>\n",
       "    </tr>\n",
       "  </thead>\n",
       "  <tbody>\n",
       "    <tr>\n",
       "      <th>40</th>\n",
       "      <td>RID35255</td>\n",
       "      <td>half moon sign (shoulder)</td>\n",
       "      <td>half moon sign (shoulder)</td>\n",
       "      <td>RID29023</td>\n",
       "      <td>RADLEX</td>\n",
       "      <td>QS25</td>\n",
       "      <td>QSNEURO</td>\n",
       "      <td>1</td>\n",
       "    </tr>\n",
       "    <tr>\n",
       "      <th>458</th>\n",
       "      <td>RID49889</td>\n",
       "      <td>comet-tail artifact (small)</td>\n",
       "      <td>comet-tail artifact (small)</td>\n",
       "      <td>RID49887</td>\n",
       "      <td>RADLEX</td>\n",
       "      <td>QS319</td>\n",
       "      <td>QSNEURO</td>\n",
       "      <td>1</td>\n",
       "    </tr>\n",
       "    <tr>\n",
       "      <th>591</th>\n",
       "      <td>RID50580</td>\n",
       "      <td>early washout (ceus)</td>\n",
       "      <td>early washout (ceus)</td>\n",
       "      <td>RID50579</td>\n",
       "      <td>RADLEX</td>\n",
       "      <td>QS402</td>\n",
       "      <td>QSNEURO</td>\n",
       "      <td>1</td>\n",
       "    </tr>\n",
       "    <tr>\n",
       "      <th>1206</th>\n",
       "      <td>RID50581</td>\n",
       "      <td>late washout (ceus)</td>\n",
       "      <td>late washout (ceus)</td>\n",
       "      <td>RID50579</td>\n",
       "      <td>RADLEX</td>\n",
       "      <td>QS841</td>\n",
       "      <td>QSNEURO</td>\n",
       "      <td>1</td>\n",
       "    </tr>\n",
       "    <tr>\n",
       "      <th>1243</th>\n",
       "      <td>RID50579</td>\n",
       "      <td>washout (ceus)</td>\n",
       "      <td>washout (ceus)</td>\n",
       "      <td>RID43354</td>\n",
       "      <td>RADLEX</td>\n",
       "      <td>QS867</td>\n",
       "      <td>QSNEURO</td>\n",
       "      <td>1</td>\n",
       "    </tr>\n",
       "  </tbody>\n",
       "</table>\n",
       "</div>"
      ],
      "text/plain": [
       "     source_ontology_id               preferred_name  \\\n",
       "40             RID35255    half moon sign (shoulder)   \n",
       "458            RID49889  comet-tail artifact (small)   \n",
       "591            RID50580         early washout (ceus)   \n",
       "1206           RID50581          late washout (ceus)   \n",
       "1243           RID50579               washout (ceus)   \n",
       "\n",
       "                     concept_name source_ontology_parent source_ontology  \\\n",
       "40      half moon sign (shoulder)               RID29023          RADLEX   \n",
       "458   comet-tail artifact (small)               RID49887          RADLEX   \n",
       "591          early washout (ceus)               RID50579          RADLEX   \n",
       "1206          late washout (ceus)               RID50579          RADLEX   \n",
       "1243               washout (ceus)               RID43354          RADLEX   \n",
       "\n",
       "        cui ontology  is_preferred_name  \n",
       "40     QS25  QSNEURO                  1  \n",
       "458   QS319  QSNEURO                  1  \n",
       "591   QS402  QSNEURO                  1  \n",
       "1206  QS841  QSNEURO                  1  \n",
       "1243  QS867  QSNEURO                  1  "
      ]
     },
     "execution_count": 42,
     "metadata": {},
     "output_type": "execute_result"
    }
   ],
   "source": [
    "concept_df[concept_df[\"concept_name\"].str.contains(\"(\", regex=False)].head()"
   ]
  },
  {
   "cell_type": "code",
   "execution_count": 45,
   "metadata": {},
   "outputs": [
    {
     "data": {
      "text/plain": [
       "source_ontology_id              RID35255\n",
       "preferred_name            half moon sign\n",
       "concept_name              half moon sign\n",
       "source_ontology_parent          RID29023\n",
       "source_ontology                   RADLEX\n",
       "cui                                 QS25\n",
       "ontology                         QSNEURO\n",
       "is_preferred_name                      1\n",
       "Name: 40, dtype: object"
      ]
     },
     "execution_count": 45,
     "metadata": {},
     "output_type": "execute_result"
    }
   ],
   "source": [
    "concept_df.iloc[40]"
   ]
  },
  {
   "cell_type": "code",
   "execution_count": 44,
   "metadata": {},
   "outputs": [],
   "source": [
    "concept_df[\"concept_name\"] = concept_df[\"concept_name\"].str.replace(r\"\\(.*\\)\",\"\",regex=True)\n",
    "concept_df[\"preferred_name\"] = concept_df[\"preferred_name\"].str.replace(r\"\\(.*\\)\",\"\",regex=True)\n",
    "concept_df[\"preferred_name\"] = concept_df[\"preferred_name\"].str.strip()\n",
    "concept_df[\"concept_name\"] = concept_df[\"concept_name\"].str.strip()"
   ]
  },
  {
   "cell_type": "code",
   "execution_count": 95,
   "metadata": {},
   "outputs": [],
   "source": [
    "concept_df = concept_df.drop(concept_df[concept_df[\"concept_name\"].str.len()<1].index)"
   ]
  },
  {
   "cell_type": "code",
   "execution_count": 46,
   "metadata": {},
   "outputs": [],
   "source": [
    "concept_df.to_csv(concept_onto, index=False)"
   ]
  },
  {
   "cell_type": "markdown",
   "metadata": {},
   "source": [
    "# Filter ontology\n",
    "filter ontology for term that exist within the corpus of texts"
   ]
  },
  {
   "cell_type": "code",
   "execution_count": 85,
   "metadata": {},
   "outputs": [],
   "source": [
    "REPORT_CSV = \"/home/hwatkins/Desktop/neuroNLP_assets/data/cleaned_report_data/filtered_reports.csv\""
   ]
  },
  {
   "cell_type": "code",
   "execution_count": 129,
   "metadata": {},
   "outputs": [],
   "source": [
    "report_corpus = pd.read_csv(REPORT_CSV,dtype=object)\n",
    "report_corpus[\"report_text\"] = report_corpus[\"report_text\"].apply(str)"
   ]
  },
  {
   "cell_type": "code",
   "execution_count": 88,
   "metadata": {},
   "outputs": [],
   "source": [
    "onto_file = \"/home/hwatkins/Desktop/neuroNLP_ontologies/ontologies/qs_ontology_concepts.csv\"\n",
    "rel_file = \"/home/hwatkins/Desktop/neuroNLP_ontologies/ontologies/qs_ontology_relations.csv\"\n",
    "onto = Ontology(onto_file, rel_file)"
   ]
  },
  {
   "cell_type": "code",
   "execution_count": 89,
   "metadata": {},
   "outputs": [],
   "source": [
    "cgen = CandidateGenerator(onto)"
   ]
  },
  {
   "cell_type": "code",
   "execution_count": 118,
   "metadata": {},
   "outputs": [],
   "source": [
    "cands = cgen.get_candidates([\"circle of willis\"])"
   ]
  },
  {
   "cell_type": "code",
   "execution_count": 119,
   "metadata": {},
   "outputs": [
    {
     "name": "stdout",
     "output_type": "stream",
     "text": [
      "restless legs syndrome, cui: QS5163\n",
      "cerebral palsy, cui: QS3546\n",
      "hereditary sensory and motor neuropathy, cui: QS4305\n",
      "lower body negative pressure, cui: QS4249\n",
      "t1 weighted, cui: QS58\n"
     ]
    }
   ],
   "source": [
    "for cand in cands[0]:\n",
    "    print(onto[cand])"
   ]
  },
  {
   "cell_type": "code",
   "execution_count": 139,
   "metadata": {},
   "outputs": [],
   "source": [
    "mega_string = \" \".join(report_corpus[\"report_text\"].sample(150000).to_list()).lower()"
   ]
  },
  {
   "cell_type": "code",
   "execution_count": 140,
   "metadata": {},
   "outputs": [
    {
     "name": "stderr",
     "output_type": "stream",
     "text": [
      "100%|██████████| 52554/52554 [34:27<00:00, 25.42it/s]  \n"
     ]
    }
   ],
   "source": [
    "noted_codes = []\n",
    "for idx, row in tqdm(concept_df.iterrows(), total=len(concept_df)):\n",
    "    cui = row[\"cui\"]\n",
    "    name = row[\"concept_name\"]\n",
    "    if cui not in noted_codes:\n",
    "        if name in mega_string:\n",
    "            noted_codes.append(cui)"
   ]
  },
  {
   "cell_type": "code",
   "execution_count": 141,
   "metadata": {},
   "outputs": [
    {
     "data": {
      "text/plain": [
       "2597"
      ]
     },
     "execution_count": 141,
     "metadata": {},
     "output_type": "execute_result"
    }
   ],
   "source": [
    "len(noted_codes)"
   ]
  },
  {
   "cell_type": "code",
   "execution_count": 143,
   "metadata": {},
   "outputs": [
    {
     "data": {
      "text/plain": [
       "7948"
      ]
     },
     "execution_count": 143,
     "metadata": {},
     "output_type": "execute_result"
    }
   ],
   "source": [
    "len(concept_df[\"cui\"].unique())"
   ]
  },
  {
   "cell_type": "code",
   "execution_count": 149,
   "metadata": {},
   "outputs": [
    {
     "name": "stderr",
     "output_type": "stream",
     "text": [
      "100%|██████████| 2597/2597 [00:20<00:00, 128.10it/s]\n"
     ]
    }
   ],
   "source": [
    "additional_codes = []\n",
    "for code in tqdm(noted_codes):\n",
    "    stack = [code]\n",
    "    while stack:\n",
    "        branch_code = stack.pop(0)\n",
    "        node = onto[branch_code]\n",
    "        parent_codes = [p.cui for p in node.parents]\n",
    "        additional_codes.extend(parent_codes)\n",
    "        stack.extend(parent_codes)\n",
    "        "
   ]
  },
  {
   "cell_type": "code",
   "execution_count": 151,
   "metadata": {},
   "outputs": [
    {
     "data": {
      "text/plain": [
       "1090"
      ]
     },
     "execution_count": 151,
     "metadata": {},
     "output_type": "execute_result"
    }
   ],
   "source": [
    "len(set(additional_codes))"
   ]
  },
  {
   "cell_type": "code",
   "execution_count": 153,
   "metadata": {},
   "outputs": [],
   "source": [
    "total_codes = set(noted_codes+additional_codes)"
   ]
  },
  {
   "cell_type": "code",
   "execution_count": 154,
   "metadata": {},
   "outputs": [
    {
     "data": {
      "text/plain": [
       "3067"
      ]
     },
     "execution_count": 154,
     "metadata": {},
     "output_type": "execute_result"
    }
   ],
   "source": [
    "len(total_codes)"
   ]
  },
  {
   "cell_type": "code",
   "execution_count": 155,
   "metadata": {},
   "outputs": [
    {
     "data": {
      "text/plain": [
       "root_entity, cui: QS7989"
      ]
     },
     "execution_count": 155,
     "metadata": {},
     "output_type": "execute_result"
    }
   ],
   "source": [
    "onto.get_root()"
   ]
  },
  {
   "cell_type": "code",
   "execution_count": 158,
   "metadata": {},
   "outputs": [],
   "source": [
    "filtered_concepts = concept_df[concept_df[\"cui\"].isin(total_codes)]"
   ]
  },
  {
   "cell_type": "code",
   "execution_count": 161,
   "metadata": {},
   "outputs": [],
   "source": [
    "filtered_concepts.to_csv(\"/home/hwatkins/Desktop/neuroNLP_ontologies/ontologies/qs_ontology_filtered_concepts.csv\", index=False)\n"
   ]
  },
  {
   "cell_type": "code",
   "execution_count": null,
   "metadata": {},
   "outputs": [],
   "source": []
  }
 ],
 "metadata": {
  "kernelspec": {
   "display_name": "Python 3",
   "language": "python",
   "name": "python3"
  },
  "language_info": {
   "codemirror_mode": {
    "name": "ipython",
    "version": 3
   },
   "file_extension": ".py",
   "mimetype": "text/x-python",
   "name": "python",
   "nbconvert_exporter": "python",
   "pygments_lexer": "ipython3",
   "version": "3.8.6"
  }
 },
 "nbformat": 4,
 "nbformat_minor": 4
}
