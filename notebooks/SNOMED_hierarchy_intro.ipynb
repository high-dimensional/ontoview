{
 "cells": [
  {
   "cell_type": "markdown",
   "metadata": {},
   "source": [
    "# Working with SNOMED hierarchies"
   ]
  },
  {
   "cell_type": "code",
   "execution_count": null,
   "metadata": {},
   "outputs": [],
   "source": [
    "import json\n",
    "import pandas as pd"
   ]
  },
  {
   "cell_type": "code",
   "execution_count": null,
   "metadata": {},
   "outputs": [],
   "source": [
    "# Load files\n",
    "snomed_cdb_df = pd.read_csv(\"snomed_cdb_csv_SNOMED-CT-full_UK_drug_ext_Release_20200228.csv\")\n",
    "\n",
    "with open('isa_rela_ch2pt.txt') as json_file:\n",
    "    ch2pt = json.load(json_file)\n",
    "with open('isa_rela_pt2ch.txt') as json_file:\n",
    "    pt2ch = json.load(json_file)"
   ]
  },
  {
   "cell_type": "code",
   "execution_count": null,
   "metadata": {},
   "outputs": [],
   "source": [
    "# Functions for finding the concept name and all synonymns for a SNOMED concept\n",
    "\n",
    "def find_name(snomedcode):\n",
    "    \"\"\"\n",
    "    Converts SNOMED code to Fully specified name and finds any Synonyms\n",
    "    \"\"\"\n",
    "    df = snomed_cdb_df[(snomed_cdb_df['cui'] == snomedcode) & (snomed_cdb_df['tty'] == 1)]\n",
    "    concept_name = df['str'].values\n",
    "    return f\"{''.join(concept_name)}\"\n",
    "\n",
    "def find_syn(snomedcode):\n",
    "    \"\"\"\n",
    "    Converts SNOMED code and finds all Synonyms. Not including concept name\n",
    "    \"\"\"\n",
    "    df = snomed_cdb_df[(snomed_cdb_df['cui'] == snomedcode) & (snomed_cdb_df['tty'] == 0)]\n",
    "    synonym = df['str'].to_list()\n",
    "    return f\"{'; '.join(synonym)}\""
   ]
  },
  {
   "cell_type": "code",
   "execution_count": null,
   "metadata": {},
   "outputs": [],
   "source": []
  },
  {
   "cell_type": "code",
   "execution_count": null,
   "metadata": {},
   "outputs": [],
   "source": [
    "# Get parent linage through the: 116680003|Is a (attribute)|\n",
    "def get_parents(snomedcode):\n",
    "    \"\"\"\n",
    "    Will retrieve all parent concepts for a SNOMED code\n",
    "    \"\"\"\n",
    "    snomedcode = str(snomedcode)\n",
    "    if snomedcode == 'S-138875005':  # Base concept\n",
    "        return []\n",
    "    else:\n",
    "        tree = [[find_name(snomedcode)]]\n",
    "        top_level_concepts = active_relat[active_relat['sourceId']==snomedcode]\n",
    "        # \n",
    "        # top_level_concepts['conceptname'] = top_level_concepts['destinationId'].apply(find_name)\n",
    "        for parent in top_level_concepts['destinationId'].values:\n",
    "            level = []\n",
    "            level.append(parent)\n",
    "        tree.append(level)\n",
    "        \n",
    "        return tree\n",
    "\n",
    "\n"
   ]
  },
  {
   "cell_type": "code",
   "execution_count": null,
   "metadata": {},
   "outputs": [],
   "source": [
    "get_parents(\"S-389079005\")"
   ]
  },
  {
   "cell_type": "code",
   "execution_count": null,
   "metadata": {},
   "outputs": [],
   "source": []
  }
 ],
 "metadata": {
  "kernelspec": {
   "display_name": "Python 3",
   "language": "python",
   "name": "python3"
  },
  "language_info": {
   "codemirror_mode": {
    "name": "ipython",
    "version": 3
   },
   "file_extension": ".py",
   "mimetype": "text/x-python",
   "name": "python",
   "nbconvert_exporter": "python",
   "pygments_lexer": "ipython3",
   "version": "3.7.3"
  }
 },
 "nbformat": 4,
 "nbformat_minor": 4
}
