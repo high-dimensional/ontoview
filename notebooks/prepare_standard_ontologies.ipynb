{
 "cells": [
  {
   "cell_type": "markdown",
   "metadata": {
    "toc-hr-collapsed": false
   },
   "source": [
    "# Standard Ontologies\n",
    "* SNOMED\n",
    "* RADLEX\n",
    "* ICD-10\n",
    "* MESH\n",
    "\n",
    "For the above ontologies, produce pandas DFs or json files to be read into a knowledge base for entity linking\n",
    "\n",
    "These dictionaries should have a \n",
    "* cui (concept unique id)\n",
    "* a string for that concept\n",
    "* whether it is the preferred name\n",
    "* tui (type id)\n",
    "* ontology to which is belongs\n",
    "* type name\n",
    "* link to other entity, is_a relationships or part_of relationships if present\n",
    "\n",
    "As these ontologies are very long, some pruning may be necessary. "
   ]
  },
  {
   "cell_type": "code",
   "execution_count": 1,
   "metadata": {},
   "outputs": [],
   "source": [
    "import pandas as pd\n",
    "import numpy as np\n",
    "from pathlib import Path\n",
    "import matplotlib.pyplot as plt\n",
    "import seaborn as sns\n",
    "import xml.etree.ElementTree as et\n",
    "import re\n",
    "from tqdm import tqdm\n",
    "import json"
   ]
  },
  {
   "cell_type": "code",
   "execution_count": 2,
   "metadata": {},
   "outputs": [],
   "source": [
    "import spacy"
   ]
  },
  {
   "cell_type": "code",
   "execution_count": 3,
   "metadata": {},
   "outputs": [],
   "source": [
    "import neuroNLP"
   ]
  },
  {
   "cell_type": "code",
   "execution_count": 25,
   "metadata": {},
   "outputs": [],
   "source": [
    "from neuroNLP.ontology import Ontology"
   ]
  },
  {
   "cell_type": "markdown",
   "metadata": {},
   "source": [
    "# SNOMED dictionary\n",
    "extract information from the SNOMED dictionary such that\n",
    "- structured format\n",
    "- access ids for concepts\n",
    "- access relationships in a tree-like manner\n",
    "- eventually use within a knowledge base\n",
    "\n",
    "this section is taken from the medcat snomed analysis  Exploring a SNOMED-CT uk extension Release"
   ]
  },
  {
   "cell_type": "markdown",
   "metadata": {},
   "source": [
    "## importing & joining SNOMED dictionaries\n",
    "extract and concantenate the concepts, descriptions, and relations form both UK and international editions. only pull out active entries.\n",
    "- read all fields as strings rather than integers"
   ]
  },
  {
   "cell_type": "code",
   "execution_count": 6,
   "metadata": {},
   "outputs": [],
   "source": [
    "UK_SNOMED_PATH = \"/home/hwatkins/Desktop/external_datasets/SNOMED/SnomedCT_UKClinicalRF2/Snapshot/Terminology/\"\n",
    "UK_descr = UK_SNOMED_PATH + \"sct2_Description_Snapshot-en_GB1000000_20191001.txt\"\n",
    "UK_rel = UK_SNOMED_PATH + \"sct2_Relationship_Snapshot_GB1000000_20191001.txt\"\n",
    "UK_conc = UK_SNOMED_PATH + \"sct2_Concept_Snapshot_GB1000000_20191001.txt\""
   ]
  },
  {
   "cell_type": "code",
   "execution_count": 7,
   "metadata": {},
   "outputs": [],
   "source": [
    "INT_SNOMED_PATH = \"/home/hwatkins/Desktop/external_datasets/SNOMED/SnomedCT_InternationalRF2/Snapshot/Terminology/\"\n",
    "INT_descr = INT_SNOMED_PATH + \"sct2_Description_Snapshot-en_INT_20180731.txt\"\n",
    "INT_rel = INT_SNOMED_PATH + \"sct2_Relationship_Snapshot_INT_20180731.txt\"\n",
    "INT_conc = INT_SNOMED_PATH + \"sct2_Concept_Snapshot_INT_20180731.txt\""
   ]
  },
  {
   "cell_type": "code",
   "execution_count": 8,
   "metadata": {},
   "outputs": [],
   "source": [
    "uk_descr = pd.read_csv(UK_descr, sep='\\t', dtype=object)\n",
    "uk_rel = pd.read_csv(UK_rel, sep='\\t', dtype=object)\n",
    "uk_conc = pd.read_csv(UK_conc, sep='\\t', dtype=object)"
   ]
  },
  {
   "cell_type": "code",
   "execution_count": 9,
   "metadata": {},
   "outputs": [],
   "source": [
    "int_descr = pd.read_csv(INT_descr, sep='\\t', dtype=object)\n",
    "int_rel = pd.read_csv(INT_rel, sep='\\t', dtype=object)\n",
    "int_conc = pd.read_csv(INT_conc, sep='\\t', dtype=object)"
   ]
  },
  {
   "cell_type": "code",
   "execution_count": 10,
   "metadata": {},
   "outputs": [],
   "source": [
    "descs = pd.concat([int_descr, uk_descr])\n",
    "active_descs = descs[descs.active == '1']"
   ]
  },
  {
   "cell_type": "code",
   "execution_count": 11,
   "metadata": {},
   "outputs": [],
   "source": [
    "terms = pd.concat([int_conc, uk_conc])\n",
    "active_terms = terms[terms.active == '1']"
   ]
  },
  {
   "cell_type": "code",
   "execution_count": 12,
   "metadata": {},
   "outputs": [],
   "source": [
    "rels = pd.concat([int_rel, uk_rel])\n",
    "active_relat = rels[rels.active == '1']"
   ]
  },
  {
   "cell_type": "markdown",
   "metadata": {},
   "source": [
    "merge the terms and their fully specified name together (900000000000003001 = fully specified name)"
   ]
  },
  {
   "cell_type": "code",
   "execution_count": 13,
   "metadata": {},
   "outputs": [],
   "source": [
    "terms_with_desc = pd.merge(active_terms, active_descs[active_descs['typeId'] == '900000000000003001'], left_on=['id'], right_on=['conceptId'], how='inner')"
   ]
  },
  {
   "cell_type": "markdown",
   "metadata": {},
   "source": [
    "add type name from the fully specified name"
   ]
  },
  {
   "cell_type": "code",
   "execution_count": 14,
   "metadata": {},
   "outputs": [],
   "source": [
    "terms_with_desc['type_name'] = terms_with_desc['term'].str.extract(r\"\\((\\w+\\s?.?\\s?\\w+.?\\w+.?\\w+.?)\\)$\")"
   ]
  },
  {
   "cell_type": "code",
   "execution_count": 15,
   "metadata": {},
   "outputs": [],
   "source": [
    "merge_dfs = pd.merge(active_terms, active_descs, left_on=['id'], right_on=['conceptId'], how='inner')\n",
    "active_with_primary_desc = merge_dfs[merge_dfs['typeId'] == '900000000000003001']\n",
    "active_with_primary_desc = active_with_primary_desc.drop_duplicates(['id_x'], keep='first')\n",
    "active_with_synonym_desc = merge_dfs[merge_dfs['typeId'] == '900000000000013009']\n",
    "active_with_all_desc = pd.concat([active_with_primary_desc, active_with_synonym_desc])"
   ]
  },
  {
   "cell_type": "code",
   "execution_count": 16,
   "metadata": {},
   "outputs": [],
   "source": [
    "snomed_cdb_df = pd.merge(active_with_all_desc, terms_with_desc, left_on=['id_x'], right_on=['conceptId'], how='inner')"
   ]
  },
  {
   "cell_type": "markdown",
   "metadata": {},
   "source": [
    "clean up dataframe"
   ]
  },
  {
   "cell_type": "code",
   "execution_count": 17,
   "metadata": {},
   "outputs": [],
   "source": [
    "snomed_cdb_df = snomed_cdb_df.loc[:, ['id_x_x','term_x','typeId_x','type_name']]\n",
    "snomed_cdb_df.columns = ['cui', 'concept_name', 'is_preferred_name', 'type_name']\n",
    "snomed_cdb_df['ontology'] = 'SNOMED-CT'\n",
    "snomed_cdb_df['is_preferred_name'] = snomed_cdb_df['is_preferred_name'].replace(['900000000000003001', '900000000000013009'], [1, 0])"
   ]
  },
  {
   "cell_type": "code",
   "execution_count": 18,
   "metadata": {},
   "outputs": [
    {
     "data": {
      "text/html": [
       "<div>\n",
       "<style scoped>\n",
       "    .dataframe tbody tr th:only-of-type {\n",
       "        vertical-align: middle;\n",
       "    }\n",
       "\n",
       "    .dataframe tbody tr th {\n",
       "        vertical-align: top;\n",
       "    }\n",
       "\n",
       "    .dataframe thead th {\n",
       "        text-align: right;\n",
       "    }\n",
       "</style>\n",
       "<table border=\"1\" class=\"dataframe\">\n",
       "  <thead>\n",
       "    <tr style=\"text-align: right;\">\n",
       "      <th></th>\n",
       "      <th>cui</th>\n",
       "      <th>concept_name</th>\n",
       "      <th>is_preferred_name</th>\n",
       "      <th>type_name</th>\n",
       "      <th>ontology</th>\n",
       "    </tr>\n",
       "  </thead>\n",
       "  <tbody>\n",
       "    <tr>\n",
       "      <th>0</th>\n",
       "      <td>101009</td>\n",
       "      <td>Quilonia ethiopica (organism)</td>\n",
       "      <td>1</td>\n",
       "      <td>organism</td>\n",
       "      <td>SNOMED-CT</td>\n",
       "    </tr>\n",
       "    <tr>\n",
       "      <th>1</th>\n",
       "      <td>101009</td>\n",
       "      <td>Quilonia ethiopica</td>\n",
       "      <td>0</td>\n",
       "      <td>organism</td>\n",
       "      <td>SNOMED-CT</td>\n",
       "    </tr>\n",
       "    <tr>\n",
       "      <th>2</th>\n",
       "      <td>102002</td>\n",
       "      <td>Hemoglobin Okaloosa (substance)</td>\n",
       "      <td>1</td>\n",
       "      <td>substance</td>\n",
       "      <td>SNOMED-CT</td>\n",
       "    </tr>\n",
       "    <tr>\n",
       "      <th>3</th>\n",
       "      <td>102002</td>\n",
       "      <td>Hemoglobin Okaloosa</td>\n",
       "      <td>0</td>\n",
       "      <td>substance</td>\n",
       "      <td>SNOMED-CT</td>\n",
       "    </tr>\n",
       "    <tr>\n",
       "      <th>4</th>\n",
       "      <td>102002</td>\n",
       "      <td>Hb 48(CD7), Leu-arg</td>\n",
       "      <td>0</td>\n",
       "      <td>substance</td>\n",
       "      <td>SNOMED-CT</td>\n",
       "    </tr>\n",
       "  </tbody>\n",
       "</table>\n",
       "</div>"
      ],
      "text/plain": [
       "      cui                     concept_name  is_preferred_name  type_name  \\\n",
       "0  101009    Quilonia ethiopica (organism)                  1   organism   \n",
       "1  101009               Quilonia ethiopica                  0   organism   \n",
       "2  102002  Hemoglobin Okaloosa (substance)                  1  substance   \n",
       "3  102002              Hemoglobin Okaloosa                  0  substance   \n",
       "4  102002              Hb 48(CD7), Leu-arg                  0  substance   \n",
       "\n",
       "    ontology  \n",
       "0  SNOMED-CT  \n",
       "1  SNOMED-CT  \n",
       "2  SNOMED-CT  \n",
       "3  SNOMED-CT  \n",
       "4  SNOMED-CT  "
      ]
     },
     "execution_count": 18,
     "metadata": {},
     "output_type": "execute_result"
    }
   ],
   "source": [
    "snomed_cdb_df.head()"
   ]
  },
  {
   "cell_type": "markdown",
   "metadata": {},
   "source": [
    "assign type ids"
   ]
  },
  {
   "cell_type": "code",
   "execution_count": 19,
   "metadata": {},
   "outputs": [],
   "source": [
    "terms_dict = {\n",
    "    \"00000\":\"SNOMED RT+CTV3\",\n",
    "    \"01000\":\"body structure\",\n",
    "    \"01100\":\"morphologic abnormality\",\n",
    "    \"01200\":\"cell structure\",\n",
    "    \"01210\":\"cell\",\n",
    "    \"02000\":\"finding\",\n",
    "    \"02100\":\"disorder\",\n",
    "    \"03000\":\"environment / location\",\n",
    "    \"03100\":\"environment\",\n",
    "    \"03200\":\"geographic location\",\n",
    "    \"04000\":\"event\",\n",
    "    \"05000\":\"observable entity\",\n",
    "    \"06000\":\"organism\",\n",
    "    \"07000\":\"product\",\n",
    "    \"07100\":\"medicinal product\",\n",
    "    \"07110\":\"medicinal product form\",\n",
    "    \"07111\":\"clinical drug\",\n",
    "    \"08000\":\"physical force\",\n",
    "    \"09000\":\"physical object\",\n",
    "    \"10000\":\"procedure\",\n",
    "    \"10100\":\"regime/therapy\",\n",
    "    \"11000\":\"qualifier value\",\n",
    "    \"11100\":\"administration method\",\n",
    "    \"11200\":\"disposition\",\n",
    "    \"11300\":\"intended site\",\n",
    "    \"11010\":\"number\",\n",
    "    \"11400\":\"release characteristic\",\n",
    "    \"11500\":\"transformation\",\n",
    "    \"11020\":\"basic dose form\",\n",
    "    \"11030\":\"dose form\",\n",
    "    \"11600\":\"role\",\n",
    "    \"11700\":\"state of matter\",\n",
    "    \"11040\":\"unit of presentation\",\n",
    "    \"12000\":\"record artifact\",\n",
    "    \"13000\":\"situation\",\n",
    "    \"14000\":\"metadata\",\n",
    "    \"14100\":\"core metadata concept\",\n",
    "    \"14200\":\"foundation metadata concept\",\n",
    "    \"14300\":\"linkage concept\",\n",
    "    \"14310\":\"attribute\",\n",
    "    \"14320\":\"link assertion\",\n",
    "    \"14400\":\"namespace concept\",\n",
    "    \"14500\":\"OWL metadata concept\",\n",
    "    \"15000\":\"social concept\",\n",
    "    \"15100\":\"life style\",\n",
    "    \"15010\":\"racial group\",\n",
    "    \"15020\":\"ethnic group\",\n",
    "    \"15200\":\"occupation\",\n",
    "    \"15300\":\"person\",\n",
    "    \"15400\":\"religion/philosophy\",\n",
    "    \"16000\":\"special concept\",\n",
    "    \"16100\":\"inactive concept\",\n",
    "    \"16200\":\"navigational concept\",\n",
    "    \"17000\":\"specimen\",\n",
    "    \"18000\":\"staging scale\",\n",
    "    \"18100\":\"assessment scale\",\n",
    "    \"18200\":\"tumor staging\",\n",
    "    \"19000\":\"substance\",\n",
    "}"
   ]
  },
  {
   "cell_type": "code",
   "execution_count": 20,
   "metadata": {},
   "outputs": [],
   "source": [
    "# Add tui codes\n",
    "dict2 = {v : k for k, v in terms_dict.items()}\n",
    "snomed_cdb_df[\"tui\"] = snomed_cdb_df[\"type_name\"].map(dict2)"
   ]
  },
  {
   "cell_type": "code",
   "execution_count": 21,
   "metadata": {},
   "outputs": [
    {
     "data": {
      "text/html": [
       "<div>\n",
       "<style scoped>\n",
       "    .dataframe tbody tr th:only-of-type {\n",
       "        vertical-align: middle;\n",
       "    }\n",
       "\n",
       "    .dataframe tbody tr th {\n",
       "        vertical-align: top;\n",
       "    }\n",
       "\n",
       "    .dataframe thead th {\n",
       "        text-align: right;\n",
       "    }\n",
       "</style>\n",
       "<table border=\"1\" class=\"dataframe\">\n",
       "  <thead>\n",
       "    <tr style=\"text-align: right;\">\n",
       "      <th></th>\n",
       "      <th>cui</th>\n",
       "      <th>concept_name</th>\n",
       "      <th>is_preferred_name</th>\n",
       "      <th>type_name</th>\n",
       "      <th>ontology</th>\n",
       "      <th>tui</th>\n",
       "    </tr>\n",
       "  </thead>\n",
       "  <tbody>\n",
       "    <tr>\n",
       "      <th>0</th>\n",
       "      <td>101009</td>\n",
       "      <td>Quilonia ethiopica (organism)</td>\n",
       "      <td>1</td>\n",
       "      <td>organism</td>\n",
       "      <td>SNOMED-CT</td>\n",
       "      <td>06000</td>\n",
       "    </tr>\n",
       "    <tr>\n",
       "      <th>1</th>\n",
       "      <td>101009</td>\n",
       "      <td>Quilonia ethiopica</td>\n",
       "      <td>0</td>\n",
       "      <td>organism</td>\n",
       "      <td>SNOMED-CT</td>\n",
       "      <td>06000</td>\n",
       "    </tr>\n",
       "    <tr>\n",
       "      <th>2</th>\n",
       "      <td>102002</td>\n",
       "      <td>Hemoglobin Okaloosa (substance)</td>\n",
       "      <td>1</td>\n",
       "      <td>substance</td>\n",
       "      <td>SNOMED-CT</td>\n",
       "      <td>19000</td>\n",
       "    </tr>\n",
       "    <tr>\n",
       "      <th>3</th>\n",
       "      <td>102002</td>\n",
       "      <td>Hemoglobin Okaloosa</td>\n",
       "      <td>0</td>\n",
       "      <td>substance</td>\n",
       "      <td>SNOMED-CT</td>\n",
       "      <td>19000</td>\n",
       "    </tr>\n",
       "    <tr>\n",
       "      <th>4</th>\n",
       "      <td>102002</td>\n",
       "      <td>Hb 48(CD7), Leu-arg</td>\n",
       "      <td>0</td>\n",
       "      <td>substance</td>\n",
       "      <td>SNOMED-CT</td>\n",
       "      <td>19000</td>\n",
       "    </tr>\n",
       "  </tbody>\n",
       "</table>\n",
       "</div>"
      ],
      "text/plain": [
       "      cui                     concept_name  is_preferred_name  type_name  \\\n",
       "0  101009    Quilonia ethiopica (organism)                  1   organism   \n",
       "1  101009               Quilonia ethiopica                  0   organism   \n",
       "2  102002  Hemoglobin Okaloosa (substance)                  1  substance   \n",
       "3  102002              Hemoglobin Okaloosa                  0  substance   \n",
       "4  102002              Hb 48(CD7), Leu-arg                  0  substance   \n",
       "\n",
       "    ontology    tui  \n",
       "0  SNOMED-CT  06000  \n",
       "1  SNOMED-CT  06000  \n",
       "2  SNOMED-CT  19000  \n",
       "3  SNOMED-CT  19000  \n",
       "4  SNOMED-CT  19000  "
      ]
     },
     "execution_count": 21,
     "metadata": {},
     "output_type": "execute_result"
    }
   ],
   "source": [
    "snomed_cdb_df.head()"
   ]
  },
  {
   "cell_type": "markdown",
   "metadata": {},
   "source": [
    "is_a relationships in the SNOMED dictionary have the typeId 116680003"
   ]
  },
  {
   "cell_type": "code",
   "execution_count": 22,
   "metadata": {},
   "outputs": [],
   "source": [
    "is_a_rels = active_relat[active_relat['typeId']=='116680003']"
   ]
  },
  {
   "cell_type": "code",
   "execution_count": 23,
   "metadata": {},
   "outputs": [
    {
     "data": {
      "text/plain": [
       "116680003    549227\n",
       "363698007     89321\n",
       "260686004     73279\n",
       "116676008     64817\n",
       "123005000     42393\n",
       "              ...  \n",
       "246112005        14\n",
       "704326004        12\n",
       "718497002         9\n",
       "726633004         6\n",
       "719715003         6\n",
       "Name: typeId, Length: 89, dtype: int64"
      ]
     },
     "execution_count": 23,
     "metadata": {},
     "output_type": "execute_result"
    }
   ],
   "source": [
    "active_relat['typeId'].value_counts()"
   ]
  },
  {
   "cell_type": "markdown",
   "metadata": {},
   "source": [
    "## Adding relations"
   ]
  },
  {
   "cell_type": "code",
   "execution_count": 24,
   "metadata": {},
   "outputs": [
    {
     "name": "stdout",
     "output_type": "stream",
     "text": [
      "['Is a (attribute)' 'Is a']\n",
      "['Finding site (attribute)' 'Finding site']\n",
      "['Part of (attribute)' 'Part of']\n",
      "['Has intent (attribute)' 'Has intent' 'Intent']\n",
      "['Method (attribute)' 'Method']\n",
      "['Interprets (attribute)' 'Interprets']\n",
      "['Causative agent (attribute)' 'Causative agent']\n",
      "['Procedure site (attribute)' 'Procedure site']\n",
      "['Associated morphology (attribute)' 'Associated morphology' 'Morphology']\n",
      "['Laterality (attribute)' 'Laterality']\n",
      "['Occurrence (attribute)' 'Occurrence']\n",
      "['Direct device (attribute)' 'Direct device']\n",
      "['Direct morphology (attribute)' 'Direct morphology']\n",
      "['Access (attribute)' 'Access']\n",
      "['Revision status (attribute)' 'Revision status']\n",
      "['Priority (attribute)' 'Priority']\n",
      "['Direct substance (attribute)' 'Direct substance']\n",
      "['Has focus (attribute)' 'Has focus']\n",
      "['Associated finding (attribute)' 'Associated finding']\n",
      "['Component (attribute)' 'Component']\n",
      "['Has interpretation (attribute)' 'Has interpretation']\n",
      "['Has specimen (attribute)' 'Has specimen']\n",
      "['Indirect morphology (attribute)' 'Indirect morphology']\n",
      "['Recipient category (attribute)' 'Recipient category']\n",
      "['Pathological process (attribute)' 'Pathological process']\n",
      "['Has active ingredient (attribute)' 'Has active ingredient']\n",
      "['Specimen source topography (attribute)' 'Specimen source topography']\n",
      "['Specimen procedure (attribute)' 'Specimen procedure']\n",
      "['Specimen substance (attribute)' 'Specimen substance']\n",
      "['Specimen source identity (attribute)' 'Specimen source identity']\n",
      "['Specimen source morphology (attribute)' 'Specimen source morphology']\n",
      "['Scale type (attribute)' 'Scale type']\n",
      "['Property (attribute)' 'Property']\n",
      "['Measurement method (attribute)' 'Measurement method']\n",
      "['After (attribute)' 'After' 'Following']\n",
      "['Associated with (attribute)' 'Associated with']\n",
      "['Due to (attribute)' 'Due to']\n",
      "['Subject relationship context (attribute)' 'Subject relationship context']\n",
      "['Procedure site - Indirect (attribute)' 'Procedure site - Indirect']\n",
      "['Procedure device (attribute)' 'Procedure device']\n",
      "['Procedure site - Direct (attribute)' 'Procedure site - Direct']\n",
      "['Procedure morphology (attribute)' 'Procedure morphology']\n",
      "['Associated procedure (attribute)' 'Associated procedure']\n",
      "['Has manufactured dose form (attribute)' 'Has manufactured dose form']\n",
      "['Temporal context (attribute)' 'Temporal context']\n",
      "['Procedure context (attribute)' 'Procedure context']\n",
      "['Finding context (attribute)' 'Finding context']\n",
      "['Finding method (attribute)' 'Finding method']\n",
      "['Finding informer (attribute)' 'Finding informer']\n",
      "['Route of administration (attribute)' 'Route of administration'\n",
      " 'Route of administration - attribute']\n",
      "['Using device (attribute)' 'Using device']\n",
      "['Clinical course (attribute)' 'Clinical course']\n",
      "['Using energy (attribute)' 'Using energy']\n",
      "['Using substance (attribute)' 'Using substance']\n",
      "['Using access device (attribute)' 'Using access device']\n",
      "['Indirect device (attribute)' 'Indirect device']\n",
      "['Surgical approach (attribute)' 'Surgical approach']\n",
      "['Severity (attribute)' 'Severity']\n",
      "['Characterizes (attribute)' 'Characterizes']\n",
      "['Process output (attribute)' 'Process output']\n",
      "['Direct site (attribute)' 'Direct site']\n",
      "['Inheres in (attribute)' 'Inheres in']\n",
      "['Precondition (attribute)' 'Precondition']\n",
      "['Inherent location (attribute)' 'Inherent location']\n",
      "['Technique (attribute)' 'Technique']\n",
      "['Time aspect (attribute)' 'Time aspect']\n",
      "['Relative to part of (attribute)' 'Relative to part of']\n",
      "['During (attribute)' 'During']\n",
      "['Has basis of strength substance (attribute)'\n",
      " 'Has basis of strength substance' 'Has BoSS']\n",
      "['Has presentation strength numerator value (attribute)'\n",
      " 'Has presentation strength numerator value']\n",
      "['Has presentation strength numerator unit (attribute)'\n",
      " 'Has presentation strength numerator unit']\n",
      "['Has presentation strength denominator value (attribute)'\n",
      " 'Has presentation strength denominator value']\n",
      "['Has presentation strength denominator unit (attribute)'\n",
      " 'Has presentation strength denominator unit']\n",
      "['Has disposition (attribute)' 'Has disposition']\n",
      "['Has state of matter (attribute)' 'Has state of matter']\n",
      "['Has dose form administration method (attribute)'\n",
      " 'Has dose form administration method']\n",
      "['Has dose form intended site (attribute)' 'Has dose form intended site']\n",
      "['Has dose form release characteristic (attribute)'\n",
      " 'Has dose form release characteristic']\n",
      "['Has basic dose form (attribute)' 'Has basic dose form']\n",
      "['Has dose form transformation (attribute)' 'Has dose form transformation']\n",
      "['Temporally related to (attribute)' 'Temporally related to']\n",
      "['Is modification of (attribute)' 'Is modification of']\n",
      "['Has precise active ingredient (attribute)'\n",
      " 'Has precise active ingredient']\n",
      "['Has unit of presentation (attribute)' 'Has unit of presentation']\n",
      "['Count of base of active ingredient (attribute)'\n",
      " 'Count of base of active ingredient']\n",
      "['Has concentration strength denominator value (attribute)'\n",
      " 'Has concentration strength denominator value']\n",
      "['Has concentration strength numerator value (attribute)'\n",
      " 'Has concentration strength numerator value']\n",
      "['Has concentration strength numerator unit (attribute)'\n",
      " 'Has concentration strength numerator unit']\n",
      "['Has concentration strength denominator unit (attribute)'\n",
      " 'Has concentration strength denominator unit']\n"
     ]
    }
   ],
   "source": [
    "for idx in active_relat['typeId'].unique():\n",
    "    print(snomed_cdb_df[snomed_cdb_df['cui']== idx]['concept_name'].values)"
   ]
  },
  {
   "cell_type": "markdown",
   "metadata": {},
   "source": [
    "for now, focus only on is-a relationships"
   ]
  },
  {
   "cell_type": "code",
   "execution_count": 25,
   "metadata": {},
   "outputs": [
    {
     "data": {
      "text/plain": [
       "array([], dtype=object)"
      ]
     },
     "execution_count": 25,
     "metadata": {},
     "output_type": "execute_result"
    }
   ],
   "source": [
    "# to get the is-a relationship (the parents of a concept)\n",
    "is_a_rels[is_a_rels['sourceId']=='17']['destinationId'].values\n",
    "# to get the is-a children of a concept\n",
    "is_a_rels[is_a_rels['destinationId']=='17']['sourceId'].values"
   ]
  },
  {
   "cell_type": "markdown",
   "metadata": {},
   "source": [
    "save these dataframes"
   ]
  },
  {
   "cell_type": "code",
   "execution_count": 26,
   "metadata": {},
   "outputs": [],
   "source": [
    "snomed_cdb_df.to_csv('/home/hwatkins/Desktop/neuroNLP_assets/data/full_snomed_ct.csv')\n",
    "is_a_rels.to_csv('/home/hwatkins/Desktop/neuroNLP_assets/data/full_snomed_ct_is_a_relations.csv')"
   ]
  },
  {
   "cell_type": "markdown",
   "metadata": {},
   "source": [
    "## Filtering snomed for specific types"
   ]
  },
  {
   "cell_type": "code",
   "execution_count": 27,
   "metadata": {},
   "outputs": [
    {
     "data": {
      "text/plain": [
       "array(['organism', 'substance', 'procedure', 'body structure', 'disorder',\n",
       "       'occupation', 'finding', 'qualifier value',\n",
       "       'morphologic abnormality', 'cell structure', 'physical object',\n",
       "       'regime/therapy', 'product', 'medicinal product', 'cell', 'person',\n",
       "       'ethnic group', 'environment', 'observable entity', 'event',\n",
       "       'religion/philosophy', 'attribute', 'physical force', 'situation',\n",
       "       'medicinal product form', 'navigational concept', 'clinical drug',\n",
       "       'social concept', 'tumor staging', 'specimen', 'basic dose form',\n",
       "       'life style', 'dose form', 'linkage concept', 'staging scale',\n",
       "       'record artifact', 'assessment scale', 'SNOMED RT+CTV3',\n",
       "       'geographic location', 'environment / location',\n",
       "       'inactive concept', 'special concept', 'namespace concept',\n",
       "       'racial group', 'link assertion', 'foundation metadata concept',\n",
       "       'core metadata concept', 'disposition', 'unit of presentation',\n",
       "       'OWL metadata concept', 'number', 'state of matter',\n",
       "       'transformation', 'intended site', 'release characteristic',\n",
       "       'administration method', 'role', 'metadata'], dtype=object)"
      ]
     },
     "execution_count": 27,
     "metadata": {},
     "output_type": "execute_result"
    }
   ],
   "source": [
    "snomed_cdb_df['type_name'].unique()"
   ]
  },
  {
   "cell_type": "markdown",
   "metadata": {},
   "source": [
    "types to keep:\n",
    "- 'substance'\n",
    "- 'body structure'\n",
    "- 'finding'\n",
    "- 'event'\n",
    "- 'disorder'\n",
    "- 'observable entity'\n",
    "- 'morphologic abnormality'\n",
    "- 'SNOMED RT+CTV3'"
   ]
  },
  {
   "cell_type": "code",
   "execution_count": 28,
   "metadata": {},
   "outputs": [],
   "source": [
    "accepted_types = ['substance',\n",
    "                  'body structure',\n",
    "                  'finding','event',\n",
    "                  'disorder',\n",
    "                  'observable entity',\n",
    "                  'morphologic abnormality',\n",
    "                  'SNOMED RT+CTV3']"
   ]
  },
  {
   "cell_type": "code",
   "execution_count": 29,
   "metadata": {},
   "outputs": [],
   "source": [
    "filtered_snomed_df = snomed_cdb_df[snomed_cdb_df['type_name'].isin(accepted_types)]"
   ]
  },
  {
   "cell_type": "code",
   "execution_count": 31,
   "metadata": {},
   "outputs": [],
   "source": [
    "filtered_is_a_rels = is_a_rels[(is_a_rels['sourceId'].isin(filtered_snomed_df['cui'])) & (is_a_rels['destinationId'].isin(filtered_snomed_df['cui'])) ]"
   ]
  },
  {
   "cell_type": "code",
   "execution_count": 8,
   "metadata": {},
   "outputs": [],
   "source": [
    "FILTERED_SNOMED_PATH = '/home/hwatkins/Desktop/neuroNLP_assets/data/ontology_data/filtered_snomed_ct.csv'\n",
    "FILTERED_SNOMED_RELS_PATH = '/home/hwatkins/Desktop/neuroNLP_assets/data/ontology_data/filtered_snomed_ct_is_a_relations.csv'"
   ]
  },
  {
   "cell_type": "code",
   "execution_count": 32,
   "metadata": {},
   "outputs": [],
   "source": [
    "filtered_snomed_df.to_csv(FILTERED_SNOMED_PATH)\n",
    "filtered_is_a_rels.to_csv(FILTERED_SNOMED_RELS_PATH)"
   ]
  },
  {
   "cell_type": "code",
   "execution_count": 32,
   "metadata": {},
   "outputs": [
    {
     "data": {
      "text/html": [
       "<div>\n",
       "<style scoped>\n",
       "    .dataframe tbody tr th:only-of-type {\n",
       "        vertical-align: middle;\n",
       "    }\n",
       "\n",
       "    .dataframe tbody tr th {\n",
       "        vertical-align: top;\n",
       "    }\n",
       "\n",
       "    .dataframe thead th {\n",
       "        text-align: right;\n",
       "    }\n",
       "</style>\n",
       "<table border=\"1\" class=\"dataframe\">\n",
       "  <thead>\n",
       "    <tr style=\"text-align: right;\">\n",
       "      <th></th>\n",
       "      <th>cui</th>\n",
       "      <th>concept_name</th>\n",
       "      <th>is_preferred_name</th>\n",
       "      <th>type_name</th>\n",
       "      <th>ontology</th>\n",
       "      <th>tui</th>\n",
       "    </tr>\n",
       "  </thead>\n",
       "  <tbody>\n",
       "    <tr>\n",
       "      <th>2</th>\n",
       "      <td>102002</td>\n",
       "      <td>Hemoglobin Okaloosa (substance)</td>\n",
       "      <td>1</td>\n",
       "      <td>substance</td>\n",
       "      <td>SNOMED-CT</td>\n",
       "      <td>19000</td>\n",
       "    </tr>\n",
       "    <tr>\n",
       "      <th>3</th>\n",
       "      <td>102002</td>\n",
       "      <td>Hemoglobin Okaloosa</td>\n",
       "      <td>0</td>\n",
       "      <td>substance</td>\n",
       "      <td>SNOMED-CT</td>\n",
       "      <td>19000</td>\n",
       "    </tr>\n",
       "    <tr>\n",
       "      <th>4</th>\n",
       "      <td>102002</td>\n",
       "      <td>Hb 48(CD7), Leu-arg</td>\n",
       "      <td>0</td>\n",
       "      <td>substance</td>\n",
       "      <td>SNOMED-CT</td>\n",
       "      <td>19000</td>\n",
       "    </tr>\n",
       "    <tr>\n",
       "      <th>5</th>\n",
       "      <td>102002</td>\n",
       "      <td>Haemoglobin Okaloosa</td>\n",
       "      <td>0</td>\n",
       "      <td>substance</td>\n",
       "      <td>SNOMED-CT</td>\n",
       "      <td>19000</td>\n",
       "    </tr>\n",
       "    <tr>\n",
       "      <th>11</th>\n",
       "      <td>106004</td>\n",
       "      <td>Structure of posterior carpal region (body str...</td>\n",
       "      <td>1</td>\n",
       "      <td>body structure</td>\n",
       "      <td>SNOMED-CT</td>\n",
       "      <td>01000</td>\n",
       "    </tr>\n",
       "  </tbody>\n",
       "</table>\n",
       "</div>"
      ],
      "text/plain": [
       "       cui                                       concept_name  \\\n",
       "2   102002                    Hemoglobin Okaloosa (substance)   \n",
       "3   102002                                Hemoglobin Okaloosa   \n",
       "4   102002                                Hb 48(CD7), Leu-arg   \n",
       "5   102002                               Haemoglobin Okaloosa   \n",
       "11  106004  Structure of posterior carpal region (body str...   \n",
       "\n",
       "    is_preferred_name       type_name   ontology    tui  \n",
       "2                   1       substance  SNOMED-CT  19000  \n",
       "3                   0       substance  SNOMED-CT  19000  \n",
       "4                   0       substance  SNOMED-CT  19000  \n",
       "5                   0       substance  SNOMED-CT  19000  \n",
       "11                  1  body structure  SNOMED-CT  01000  "
      ]
     },
     "execution_count": 32,
     "metadata": {},
     "output_type": "execute_result"
    }
   ],
   "source": [
    "filtered_snomed_df.head()"
   ]
  },
  {
   "cell_type": "code",
   "execution_count": 33,
   "metadata": {},
   "outputs": [
    {
     "data": {
      "text/html": [
       "<div>\n",
       "<style scoped>\n",
       "    .dataframe tbody tr th:only-of-type {\n",
       "        vertical-align: middle;\n",
       "    }\n",
       "\n",
       "    .dataframe tbody tr th {\n",
       "        vertical-align: top;\n",
       "    }\n",
       "\n",
       "    .dataframe thead th {\n",
       "        text-align: right;\n",
       "    }\n",
       "</style>\n",
       "<table border=\"1\" class=\"dataframe\">\n",
       "  <thead>\n",
       "    <tr style=\"text-align: right;\">\n",
       "      <th></th>\n",
       "      <th>id</th>\n",
       "      <th>effectiveTime</th>\n",
       "      <th>active</th>\n",
       "      <th>moduleId</th>\n",
       "      <th>sourceId</th>\n",
       "      <th>destinationId</th>\n",
       "      <th>relationshipGroup</th>\n",
       "      <th>typeId</th>\n",
       "      <th>characteristicTypeId</th>\n",
       "      <th>modifierId</th>\n",
       "    </tr>\n",
       "  </thead>\n",
       "  <tbody>\n",
       "    <tr>\n",
       "      <th>1</th>\n",
       "      <td>101021</td>\n",
       "      <td>20020131</td>\n",
       "      <td>1</td>\n",
       "      <td>900000000000207008</td>\n",
       "      <td>10000006</td>\n",
       "      <td>29857009</td>\n",
       "      <td>0</td>\n",
       "      <td>116680003</td>\n",
       "      <td>900000000000011006</td>\n",
       "      <td>900000000000451002</td>\n",
       "    </tr>\n",
       "    <tr>\n",
       "      <th>2</th>\n",
       "      <td>102025</td>\n",
       "      <td>20020131</td>\n",
       "      <td>1</td>\n",
       "      <td>900000000000207008</td>\n",
       "      <td>10000006</td>\n",
       "      <td>9972008</td>\n",
       "      <td>0</td>\n",
       "      <td>116680003</td>\n",
       "      <td>900000000000011006</td>\n",
       "      <td>900000000000451002</td>\n",
       "    </tr>\n",
       "    <tr>\n",
       "      <th>13</th>\n",
       "      <td>114022</td>\n",
       "      <td>20020131</td>\n",
       "      <td>1</td>\n",
       "      <td>900000000000207008</td>\n",
       "      <td>134035007</td>\n",
       "      <td>84371003</td>\n",
       "      <td>0</td>\n",
       "      <td>116680003</td>\n",
       "      <td>900000000000011006</td>\n",
       "      <td>900000000000451002</td>\n",
       "    </tr>\n",
       "    <tr>\n",
       "      <th>26</th>\n",
       "      <td>127021</td>\n",
       "      <td>20020131</td>\n",
       "      <td>1</td>\n",
       "      <td>900000000000207008</td>\n",
       "      <td>134136005</td>\n",
       "      <td>57250008</td>\n",
       "      <td>0</td>\n",
       "      <td>116680003</td>\n",
       "      <td>900000000000011006</td>\n",
       "      <td>900000000000451002</td>\n",
       "    </tr>\n",
       "    <tr>\n",
       "      <th>40</th>\n",
       "      <td>141028</td>\n",
       "      <td>20020131</td>\n",
       "      <td>1</td>\n",
       "      <td>900000000000207008</td>\n",
       "      <td>135161004</td>\n",
       "      <td>136248004</td>\n",
       "      <td>0</td>\n",
       "      <td>116680003</td>\n",
       "      <td>900000000000011006</td>\n",
       "      <td>900000000000451002</td>\n",
       "    </tr>\n",
       "  </tbody>\n",
       "</table>\n",
       "</div>"
      ],
      "text/plain": [
       "        id effectiveTime active            moduleId   sourceId destinationId  \\\n",
       "1   101021      20020131      1  900000000000207008   10000006      29857009   \n",
       "2   102025      20020131      1  900000000000207008   10000006       9972008   \n",
       "13  114022      20020131      1  900000000000207008  134035007      84371003   \n",
       "26  127021      20020131      1  900000000000207008  134136005      57250008   \n",
       "40  141028      20020131      1  900000000000207008  135161004     136248004   \n",
       "\n",
       "   relationshipGroup     typeId characteristicTypeId          modifierId  \n",
       "1                  0  116680003   900000000000011006  900000000000451002  \n",
       "2                  0  116680003   900000000000011006  900000000000451002  \n",
       "13                 0  116680003   900000000000011006  900000000000451002  \n",
       "26                 0  116680003   900000000000011006  900000000000451002  \n",
       "40                 0  116680003   900000000000011006  900000000000451002  "
      ]
     },
     "execution_count": 33,
     "metadata": {},
     "output_type": "execute_result"
    }
   ],
   "source": [
    "filtered_is_a_rels.head()"
   ]
  },
  {
   "cell_type": "markdown",
   "metadata": {},
   "source": [
    "## Filtering SNOMED for neurology\n",
    "- use the medcat-labelled reports to get codes that are specific to neurology, only include these and their ancestors\n",
    "- also do not include substance, event or observable entity types"
   ]
  },
  {
   "cell_type": "code",
   "execution_count": 9,
   "metadata": {},
   "outputs": [],
   "source": [
    "filtered_snomed_df = pd.read_csv(FILTERED_SNOMED_PATH, dtype=object, index_col=\"Unnamed: 0\")\n",
    "filtered_is_a_rels = pd.read_csv(FILTERED_SNOMED_RELS_PATH, dtype=object, index_col=\"Unnamed: 0\")"
   ]
  },
  {
   "cell_type": "code",
   "execution_count": 10,
   "metadata": {},
   "outputs": [],
   "source": [
    "MEDCAT_DATA_PATH = \"/home/hwatkins/Desktop/neuroNLP_assets/data/medcat_snomed_annotated_reports_10k.json\""
   ]
  },
  {
   "cell_type": "code",
   "execution_count": 11,
   "metadata": {},
   "outputs": [],
   "source": [
    "with open(MEDCAT_DATA_PATH, \"r\") as file:\n",
    "    medcat_labelled_data = json.load(file)"
   ]
  },
  {
   "cell_type": "code",
   "execution_count": 12,
   "metadata": {},
   "outputs": [
    {
     "data": {
      "text/plain": [
       "{'text': \"T1-SE Sagittal None T2-TSE Transverse None FLAIR Coronal None DIFFUSION Transverse None Indication: Atypical migraine/TAC, new onset. Findings: Normal intracranial appearances. In particular, normal appearances of the pons, cisternal portions of the trigeminal nerves and Meckel's cave bilaterally. Dr Harpreet Hyare Locum Consultant Neuroradiologist 10 June 2009\",\n",
       " 'labels': [[6, 14, '30730003'],\n",
       "  [27, 37, '62824007'],\n",
       "  [49, 56, '81654009'],\n",
       "  [62, 71, '46638006'],\n",
       "  [72, 82, '62824007'],\n",
       "  [100, 117, '56097005'],\n",
       "  [123, 126, '7147002'],\n",
       "  [127, 132, '370139004'],\n",
       "  [134, 142, '163121000000106'],\n",
       "  [144, 150, '17621005'],\n",
       "  [151, 163, '303231004'],\n",
       "  [164, 175, '255412001'],\n",
       "  [192, 210, '386549008'],\n",
       "  [218, 222, '49557009'],\n",
       "  [250, 267, '27612005'],\n",
       "  [281, 285, '285067000'],\n",
       "  [317, 322, '224936003'],\n",
       "  [323, 333, '768839008']]}"
      ]
     },
     "execution_count": 12,
     "metadata": {},
     "output_type": "execute_result"
    }
   ],
   "source": [
    "medcat_labelled_data[0]"
   ]
  },
  {
   "cell_type": "markdown",
   "metadata": {},
   "source": [
    "Get all the unique snomed codes in the labelled data, then find filter the \"filtered\" snomed further, including only these codes and their ancestors"
   ]
  },
  {
   "cell_type": "code",
   "execution_count": 13,
   "metadata": {},
   "outputs": [
    {
     "name": "stderr",
     "output_type": "stream",
     "text": [
      "100%|██████████| 10000/10000 [00:00<00:00, 272723.99it/s]\n"
     ]
    }
   ],
   "source": [
    "all_codes = []\n",
    "for report in tqdm(medcat_labelled_data):\n",
    "    for label in report[\"labels\"]:\n",
    "        all_codes.append(label[2])\n",
    "unique_codes = list(set(all_codes))"
   ]
  },
  {
   "cell_type": "code",
   "execution_count": 14,
   "metadata": {},
   "outputs": [
    {
     "data": {
      "text/plain": [
       "5267"
      ]
     },
     "execution_count": 14,
     "metadata": {},
     "output_type": "execute_result"
    }
   ],
   "source": [
    "len(unique_codes)"
   ]
  },
  {
   "cell_type": "code",
   "execution_count": 15,
   "metadata": {},
   "outputs": [],
   "source": [
    "kb = KnowledgeBase(FILTERED_SNOMED_PATH, FILTERED_SNOMED_RELS_PATH)"
   ]
  },
  {
   "cell_type": "code",
   "execution_count": 16,
   "metadata": {},
   "outputs": [
    {
     "data": {
      "text/plain": [
       "True"
      ]
     },
     "execution_count": 16,
     "metadata": {},
     "output_type": "execute_result"
    }
   ],
   "source": [
    "kb.is_in(unique_codes[1000])"
   ]
  },
  {
   "cell_type": "code",
   "execution_count": 18,
   "metadata": {},
   "outputs": [],
   "source": [
    "def get_all_ancestors(cui):\n",
    "    ancestors = []\n",
    "    queue = [cui]\n",
    "    while queue:\n",
    "        current_cui = queue.pop(0)\n",
    "        ancestors.append(current_cui)\n",
    "        for parent in kb[current_cui].parents:\n",
    "            queue.append(parent.cui)\n",
    "    return ancestors"
   ]
  },
  {
   "cell_type": "code",
   "execution_count": 19,
   "metadata": {},
   "outputs": [
    {
     "name": "stderr",
     "output_type": "stream",
     "text": [
      "100%|██████████| 5267/5267 [1:11:59<00:00,  1.22it/s]  \n"
     ]
    }
   ],
   "source": [
    "all_codes_with_ancestors = []\n",
    "for code in tqdm(unique_codes):\n",
    "    if kb.is_in(code):\n",
    "        all_codes_with_ancestors.extend(get_all_ancestors(code))\n",
    "unique_codes_with_ancestors = list(set(all_codes_with_ancestors))\n",
    "    "
   ]
  },
  {
   "cell_type": "code",
   "execution_count": 20,
   "metadata": {},
   "outputs": [
    {
     "data": {
      "text/plain": [
       "7310"
      ]
     },
     "execution_count": 20,
     "metadata": {},
     "output_type": "execute_result"
    }
   ],
   "source": [
    "len(unique_codes_with_ancestors)"
   ]
  },
  {
   "cell_type": "code",
   "execution_count": 22,
   "metadata": {},
   "outputs": [],
   "source": [
    "neuro_snomed_df = filtered_snomed_df[filtered_snomed_df[\"cui\"].isin(unique_codes_with_ancestors)]"
   ]
  },
  {
   "cell_type": "code",
   "execution_count": 23,
   "metadata": {},
   "outputs": [
    {
     "data": {
      "text/plain": [
       "23306"
      ]
     },
     "execution_count": 23,
     "metadata": {},
     "output_type": "execute_result"
    }
   ],
   "source": [
    "len(neuro_snomed_df)"
   ]
  },
  {
   "cell_type": "code",
   "execution_count": 24,
   "metadata": {},
   "outputs": [],
   "source": [
    "neuro_is_a_rels = filtered_is_a_rels[(filtered_is_a_rels['sourceId'].isin(neuro_snomed_df['cui'])) & (filtered_is_a_rels['destinationId'].isin(neuro_snomed_df['cui'])) ]"
   ]
  },
  {
   "cell_type": "code",
   "execution_count": 25,
   "metadata": {},
   "outputs": [
    {
     "data": {
      "text/plain": [
       "11996"
      ]
     },
     "execution_count": 25,
     "metadata": {},
     "output_type": "execute_result"
    }
   ],
   "source": [
    "len(neuro_is_a_rels)"
   ]
  },
  {
   "cell_type": "code",
   "execution_count": 26,
   "metadata": {},
   "outputs": [],
   "source": [
    "NEURO_SNOMED_PATH = '/home/hwatkins/Desktop/neuroNLP_assets/data/ontology_data/neuro_snomed_ct.csv'\n",
    "NEURO_SNOMED_RELS_PATH = '/home/hwatkins/Desktop/neuroNLP_assets/data/ontology_data/neuro_snomed_ct_is_a_relations.csv'"
   ]
  },
  {
   "cell_type": "code",
   "execution_count": 27,
   "metadata": {},
   "outputs": [],
   "source": [
    "neuro_snomed_df.to_csv(NEURO_SNOMED_PATH)\n",
    "neuro_is_a_rels.to_csv(NEURO_SNOMED_RELS_PATH)"
   ]
  },
  {
   "cell_type": "code",
   "execution_count": 28,
   "metadata": {},
   "outputs": [],
   "source": [
    "neurokb = KnowledgeBase(NEURO_SNOMED_PATH, NEURO_SNOMED_RELS_PATH)"
   ]
  },
  {
   "cell_type": "code",
   "execution_count": 36,
   "metadata": {},
   "outputs": [
    {
     "data": {
      "text/plain": [
       "1"
      ]
     },
     "execution_count": 36,
     "metadata": {},
     "output_type": "execute_result"
    }
   ],
   "source": [
    "neurokb.get_root().children[1].children[1].depth"
   ]
  },
  {
   "cell_type": "markdown",
   "metadata": {},
   "source": [
    "# RADLEX dictionary"
   ]
  },
  {
   "cell_type": "code",
   "execution_count": 132,
   "metadata": {},
   "outputs": [],
   "source": [
    "RADLEX_PATH = \"/home/hwatkins/Desktop/external_datasets/RADLEX/RADLEX.csv\""
   ]
  },
  {
   "cell_type": "code",
   "execution_count": 133,
   "metadata": {},
   "outputs": [
    {
     "name": "stderr",
     "output_type": "stream",
     "text": [
      "/home/hwatkins/anaconda3/lib/python3.7/site-packages/IPython/core/interactiveshell.py:3072: DtypeWarning: Columns (12,32,39,46,61,78,81,83,88) have mixed types.Specify dtype option on import or set low_memory=False.\n",
      "  interactivity=interactivity, compiler=compiler, result=result)\n"
     ]
    }
   ],
   "source": [
    "radlex_df = pd.read_csv(RADLEX_PATH)"
   ]
  },
  {
   "cell_type": "code",
   "execution_count": 134,
   "metadata": {},
   "outputs": [
    {
     "data": {
      "text/html": [
       "<div>\n",
       "<style scoped>\n",
       "    .dataframe tbody tr th:only-of-type {\n",
       "        vertical-align: middle;\n",
       "    }\n",
       "\n",
       "    .dataframe tbody tr th {\n",
       "        vertical-align: top;\n",
       "    }\n",
       "\n",
       "    .dataframe thead th {\n",
       "        text-align: right;\n",
       "    }\n",
       "</style>\n",
       "<table border=\"1\" class=\"dataframe\">\n",
       "  <thead>\n",
       "    <tr style=\"text-align: right;\">\n",
       "      <th></th>\n",
       "      <th>Class ID</th>\n",
       "      <th>Preferred Label</th>\n",
       "      <th>Synonyms</th>\n",
       "      <th>Definitions</th>\n",
       "      <th>Obsolete</th>\n",
       "      <th>CUI</th>\n",
       "      <th>Semantic Types</th>\n",
       "      <th>Parents</th>\n",
       "      <th>http://data.bioontology.org/metadata/prefixIRI</th>\n",
       "      <th>http://radlex.org/RID/AAL</th>\n",
       "      <th>...</th>\n",
       "      <th>http://radlex.org/RID/Surrounded_by</th>\n",
       "      <th>http://radlex.org/RID/Surrounds</th>\n",
       "      <th>http://radlex.org/RID/Synonym</th>\n",
       "      <th>http://radlex.org/RID/Synonym_German</th>\n",
       "      <th>http://radlex.org/RID/Talairach</th>\n",
       "      <th>http://radlex.org/RID/Term_type</th>\n",
       "      <th>http://radlex.org/RID/Tributary_Of</th>\n",
       "      <th>http://radlex.org/RID/UMLS_ID</th>\n",
       "      <th>http://radlex.org/RID/UMLS_Term</th>\n",
       "      <th>http://radlex.org/RID/Unsanctioned_Term</th>\n",
       "    </tr>\n",
       "  </thead>\n",
       "  <tbody>\n",
       "    <tr>\n",
       "      <th>4024</th>\n",
       "      <td>http://radlex.org/RID/RID95</td>\n",
       "      <td>esophagus</td>\n",
       "      <td>oesophagus|esoph|oesophagus</td>\n",
       "      <td>Organ with organ cavity which is continuous su...</td>\n",
       "      <td>False</td>\n",
       "      <td>NaN</td>\n",
       "      <td>NaN</td>\n",
       "      <td>http://radlex.org/RID/RID13444</td>\n",
       "      <td>RID95</td>\n",
       "      <td>NaN</td>\n",
       "      <td>...</td>\n",
       "      <td>NaN</td>\n",
       "      <td>NaN</td>\n",
       "      <td>oesophagus|esoph</td>\n",
       "      <td>oesophagus</td>\n",
       "      <td>NaN</td>\n",
       "      <td>NaN</td>\n",
       "      <td>NaN</td>\n",
       "      <td>C0014876</td>\n",
       "      <td>NaN</td>\n",
       "      <td>NaN</td>\n",
       "    </tr>\n",
       "    <tr>\n",
       "      <th>35893</th>\n",
       "      <td>http://radlex.org/RID/RID12488</td>\n",
       "      <td>RID12488</td>\n",
       "      <td>NaN</td>\n",
       "      <td>NaN</td>\n",
       "      <td>False</td>\n",
       "      <td>NaN</td>\n",
       "      <td>NaN</td>\n",
       "      <td>http://radlex.org/RID/RID15849</td>\n",
       "      <td>RID12488</td>\n",
       "      <td>NaN</td>\n",
       "      <td>...</td>\n",
       "      <td>NaN</td>\n",
       "      <td>NaN</td>\n",
       "      <td>NaN</td>\n",
       "      <td>NaN</td>\n",
       "      <td>NaN</td>\n",
       "      <td>NaN</td>\n",
       "      <td>NaN</td>\n",
       "      <td>NaN</td>\n",
       "      <td>NaN</td>\n",
       "      <td>NaN</td>\n",
       "    </tr>\n",
       "    <tr>\n",
       "      <th>27858</th>\n",
       "      <td>http://radlex.org/RID/RID37012</td>\n",
       "      <td>multiform layer of left Brodmann area 12</td>\n",
       "      <td>NaN</td>\n",
       "      <td>NaN</td>\n",
       "      <td>False</td>\n",
       "      <td>NaN</td>\n",
       "      <td>NaN</td>\n",
       "      <td>http://radlex.org/RID/RID37010</td>\n",
       "      <td>RID37012</td>\n",
       "      <td>NaN</td>\n",
       "      <td>...</td>\n",
       "      <td>NaN</td>\n",
       "      <td>NaN</td>\n",
       "      <td>NaN</td>\n",
       "      <td>NaN</td>\n",
       "      <td>NaN</td>\n",
       "      <td>NaN</td>\n",
       "      <td>NaN</td>\n",
       "      <td>NaN</td>\n",
       "      <td>NaN</td>\n",
       "      <td>NaN</td>\n",
       "    </tr>\n",
       "    <tr>\n",
       "      <th>17218</th>\n",
       "      <td>http://radlex.org/RID/RID22944</td>\n",
       "      <td>posterior ramus of sacral nerve</td>\n",
       "      <td>NaN</td>\n",
       "      <td>NaN</td>\n",
       "      <td>False</td>\n",
       "      <td>NaN</td>\n",
       "      <td>NaN</td>\n",
       "      <td>http://radlex.org/RID/RID7440</td>\n",
       "      <td>RID22944</td>\n",
       "      <td>NaN</td>\n",
       "      <td>...</td>\n",
       "      <td>NaN</td>\n",
       "      <td>NaN</td>\n",
       "      <td>NaN</td>\n",
       "      <td>NaN</td>\n",
       "      <td>NaN</td>\n",
       "      <td>NaN</td>\n",
       "      <td>NaN</td>\n",
       "      <td>NaN</td>\n",
       "      <td>NaN</td>\n",
       "      <td>NaN</td>\n",
       "    </tr>\n",
       "    <tr>\n",
       "      <th>33474</th>\n",
       "      <td>http://radlex.org/RID/RID39061</td>\n",
       "      <td>external anal sphincter</td>\n",
       "      <td>äußerer Analschließmuskel</td>\n",
       "      <td>NaN</td>\n",
       "      <td>False</td>\n",
       "      <td>NaN</td>\n",
       "      <td>NaN</td>\n",
       "      <td>http://radlex.org/RID/RID39060</td>\n",
       "      <td>RID39061</td>\n",
       "      <td>NaN</td>\n",
       "      <td>...</td>\n",
       "      <td>NaN</td>\n",
       "      <td>NaN</td>\n",
       "      <td>NaN</td>\n",
       "      <td>äußerer Analschließmuskel</td>\n",
       "      <td>NaN</td>\n",
       "      <td>NaN</td>\n",
       "      <td>NaN</td>\n",
       "      <td>NaN</td>\n",
       "      <td>NaN</td>\n",
       "      <td>NaN</td>\n",
       "    </tr>\n",
       "  </tbody>\n",
       "</table>\n",
       "<p>5 rows × 92 columns</p>\n",
       "</div>"
      ],
      "text/plain": [
       "                             Class ID  \\\n",
       "4024      http://radlex.org/RID/RID95   \n",
       "35893  http://radlex.org/RID/RID12488   \n",
       "27858  http://radlex.org/RID/RID37012   \n",
       "17218  http://radlex.org/RID/RID22944   \n",
       "33474  http://radlex.org/RID/RID39061   \n",
       "\n",
       "                                Preferred Label                     Synonyms  \\\n",
       "4024                                  esophagus  oesophagus|esoph|oesophagus   \n",
       "35893                                  RID12488                          NaN   \n",
       "27858  multiform layer of left Brodmann area 12                          NaN   \n",
       "17218           posterior ramus of sacral nerve                          NaN   \n",
       "33474                   external anal sphincter    äußerer Analschließmuskel   \n",
       "\n",
       "                                             Definitions  Obsolete  CUI  \\\n",
       "4024   Organ with organ cavity which is continuous su...     False  NaN   \n",
       "35893                                                NaN     False  NaN   \n",
       "27858                                                NaN     False  NaN   \n",
       "17218                                                NaN     False  NaN   \n",
       "33474                                                NaN     False  NaN   \n",
       "\n",
       "       Semantic Types                         Parents  \\\n",
       "4024              NaN  http://radlex.org/RID/RID13444   \n",
       "35893             NaN  http://radlex.org/RID/RID15849   \n",
       "27858             NaN  http://radlex.org/RID/RID37010   \n",
       "17218             NaN   http://radlex.org/RID/RID7440   \n",
       "33474             NaN  http://radlex.org/RID/RID39060   \n",
       "\n",
       "      http://data.bioontology.org/metadata/prefixIRI  \\\n",
       "4024                                           RID95   \n",
       "35893                                       RID12488   \n",
       "27858                                       RID37012   \n",
       "17218                                       RID22944   \n",
       "33474                                       RID39061   \n",
       "\n",
       "       http://radlex.org/RID/AAL  ... http://radlex.org/RID/Surrounded_by  \\\n",
       "4024                         NaN  ...                                 NaN   \n",
       "35893                        NaN  ...                                 NaN   \n",
       "27858                        NaN  ...                                 NaN   \n",
       "17218                        NaN  ...                                 NaN   \n",
       "33474                        NaN  ...                                 NaN   \n",
       "\n",
       "      http://radlex.org/RID/Surrounds http://radlex.org/RID/Synonym  \\\n",
       "4024                              NaN              oesophagus|esoph   \n",
       "35893                             NaN                           NaN   \n",
       "27858                             NaN                           NaN   \n",
       "17218                             NaN                           NaN   \n",
       "33474                             NaN                           NaN   \n",
       "\n",
       "      http://radlex.org/RID/Synonym_German http://radlex.org/RID/Talairach  \\\n",
       "4024                            oesophagus                             NaN   \n",
       "35893                                  NaN                             NaN   \n",
       "27858                                  NaN                             NaN   \n",
       "17218                                  NaN                             NaN   \n",
       "33474            äußerer Analschließmuskel                             NaN   \n",
       "\n",
       "      http://radlex.org/RID/Term_type http://radlex.org/RID/Tributary_Of  \\\n",
       "4024                              NaN                                NaN   \n",
       "35893                             NaN                                NaN   \n",
       "27858                             NaN                                NaN   \n",
       "17218                             NaN                                NaN   \n",
       "33474                             NaN                                NaN   \n",
       "\n",
       "      http://radlex.org/RID/UMLS_ID  http://radlex.org/RID/UMLS_Term  \\\n",
       "4024                       C0014876                              NaN   \n",
       "35893                           NaN                              NaN   \n",
       "27858                           NaN                              NaN   \n",
       "17218                           NaN                              NaN   \n",
       "33474                           NaN                              NaN   \n",
       "\n",
       "       http://radlex.org/RID/Unsanctioned_Term  \n",
       "4024                                       NaN  \n",
       "35893                                      NaN  \n",
       "27858                                      NaN  \n",
       "17218                                      NaN  \n",
       "33474                                      NaN  \n",
       "\n",
       "[5 rows x 92 columns]"
      ]
     },
     "execution_count": 134,
     "metadata": {},
     "output_type": "execute_result"
    }
   ],
   "source": [
    "radlex_df.sample(5)"
   ]
  },
  {
   "cell_type": "markdown",
   "metadata": {},
   "source": [
    "## Convert radlex to own format"
   ]
  },
  {
   "cell_type": "code",
   "execution_count": 135,
   "metadata": {},
   "outputs": [],
   "source": [
    "relevant_radlex_df = radlex_df[['Class ID','Preferred Label','Synonyms']]"
   ]
  },
  {
   "cell_type": "code",
   "execution_count": 136,
   "metadata": {},
   "outputs": [],
   "source": [
    "relevant_radlex_rels = radlex_df[['Class ID','Parents']]"
   ]
  },
  {
   "cell_type": "code",
   "execution_count": 137,
   "metadata": {},
   "outputs": [
    {
     "name": "stderr",
     "output_type": "stream",
     "text": [
      "/home/hwatkins/anaconda3/lib/python3.7/site-packages/ipykernel_launcher.py:1: SettingWithCopyWarning: \n",
      "A value is trying to be set on a copy of a slice from a DataFrame.\n",
      "Try using .loc[row_indexer,col_indexer] = value instead\n",
      "\n",
      "See the caveats in the documentation: https://pandas.pydata.org/pandas-docs/stable/user_guide/indexing.html#returning-a-view-versus-a-copy\n",
      "  \"\"\"Entry point for launching an IPython kernel.\n"
     ]
    }
   ],
   "source": [
    "relevant_radlex_df['cui'] = relevant_radlex_df['Class ID'].str.replace('http://radlex.org/RID/','')\n",
    "relevant_radlex_df = relevant_radlex_df.drop(columns=['Class ID'])"
   ]
  },
  {
   "cell_type": "code",
   "execution_count": 138,
   "metadata": {},
   "outputs": [],
   "source": [
    "preferred_names = relevant_radlex_df[['cui','Preferred Label']]\n",
    "aliases = relevant_radlex_df[['cui','Synonyms']].dropna()"
   ]
  },
  {
   "cell_type": "code",
   "execution_count": 139,
   "metadata": {},
   "outputs": [],
   "source": [
    "aliases['Synonyms'] = aliases['Synonyms'].str.split('|')"
   ]
  },
  {
   "cell_type": "code",
   "execution_count": 140,
   "metadata": {},
   "outputs": [],
   "source": [
    "split_aliases = aliases.explode('Synonyms').reset_index(drop=True)"
   ]
  },
  {
   "cell_type": "code",
   "execution_count": 141,
   "metadata": {},
   "outputs": [],
   "source": [
    "split_aliases['is_preferred_name'] = 0\n",
    "preferred_names['is_preferred_name'] = 1"
   ]
  },
  {
   "cell_type": "code",
   "execution_count": 142,
   "metadata": {},
   "outputs": [],
   "source": [
    "preferred_names = preferred_names.rename(columns={'Preferred Label':'concept_name'})\n",
    "split_aliases = split_aliases.rename(columns={'Synonyms':'concept_name'})"
   ]
  },
  {
   "cell_type": "code",
   "execution_count": 143,
   "metadata": {},
   "outputs": [
    {
     "data": {
      "text/html": [
       "<div>\n",
       "<style scoped>\n",
       "    .dataframe tbody tr th:only-of-type {\n",
       "        vertical-align: middle;\n",
       "    }\n",
       "\n",
       "    .dataframe tbody tr th {\n",
       "        vertical-align: top;\n",
       "    }\n",
       "\n",
       "    .dataframe thead th {\n",
       "        text-align: right;\n",
       "    }\n",
       "</style>\n",
       "<table border=\"1\" class=\"dataframe\">\n",
       "  <thead>\n",
       "    <tr style=\"text-align: right;\">\n",
       "      <th></th>\n",
       "      <th>cui</th>\n",
       "      <th>concept_name</th>\n",
       "      <th>is_preferred_name</th>\n",
       "    </tr>\n",
       "  </thead>\n",
       "  <tbody>\n",
       "    <tr>\n",
       "      <th>0</th>\n",
       "      <td>RID49617</td>\n",
       "      <td>dialysis fistula</td>\n",
       "      <td>1</td>\n",
       "    </tr>\n",
       "    <tr>\n",
       "      <th>1</th>\n",
       "      <td>RID9383</td>\n",
       "      <td>hiatus for greater petrosal nerve</td>\n",
       "      <td>1</td>\n",
       "    </tr>\n",
       "    <tr>\n",
       "      <th>2</th>\n",
       "      <td>RID19144</td>\n",
       "      <td>rootlet of left fourth lumbar nerve</td>\n",
       "      <td>1</td>\n",
       "    </tr>\n",
       "    <tr>\n",
       "      <th>3</th>\n",
       "      <td>RID27415</td>\n",
       "      <td>thoracic segment of right ventral gray column ...</td>\n",
       "      <td>1</td>\n",
       "    </tr>\n",
       "    <tr>\n",
       "      <th>4</th>\n",
       "      <td>RID44540</td>\n",
       "      <td>synovial membrane of bursa</td>\n",
       "      <td>1</td>\n",
       "    </tr>\n",
       "  </tbody>\n",
       "</table>\n",
       "</div>"
      ],
      "text/plain": [
       "        cui                                       concept_name  \\\n",
       "0  RID49617                                   dialysis fistula   \n",
       "1   RID9383                  hiatus for greater petrosal nerve   \n",
       "2  RID19144                rootlet of left fourth lumbar nerve   \n",
       "3  RID27415  thoracic segment of right ventral gray column ...   \n",
       "4  RID44540                         synovial membrane of bursa   \n",
       "\n",
       "   is_preferred_name  \n",
       "0                  1  \n",
       "1                  1  \n",
       "2                  1  \n",
       "3                  1  \n",
       "4                  1  "
      ]
     },
     "execution_count": 143,
     "metadata": {},
     "output_type": "execute_result"
    }
   ],
   "source": [
    "preferred_names.head()"
   ]
  },
  {
   "cell_type": "code",
   "execution_count": 144,
   "metadata": {},
   "outputs": [],
   "source": [
    "new_radlex_df = pd.concat([preferred_names, split_aliases], ignore_index=True)\n",
    "new_radlex_df['type_name'] = None\n",
    "new_radlex_df['ontology'] = 'RADLEX'\n",
    "new_radlex_df['tui'] = None\n"
   ]
  },
  {
   "cell_type": "code",
   "execution_count": 145,
   "metadata": {},
   "outputs": [
    {
     "data": {
      "text/html": [
       "<div>\n",
       "<style scoped>\n",
       "    .dataframe tbody tr th:only-of-type {\n",
       "        vertical-align: middle;\n",
       "    }\n",
       "\n",
       "    .dataframe tbody tr th {\n",
       "        vertical-align: top;\n",
       "    }\n",
       "\n",
       "    .dataframe thead th {\n",
       "        text-align: right;\n",
       "    }\n",
       "</style>\n",
       "<table border=\"1\" class=\"dataframe\">\n",
       "  <thead>\n",
       "    <tr style=\"text-align: right;\">\n",
       "      <th></th>\n",
       "      <th>cui</th>\n",
       "      <th>concept_name</th>\n",
       "      <th>is_preferred_name</th>\n",
       "      <th>type_name</th>\n",
       "      <th>ontology</th>\n",
       "      <th>tui</th>\n",
       "    </tr>\n",
       "  </thead>\n",
       "  <tbody>\n",
       "    <tr>\n",
       "      <th>22494</th>\n",
       "      <td>Non-RadLex_term</td>\n",
       "      <td>Non-RadLex term</td>\n",
       "      <td>1</td>\n",
       "      <td>None</td>\n",
       "      <td>RADLEX</td>\n",
       "      <td>None</td>\n",
       "    </tr>\n",
       "    <tr>\n",
       "      <th>22198</th>\n",
       "      <td>RID0</td>\n",
       "      <td>Radlex ontology entity</td>\n",
       "      <td>1</td>\n",
       "      <td>None</td>\n",
       "      <td>RADLEX</td>\n",
       "      <td>None</td>\n",
       "    </tr>\n",
       "    <tr>\n",
       "      <th>27134</th>\n",
       "      <td>RID1</td>\n",
       "      <td>RadLex entity</td>\n",
       "      <td>1</td>\n",
       "      <td>None</td>\n",
       "      <td>RADLEX</td>\n",
       "      <td>None</td>\n",
       "    </tr>\n",
       "    <tr>\n",
       "      <th>7821</th>\n",
       "      <td>RID10</td>\n",
       "      <td>image quality</td>\n",
       "      <td>1</td>\n",
       "      <td>None</td>\n",
       "      <td>RADLEX</td>\n",
       "      <td>None</td>\n",
       "    </tr>\n",
       "    <tr>\n",
       "      <th>12040</th>\n",
       "      <td>RID1000</td>\n",
       "      <td>lingular inferior segment artery</td>\n",
       "      <td>1</td>\n",
       "      <td>None</td>\n",
       "      <td>RADLEX</td>\n",
       "      <td>None</td>\n",
       "    </tr>\n",
       "    <tr>\n",
       "      <th>...</th>\n",
       "      <td>...</td>\n",
       "      <td>...</td>\n",
       "      <td>...</td>\n",
       "      <td>...</td>\n",
       "      <td>...</td>\n",
       "      <td>...</td>\n",
       "    </tr>\n",
       "    <tr>\n",
       "      <th>56423</th>\n",
       "      <td>RID9998</td>\n",
       "      <td>Eustachian amygdala</td>\n",
       "      <td>0</td>\n",
       "      <td>None</td>\n",
       "      <td>RADLEX</td>\n",
       "      <td>None</td>\n",
       "    </tr>\n",
       "    <tr>\n",
       "      <th>19359</th>\n",
       "      <td>RID9998</td>\n",
       "      <td>tubal tonsil</td>\n",
       "      <td>1</td>\n",
       "      <td>None</td>\n",
       "      <td>RADLEX</td>\n",
       "      <td>None</td>\n",
       "    </tr>\n",
       "    <tr>\n",
       "      <th>56422</th>\n",
       "      <td>RID9998</td>\n",
       "      <td>auditory tube lymph gland</td>\n",
       "      <td>0</td>\n",
       "      <td>None</td>\n",
       "      <td>RADLEX</td>\n",
       "      <td>None</td>\n",
       "    </tr>\n",
       "    <tr>\n",
       "      <th>10788</th>\n",
       "      <td>RID9999</td>\n",
       "      <td>pharyngeal recess</td>\n",
       "      <td>1</td>\n",
       "      <td>None</td>\n",
       "      <td>RADLEX</td>\n",
       "      <td>None</td>\n",
       "    </tr>\n",
       "    <tr>\n",
       "      <th>44159</th>\n",
       "      <td>RadLex_term</td>\n",
       "      <td>RadLex term</td>\n",
       "      <td>1</td>\n",
       "      <td>None</td>\n",
       "      <td>RADLEX</td>\n",
       "      <td>None</td>\n",
       "    </tr>\n",
       "  </tbody>\n",
       "</table>\n",
       "<p>70609 rows × 6 columns</p>\n",
       "</div>"
      ],
      "text/plain": [
       "                   cui                      concept_name  is_preferred_name  \\\n",
       "22494  Non-RadLex_term                   Non-RadLex term                  1   \n",
       "22198             RID0            Radlex ontology entity                  1   \n",
       "27134             RID1                     RadLex entity                  1   \n",
       "7821             RID10                     image quality                  1   \n",
       "12040          RID1000  lingular inferior segment artery                  1   \n",
       "...                ...                               ...                ...   \n",
       "56423          RID9998               Eustachian amygdala                  0   \n",
       "19359          RID9998                      tubal tonsil                  1   \n",
       "56422          RID9998         auditory tube lymph gland                  0   \n",
       "10788          RID9999                 pharyngeal recess                  1   \n",
       "44159      RadLex_term                       RadLex term                  1   \n",
       "\n",
       "      type_name ontology   tui  \n",
       "22494      None   RADLEX  None  \n",
       "22198      None   RADLEX  None  \n",
       "27134      None   RADLEX  None  \n",
       "7821       None   RADLEX  None  \n",
       "12040      None   RADLEX  None  \n",
       "...         ...      ...   ...  \n",
       "56423      None   RADLEX  None  \n",
       "19359      None   RADLEX  None  \n",
       "56422      None   RADLEX  None  \n",
       "10788      None   RADLEX  None  \n",
       "44159      None   RADLEX  None  \n",
       "\n",
       "[70609 rows x 6 columns]"
      ]
     },
     "execution_count": 145,
     "metadata": {},
     "output_type": "execute_result"
    }
   ],
   "source": [
    "new_radlex_df.sort_values(by=['cui'])"
   ]
  },
  {
   "cell_type": "markdown",
   "metadata": {},
   "source": [
    "## Adding relations"
   ]
  },
  {
   "cell_type": "code",
   "execution_count": 146,
   "metadata": {},
   "outputs": [],
   "source": [
    "soures = relevant_radlex_rels['Class ID'].str.replace('http://radlex.org/RID/','')\n",
    "sinks = relevant_radlex_rels['Parents'].str.replace('http://radlex.org/RID/','')"
   ]
  },
  {
   "cell_type": "code",
   "execution_count": 147,
   "metadata": {},
   "outputs": [],
   "source": [
    "radlex_is_a_rels = pd.DataFrame()\n",
    "radlex_is_a_rels[\"sourceId\"] = soures\n",
    "radlex_is_a_rels[\"destinationId\"] = sinks"
   ]
  },
  {
   "cell_type": "code",
   "execution_count": 148,
   "metadata": {},
   "outputs": [],
   "source": [
    "rel_ids = pd.Series(radlex_is_a_rels.index + len(radlex_is_a_rels))"
   ]
  },
  {
   "cell_type": "code",
   "execution_count": 149,
   "metadata": {},
   "outputs": [],
   "source": [
    "radlex_is_a_rels[\"id\"] = rel_ids"
   ]
  },
  {
   "cell_type": "markdown",
   "metadata": {},
   "source": [
    "## Adding types\n",
    "USe the top-level layer in the hierarchy as the type name"
   ]
  },
  {
   "cell_type": "code",
   "execution_count": 150,
   "metadata": {},
   "outputs": [
    {
     "data": {
      "text/html": [
       "<div>\n",
       "<style scoped>\n",
       "    .dataframe tbody tr th:only-of-type {\n",
       "        vertical-align: middle;\n",
       "    }\n",
       "\n",
       "    .dataframe tbody tr th {\n",
       "        vertical-align: top;\n",
       "    }\n",
       "\n",
       "    .dataframe thead th {\n",
       "        text-align: right;\n",
       "    }\n",
       "</style>\n",
       "<table border=\"1\" class=\"dataframe\">\n",
       "  <thead>\n",
       "    <tr style=\"text-align: right;\">\n",
       "      <th></th>\n",
       "      <th>cui</th>\n",
       "      <th>concept_name</th>\n",
       "      <th>is_preferred_name</th>\n",
       "      <th>type_name</th>\n",
       "      <th>ontology</th>\n",
       "      <th>tui</th>\n",
       "    </tr>\n",
       "  </thead>\n",
       "  <tbody>\n",
       "  </tbody>\n",
       "</table>\n",
       "</div>"
      ],
      "text/plain": [
       "Empty DataFrame\n",
       "Columns: [cui, concept_name, is_preferred_name, type_name, ontology, tui]\n",
       "Index: []"
      ]
     },
     "execution_count": 150,
     "metadata": {},
     "output_type": "execute_result"
    }
   ],
   "source": [
    "new_radlex_df[new_radlex_df[\"cui\"]==\"RID5|RID3\"]"
   ]
  },
  {
   "cell_type": "code",
   "execution_count": 158,
   "metadata": {},
   "outputs": [
    {
     "data": {
      "text/html": [
       "<div>\n",
       "<style scoped>\n",
       "    .dataframe tbody tr th:only-of-type {\n",
       "        vertical-align: middle;\n",
       "    }\n",
       "\n",
       "    .dataframe tbody tr th {\n",
       "        vertical-align: top;\n",
       "    }\n",
       "\n",
       "    .dataframe thead th {\n",
       "        text-align: right;\n",
       "    }\n",
       "</style>\n",
       "<table border=\"1\" class=\"dataframe\">\n",
       "  <thead>\n",
       "    <tr style=\"text-align: right;\">\n",
       "      <th></th>\n",
       "      <th>sourceId</th>\n",
       "      <th>destinationId</th>\n",
       "      <th>id</th>\n",
       "    </tr>\n",
       "  </thead>\n",
       "  <tbody>\n",
       "  </tbody>\n",
       "</table>\n",
       "</div>"
      ],
      "text/plain": [
       "Empty DataFrame\n",
       "Columns: [sourceId, destinationId, id]\n",
       "Index: []"
      ]
     },
     "execution_count": 158,
     "metadata": {},
     "output_type": "execute_result"
    }
   ],
   "source": [
    "radlex_is_a_rels[radlex_is_a_rels[\"destinationId\"].str.len()>8]"
   ]
  },
  {
   "cell_type": "markdown",
   "metadata": {},
   "source": [
    "Remove the edge above RID1"
   ]
  },
  {
   "cell_type": "code",
   "execution_count": 152,
   "metadata": {},
   "outputs": [],
   "source": [
    "radlex_is_a_rels = radlex_is_a_rels.drop([22198])"
   ]
  },
  {
   "cell_type": "markdown",
   "metadata": {},
   "source": [
    "Replace an error parent"
   ]
  },
  {
   "cell_type": "code",
   "execution_count": 157,
   "metadata": {},
   "outputs": [],
   "source": [
    "radlex_is_a_rels.loc[3272] = \"RID50364\", \"RID5\", \"49908\""
   ]
  },
  {
   "cell_type": "code",
   "execution_count": 159,
   "metadata": {},
   "outputs": [],
   "source": [
    "RADLEX_PATH = '/home/hwatkins/Desktop/neuroNLP_assets/data/ontology_data/full_radlex.csv'\n",
    "RADLEX_REL_PATH = '/home/hwatkins/Desktop/neuroNLP_assets/data/ontology_data/full_radlex_is_a_rels.csv'"
   ]
  },
  {
   "cell_type": "code",
   "execution_count": 160,
   "metadata": {},
   "outputs": [],
   "source": [
    "new_radlex_df.to_csv(RADLEX_PATH)\n",
    "radlex_is_a_rels.to_csv(RADLEX_REL_PATH)"
   ]
  },
  {
   "cell_type": "markdown",
   "metadata": {},
   "source": [
    "Find the top-level layer concept for each entity in the ontology"
   ]
  },
  {
   "cell_type": "code",
   "execution_count": 161,
   "metadata": {},
   "outputs": [],
   "source": [
    "kb = KnowledgeBase(RADLEX_PATH, RADLEX_REL_PATH)"
   ]
  },
  {
   "cell_type": "code",
   "execution_count": 162,
   "metadata": {},
   "outputs": [
    {
     "data": {
      "text/plain": [
       "[imaging observation, cui: RID5]"
      ]
     },
     "execution_count": 162,
     "metadata": {},
     "output_type": "execute_result"
    }
   ],
   "source": [
    "kb[\"RID50364\"].parents"
   ]
  },
  {
   "cell_type": "code",
   "execution_count": 163,
   "metadata": {},
   "outputs": [],
   "source": [
    "def find_type(cui):\n",
    "    concept = kb[cui]\n",
    "    depth = concept.depth\n",
    "    for i in range(depth-1):\n",
    "        concept = concept.parents[0]\n",
    "    return concept.name"
   ]
  },
  {
   "cell_type": "code",
   "execution_count": 166,
   "metadata": {},
   "outputs": [
    {
     "name": "stderr",
     "output_type": "stream",
     "text": [
      "100%|██████████| 70609/70609 [16:15<00:00, 72.37it/s]\n"
     ]
    }
   ],
   "source": [
    "type_names = pd.Series([find_type(cui) for cui in tqdm(new_radlex_df['cui'])])"
   ]
  },
  {
   "cell_type": "code",
   "execution_count": 167,
   "metadata": {},
   "outputs": [],
   "source": [
    "new_radlex_df[\"type_name\"] = type_names"
   ]
  },
  {
   "cell_type": "code",
   "execution_count": 196,
   "metadata": {},
   "outputs": [],
   "source": [
    "tuis = dict(enumerate(new_radlex_df[\"type_name\"].unique()))"
   ]
  },
  {
   "cell_type": "code",
   "execution_count": 198,
   "metadata": {},
   "outputs": [],
   "source": [
    "tuis = {name: \"T0\"+str(i) for i, name in tuis.items()}"
   ]
  },
  {
   "cell_type": "code",
   "execution_count": 200,
   "metadata": {},
   "outputs": [],
   "source": [
    "new_radlex_df[\"tui\"] = pd.Series([tuis[name] for name in new_radlex_df[\"type_name\"]])"
   ]
  },
  {
   "cell_type": "code",
   "execution_count": 207,
   "metadata": {},
   "outputs": [],
   "source": [
    "new_radlex_df.to_csv(RADLEX_PATH)\n",
    "radlex_is_a_rels.to_csv(RADLEX_REL_PATH)"
   ]
  },
  {
   "cell_type": "code",
   "execution_count": null,
   "metadata": {},
   "outputs": [],
   "source": []
  },
  {
   "cell_type": "markdown",
   "metadata": {},
   "source": [
    "# ICD-10 2 SNOMED \n",
    "and vice versa. Extract the SNOMED- ICD10 mapping from the release and put into usable csv format to read into pandas"
   ]
  },
  {
   "cell_type": "code",
   "execution_count": 210,
   "metadata": {},
   "outputs": [],
   "source": [
    "ICD10MAP_PATH = \"/home/hwatkins/Desktop/external_datasets/SNOMED/SnomedCT_UKClinicalRF2/Snapshot/Refset/Map/der2_iisssciRefset_ExtendedMapSnapshot_GB1000000_20191001.txt\""
   ]
  },
  {
   "cell_type": "code",
   "execution_count": 211,
   "metadata": {},
   "outputs": [],
   "source": [
    "uk_snomed_icd10 = pd.read_csv(ICD10MAP_PATH, sep='\\t', dtype=object)"
   ]
  },
  {
   "cell_type": "code",
   "execution_count": 217,
   "metadata": {},
   "outputs": [
    {
     "data": {
      "text/html": [
       "<div>\n",
       "<style scoped>\n",
       "    .dataframe tbody tr th:only-of-type {\n",
       "        vertical-align: middle;\n",
       "    }\n",
       "\n",
       "    .dataframe tbody tr th {\n",
       "        vertical-align: top;\n",
       "    }\n",
       "\n",
       "    .dataframe thead th {\n",
       "        text-align: right;\n",
       "    }\n",
       "</style>\n",
       "<table border=\"1\" class=\"dataframe\">\n",
       "  <thead>\n",
       "    <tr style=\"text-align: right;\">\n",
       "      <th></th>\n",
       "      <th>id</th>\n",
       "      <th>effectiveTime</th>\n",
       "      <th>active</th>\n",
       "      <th>moduleId</th>\n",
       "      <th>refsetId</th>\n",
       "      <th>referencedComponentId</th>\n",
       "      <th>mapGroup</th>\n",
       "      <th>mapPriority</th>\n",
       "      <th>mapRule</th>\n",
       "      <th>mapAdvice</th>\n",
       "      <th>mapTarget</th>\n",
       "      <th>correlationId</th>\n",
       "      <th>mapBlock</th>\n",
       "    </tr>\n",
       "  </thead>\n",
       "  <tbody>\n",
       "    <tr>\n",
       "      <th>0</th>\n",
       "      <td>000004f9-03b1-5c00-80a2-935a3d38b07a</td>\n",
       "      <td>20181001</td>\n",
       "      <td>0</td>\n",
       "      <td>999000031000000106</td>\n",
       "      <td>999002741000000101</td>\n",
       "      <td>8920111000001106</td>\n",
       "      <td>1</td>\n",
       "      <td>1</td>\n",
       "      <td>NaN</td>\n",
       "      <td>Not in scope of the classification</td>\n",
       "      <td>#NIS</td>\n",
       "      <td>447561005</td>\n",
       "      <td>1</td>\n",
       "    </tr>\n",
       "    <tr>\n",
       "      <th>1</th>\n",
       "      <td>000005a5-575c-5dae-b3ea-d3fd4d5e6558</td>\n",
       "      <td>20181001</td>\n",
       "      <td>0</td>\n",
       "      <td>999000031000000106</td>\n",
       "      <td>999002741000000101</td>\n",
       "      <td>15801211000001100</td>\n",
       "      <td>1</td>\n",
       "      <td>1</td>\n",
       "      <td>NaN</td>\n",
       "      <td>Not in scope of the classification</td>\n",
       "      <td>#NIS</td>\n",
       "      <td>447561005</td>\n",
       "      <td>1</td>\n",
       "    </tr>\n",
       "    <tr>\n",
       "      <th>2</th>\n",
       "      <td>000008af-5a22-5492-916b-5a98568bbecb</td>\n",
       "      <td>20171001</td>\n",
       "      <td>0</td>\n",
       "      <td>999000031000000106</td>\n",
       "      <td>999002741000000101</td>\n",
       "      <td>180598008</td>\n",
       "      <td>1</td>\n",
       "      <td>1</td>\n",
       "      <td>NaN</td>\n",
       "      <td>Additional code mandatory for Y464</td>\n",
       "      <td>Y464</td>\n",
       "      <td>447561005</td>\n",
       "      <td>1</td>\n",
       "    </tr>\n",
       "    <tr>\n",
       "      <th>3</th>\n",
       "      <td>00000e10-5bd0-5de1-8980-2b4429df14d5</td>\n",
       "      <td>20170401</td>\n",
       "      <td>0</td>\n",
       "      <td>999000031000000106</td>\n",
       "      <td>999002271000000101</td>\n",
       "      <td>215429004</td>\n",
       "      <td>1</td>\n",
       "      <td>7</td>\n",
       "      <td>NaN</td>\n",
       "      <td>Additional code mandatory for V909 . Supplemen...</td>\n",
       "      <td>V909</td>\n",
       "      <td>447561005</td>\n",
       "      <td>1</td>\n",
       "    </tr>\n",
       "    <tr>\n",
       "      <th>4</th>\n",
       "      <td>00001322-3e86-5db0-8604-794b006b2e90</td>\n",
       "      <td>20181001</td>\n",
       "      <td>0</td>\n",
       "      <td>999000031000000106</td>\n",
       "      <td>999002271000000101</td>\n",
       "      <td>15707311000001104</td>\n",
       "      <td>1</td>\n",
       "      <td>1</td>\n",
       "      <td>NaN</td>\n",
       "      <td>Not in scope of the classification</td>\n",
       "      <td>#NIS</td>\n",
       "      <td>447561005</td>\n",
       "      <td>1</td>\n",
       "    </tr>\n",
       "  </tbody>\n",
       "</table>\n",
       "</div>"
      ],
      "text/plain": [
       "                                     id effectiveTime active  \\\n",
       "0  000004f9-03b1-5c00-80a2-935a3d38b07a      20181001      0   \n",
       "1  000005a5-575c-5dae-b3ea-d3fd4d5e6558      20181001      0   \n",
       "2  000008af-5a22-5492-916b-5a98568bbecb      20171001      0   \n",
       "3  00000e10-5bd0-5de1-8980-2b4429df14d5      20170401      0   \n",
       "4  00001322-3e86-5db0-8604-794b006b2e90      20181001      0   \n",
       "\n",
       "             moduleId            refsetId referencedComponentId mapGroup  \\\n",
       "0  999000031000000106  999002741000000101      8920111000001106        1   \n",
       "1  999000031000000106  999002741000000101     15801211000001100        1   \n",
       "2  999000031000000106  999002741000000101             180598008        1   \n",
       "3  999000031000000106  999002271000000101             215429004        1   \n",
       "4  999000031000000106  999002271000000101     15707311000001104        1   \n",
       "\n",
       "  mapPriority mapRule                                          mapAdvice  \\\n",
       "0           1     NaN                 Not in scope of the classification   \n",
       "1           1     NaN                 Not in scope of the classification   \n",
       "2           1     NaN                 Additional code mandatory for Y464   \n",
       "3           7     NaN  Additional code mandatory for V909 . Supplemen...   \n",
       "4           1     NaN                 Not in scope of the classification   \n",
       "\n",
       "  mapTarget correlationId mapBlock  \n",
       "0      #NIS     447561005        1  \n",
       "1      #NIS     447561005        1  \n",
       "2      Y464     447561005        1  \n",
       "3     V909      447561005        1  \n",
       "4      #NIS     447561005        1  "
      ]
     },
     "execution_count": 217,
     "metadata": {},
     "output_type": "execute_result"
    }
   ],
   "source": [
    "uk_snomed_icd10.head()"
   ]
  },
  {
   "cell_type": "code",
   "execution_count": 238,
   "metadata": {},
   "outputs": [],
   "source": [
    "relevant_columns = uk_snomed_icd10[[\"id\", \"referencedComponentId\", \"mapTarget\"]]"
   ]
  },
  {
   "cell_type": "code",
   "execution_count": 239,
   "metadata": {},
   "outputs": [],
   "source": [
    "snomed_icd10_map = relevant_columns.rename(columns = {\"referenceComponentId\": \"snomed_id\", \"mapTarget\":\"icd10_id\"})"
   ]
  },
  {
   "cell_type": "code",
   "execution_count": 240,
   "metadata": {},
   "outputs": [],
   "source": [
    "active_snomed_icd10_map = snomed_icd10_map[snomed_icd10_map[\"icd10_id\"]!=\"#NIS\"]\n",
    "active_snomed_icd10_map = active_snomed_icd10_map[active_snomed_icd10_map[\"icd10_id\"]!=\"#HLT\"]\n",
    "active_snomed_icd10_map = active_snomed_icd10_map[active_snomed_icd10_map[\"icd10_id\"]!=\"#NC\"]"
   ]
  },
  {
   "cell_type": "code",
   "execution_count": 241,
   "metadata": {},
   "outputs": [
    {
     "data": {
      "text/plain": [
       "Y981      5722\n",
       "Y534      3419\n",
       "Y971      3370\n",
       "Y973      3369\n",
       "Y972      2524\n",
       "          ... \n",
       "K231 A       1\n",
       "D619D        1\n",
       "W059         1\n",
       "W147         1\n",
       "I608D        1\n",
       "Name: icd10_id, Length: 35336, dtype: int64"
      ]
     },
     "execution_count": 241,
     "metadata": {},
     "output_type": "execute_result"
    }
   ],
   "source": [
    "active_snomed_icd10_map[\"icd10_id\"].value_counts()"
   ]
  },
  {
   "cell_type": "code",
   "execution_count": 244,
   "metadata": {},
   "outputs": [],
   "source": [
    "active_snomed_icd10_map.to_csv(\"/home/hwatkins/Desktop/neuroNLP_assets/data/ontology_data/snomed_icd10_map.csv\")"
   ]
  },
  {
   "cell_type": "markdown",
   "metadata": {},
   "source": [
    "# Mesh"
   ]
  },
  {
   "cell_type": "code",
   "execution_count": 5,
   "metadata": {},
   "outputs": [],
   "source": [
    "MESH_PATH = \"/home/hwatkins/Desktop/neuroOnto/source_data/MESH/MESH.csv\""
   ]
  },
  {
   "cell_type": "code",
   "execution_count": 8,
   "metadata": {},
   "outputs": [],
   "source": [
    "mesh_df = pd.read_csv(MESH_PATH, dtype=object)"
   ]
  },
  {
   "cell_type": "code",
   "execution_count": 9,
   "metadata": {},
   "outputs": [
    {
     "data": {
      "text/plain": [
       "347692"
      ]
     },
     "execution_count": 9,
     "metadata": {},
     "output_type": "execute_result"
    }
   ],
   "source": [
    "len(mesh_df)"
   ]
  },
  {
   "cell_type": "code",
   "execution_count": 28,
   "metadata": {},
   "outputs": [
    {
     "data": {
      "text/plain": [
       "Index(['Class ID', 'Preferred Label', 'Synonyms', 'Definitions', 'Obsolete',\n",
       "       'CUI', 'Semantic Types', 'Parents', 'AN', 'AQL', 'CX', 'DC', 'DQ', 'DX',\n",
       "       'EC', 'FX', 'Has mapping qualifier', 'HM', 'HN', 'II', 'Inverse of AQ',\n",
       "       'Inverse of isa', 'Inverse of QB', 'Inverse of RB', 'Inverse of RO',\n",
       "       'isa', 'LT', 'Machine permutation', 'Mapped from', 'Mapped to',\n",
       "       'Mapping qualifier of', 'MDA', 'MeSH Frequency', 'MMR', 'MN', 'OL',\n",
       "       'PA', 'PI', 'RR', 'SC', 'Scope Statement',\n",
       "       'Semantic type UMLS property', 'SRC', 'TERMUI', 'TH'],\n",
       "      dtype='object')"
      ]
     },
     "execution_count": 28,
     "metadata": {},
     "output_type": "execute_result"
    }
   ],
   "source": [
    "mesh_df.columns"
   ]
  },
  {
   "cell_type": "code",
   "execution_count": 75,
   "metadata": {},
   "outputs": [
    {
     "data": {
      "text/html": [
       "<div>\n",
       "<style scoped>\n",
       "    .dataframe tbody tr th:only-of-type {\n",
       "        vertical-align: middle;\n",
       "    }\n",
       "\n",
       "    .dataframe tbody tr th {\n",
       "        vertical-align: top;\n",
       "    }\n",
       "\n",
       "    .dataframe thead th {\n",
       "        text-align: right;\n",
       "    }\n",
       "</style>\n",
       "<table border=\"1\" class=\"dataframe\">\n",
       "  <thead>\n",
       "    <tr style=\"text-align: right;\">\n",
       "      <th></th>\n",
       "      <th>Class ID</th>\n",
       "      <th>Preferred Label</th>\n",
       "      <th>Synonyms</th>\n",
       "      <th>Definitions</th>\n",
       "      <th>Obsolete</th>\n",
       "      <th>CUI</th>\n",
       "      <th>Semantic Types</th>\n",
       "      <th>Parents</th>\n",
       "      <th>AN</th>\n",
       "      <th>AQL</th>\n",
       "      <th>...</th>\n",
       "      <th>OL</th>\n",
       "      <th>PA</th>\n",
       "      <th>PI</th>\n",
       "      <th>RR</th>\n",
       "      <th>SC</th>\n",
       "      <th>Scope Statement</th>\n",
       "      <th>Semantic type UMLS property</th>\n",
       "      <th>SRC</th>\n",
       "      <th>TERMUI</th>\n",
       "      <th>TH</th>\n",
       "    </tr>\n",
       "  </thead>\n",
       "  <tbody>\n",
       "    <tr>\n",
       "      <th>80056</th>\n",
       "      <td>http://purl.bioontology.org/ontology/MESH/D002193</td>\n",
       "      <td>Cantharidin</td>\n",
       "      <td>Cantharides|Cantharidine|4,7-Epoxyisobenzofura...</td>\n",
       "      <td>A toxic compound, isolated from the Spanish fl...</td>\n",
       "      <td>false</td>\n",
       "      <td>C0006884|C0006886</td>\n",
       "      <td>http://purl.bioontology.org/ontology/STY/T204|...</td>\n",
       "      <td>http://purl.bioontology.org/ontology/MESH/D001572</td>\n",
       "      <td>NaN</td>\n",
       "      <td>AA AD AE AN CH CL CS EC HI IP ME PD PK PO RE S...</td>\n",
       "      <td>...</td>\n",
       "      <td>use CANTHARIDIN to search CANTHARIDES 1966-78</td>\n",
       "      <td>D007509|D004791</td>\n",
       "      <td>NaN</td>\n",
       "      <td>56-25-7 (Cantharidin)</td>\n",
       "      <td>NaN</td>\n",
       "      <td>NaN</td>\n",
       "      <td>http://purl.bioontology.org/ontology/STY/T204|...</td>\n",
       "      <td>NaN</td>\n",
       "      <td>T006269|T006271|T006270</td>\n",
       "      <td>FDA SRS (2014)|UNK (19XX)|NLM (1966)</td>\n",
       "    </tr>\n",
       "    <tr>\n",
       "      <th>305406</th>\n",
       "      <td>http://purl.bioontology.org/ontology/MESH/C053477</td>\n",
       "      <td>adhesin, Rhizobium</td>\n",
       "      <td>rhicadhesin|Rap A protein, Rhizobium|Rhizobium...</td>\n",
       "      <td>NaN</td>\n",
       "      <td>false</td>\n",
       "      <td>C0050834</td>\n",
       "      <td>http://purl.bioontology.org/ontology/STY/T123|...</td>\n",
       "      <td>NaN</td>\n",
       "      <td>NaN</td>\n",
       "      <td>NaN</td>\n",
       "      <td>...</td>\n",
       "      <td>NaN</td>\n",
       "      <td>NaN</td>\n",
       "      <td>*BACTERIAL PROTEINS (87-95)</td>\n",
       "      <td>NaN</td>\n",
       "      <td>1</td>\n",
       "      <td>involved in attachment of rhizobial cells to p...</td>\n",
       "      <td>http://purl.bioontology.org/ontology/STY/T123|...</td>\n",
       "      <td>J Bacteriol 1987;169(9):4294</td>\n",
       "      <td>T181508|T462923|T181511|T181509|T181510</td>\n",
       "      <td>NLM (1987)|NLM (2001)</td>\n",
       "    </tr>\n",
       "    <tr>\n",
       "      <th>213968</th>\n",
       "      <td>http://purl.bioontology.org/ontology/MESH/C000...</td>\n",
       "      <td>Microbotryum heliospermae</td>\n",
       "      <td>NaN</td>\n",
       "      <td>NaN</td>\n",
       "      <td>false</td>\n",
       "      <td>C3557791</td>\n",
       "      <td>http://purl.bioontology.org/ontology/STY/T004</td>\n",
       "      <td>NaN</td>\n",
       "      <td>NaN</td>\n",
       "      <td>NaN</td>\n",
       "      <td>...</td>\n",
       "      <td>NaN</td>\n",
       "      <td>NaN</td>\n",
       "      <td>NaN</td>\n",
       "      <td>NaN</td>\n",
       "      <td>4</td>\n",
       "      <td>NaN</td>\n",
       "      <td>http://purl.bioontology.org/ontology/STY/T004</td>\n",
       "      <td>NaN</td>\n",
       "      <td>T001050358</td>\n",
       "      <td>NLM (2021)</td>\n",
       "    </tr>\n",
       "    <tr>\n",
       "      <th>341291</th>\n",
       "      <td>http://purl.bioontology.org/ontology/MESH/C573122</td>\n",
       "      <td>MIRN431 microRNA, human</td>\n",
       "      <td>hsa-mir-431|microRNA-431, human|miR-431, human</td>\n",
       "      <td>NaN</td>\n",
       "      <td>false</td>\n",
       "      <td>C3493022</td>\n",
       "      <td>http://purl.bioontology.org/ontology/STY/T123|...</td>\n",
       "      <td>NaN</td>\n",
       "      <td>NaN</td>\n",
       "      <td>NaN</td>\n",
       "      <td>...</td>\n",
       "      <td>NaN</td>\n",
       "      <td>NaN</td>\n",
       "      <td>NaN</td>\n",
       "      <td>NaN</td>\n",
       "      <td>1</td>\n",
       "      <td>RefSeq NR_029965</td>\n",
       "      <td>http://purl.bioontology.org/ontology/STY/T123|...</td>\n",
       "      <td>Int J Oncol. 2012 May;40(5):1470-6.</td>\n",
       "      <td>T825286|T825285|T825284|T825283</td>\n",
       "      <td>NLM (2012)</td>\n",
       "    </tr>\n",
       "    <tr>\n",
       "      <th>81577</th>\n",
       "      <td>http://purl.bioontology.org/ontology/MESH/C017129</td>\n",
       "      <td>cholestane-3,7,24,25-tetrol</td>\n",
       "      <td>5 beta-cholestane-3 alpha,7 alpha,24,25-tetrol</td>\n",
       "      <td>NaN</td>\n",
       "      <td>false</td>\n",
       "      <td>C0607366</td>\n",
       "      <td>http://purl.bioontology.org/ontology/STY/T109</td>\n",
       "      <td>NaN</td>\n",
       "      <td>NaN</td>\n",
       "      <td>NaN</td>\n",
       "      <td>...</td>\n",
       "      <td>NaN</td>\n",
       "      <td>NaN</td>\n",
       "      <td>NaN</td>\n",
       "      <td>NaN</td>\n",
       "      <td>1</td>\n",
       "      <td>NaN</td>\n",
       "      <td>http://purl.bioontology.org/ontology/STY/T109</td>\n",
       "      <td>JBC 253(13):4688;1978</td>\n",
       "      <td>T097626|T097625</td>\n",
       "      <td>NLM (1978)</td>\n",
       "    </tr>\n",
       "    <tr>\n",
       "      <th>191476</th>\n",
       "      <td>http://purl.bioontology.org/ontology/MESH/C064212</td>\n",
       "      <td>poly(phenylalanyl-glutamyl-alanyl-glycine)</td>\n",
       "      <td>poly(Phe-Glu-Ala-Gly)|poly(Phe-G-A-Gly)</td>\n",
       "      <td>NaN</td>\n",
       "      <td>false</td>\n",
       "      <td>C0641208</td>\n",
       "      <td>http://purl.bioontology.org/ontology/STY/T116</td>\n",
       "      <td>NaN</td>\n",
       "      <td>NaN</td>\n",
       "      <td>NaN</td>\n",
       "      <td>...</td>\n",
       "      <td>NaN</td>\n",
       "      <td>NaN</td>\n",
       "      <td>*Peptides (1990-2020)</td>\n",
       "      <td>NaN</td>\n",
       "      <td>1</td>\n",
       "      <td>NaN</td>\n",
       "      <td>http://purl.bioontology.org/ontology/STY/T116</td>\n",
       "      <td>Exp Clin Immunogenet 1986;3(1):54</td>\n",
       "      <td>T206962|T206961|T206960</td>\n",
       "      <td>NLM (1990)</td>\n",
       "    </tr>\n",
       "    <tr>\n",
       "      <th>165143</th>\n",
       "      <td>http://purl.bioontology.org/ontology/MESH/C550903</td>\n",
       "      <td>GxTX-1E, Plesiophrictus guangxiensis</td>\n",
       "      <td>guangxitoxin-1E, Plesiophrictus guangxiensis|G...</td>\n",
       "      <td>NaN</td>\n",
       "      <td>false</td>\n",
       "      <td>C2935428</td>\n",
       "      <td>http://purl.bioontology.org/ontology/STY/T116|...</td>\n",
       "      <td>NaN</td>\n",
       "      <td>NaN</td>\n",
       "      <td>NaN</td>\n",
       "      <td>...</td>\n",
       "      <td>NaN</td>\n",
       "      <td>NaN</td>\n",
       "      <td>NaN</td>\n",
       "      <td>NaN</td>\n",
       "      <td>1</td>\n",
       "      <td>36-amino acid peptide that interacts with volt...</td>\n",
       "      <td>http://purl.bioontology.org/ontology/STY/T116|...</td>\n",
       "      <td>Biochemistry. 2010 Jun 29;49(25):5134-42</td>\n",
       "      <td>T000876890|T000876891|T774676</td>\n",
       "      <td>NLM (2015)|NLM (2010)</td>\n",
       "    </tr>\n",
       "    <tr>\n",
       "      <th>308995</th>\n",
       "      <td>http://purl.bioontology.org/ontology/MESH/C000...</td>\n",
       "      <td>long non-coding RNA PANDAR, human</td>\n",
       "      <td>PANDAR lncRNA, human</td>\n",
       "      <td>NaN</td>\n",
       "      <td>false</td>\n",
       "      <td>C4308447</td>\n",
       "      <td>http://purl.bioontology.org/ontology/STY/T123|...</td>\n",
       "      <td>NaN</td>\n",
       "      <td>NaN</td>\n",
       "      <td>NaN</td>\n",
       "      <td>...</td>\n",
       "      <td>NaN</td>\n",
       "      <td>NaN</td>\n",
       "      <td>NaN</td>\n",
       "      <td>NaN</td>\n",
       "      <td>1</td>\n",
       "      <td>NaN</td>\n",
       "      <td>http://purl.bioontology.org/ontology/STY/T123|...</td>\n",
       "      <td>Cell Death Dis. 2015 Feb 26;6:e1665.</td>\n",
       "      <td>T000911873|T000911874</td>\n",
       "      <td>NLM (2017)</td>\n",
       "    </tr>\n",
       "    <tr>\n",
       "      <th>325892</th>\n",
       "      <td>http://purl.bioontology.org/ontology/MESH/C000...</td>\n",
       "      <td>Psilocybe mexicana</td>\n",
       "      <td>NaN</td>\n",
       "      <td>NaN</td>\n",
       "      <td>false</td>\n",
       "      <td>C0319736</td>\n",
       "      <td>http://purl.bioontology.org/ontology/STY/T004</td>\n",
       "      <td>NaN</td>\n",
       "      <td>NaN</td>\n",
       "      <td>NaN</td>\n",
       "      <td>...</td>\n",
       "      <td>NaN</td>\n",
       "      <td>NaN</td>\n",
       "      <td>NaN</td>\n",
       "      <td>NaN</td>\n",
       "      <td>4</td>\n",
       "      <td>NaN</td>\n",
       "      <td>http://purl.bioontology.org/ontology/STY/T004</td>\n",
       "      <td>NaN</td>\n",
       "      <td>T001070793</td>\n",
       "      <td>NLM (2021)</td>\n",
       "    </tr>\n",
       "    <tr>\n",
       "      <th>259915</th>\n",
       "      <td>http://purl.bioontology.org/ontology/MESH/C102760</td>\n",
       "      <td>YfiK protein, Bacillus subtilis</td>\n",
       "      <td>NaN</td>\n",
       "      <td>NaN</td>\n",
       "      <td>false</td>\n",
       "      <td>C1307880</td>\n",
       "      <td>http://purl.bioontology.org/ontology/STY/T123|...</td>\n",
       "      <td>NaN</td>\n",
       "      <td>NaN</td>\n",
       "      <td>NaN</td>\n",
       "      <td>...</td>\n",
       "      <td>NaN</td>\n",
       "      <td>NaN</td>\n",
       "      <td>NaN</td>\n",
       "      <td>NaN</td>\n",
       "      <td>1</td>\n",
       "      <td>similar to DegU protein; amino acid sequence i...</td>\n",
       "      <td>http://purl.bioontology.org/ontology/STY/T123|...</td>\n",
       "      <td>Gene 1996 Nov 28;181(1-2):147-51</td>\n",
       "      <td>T552038</td>\n",
       "      <td>NLM (2003)</td>\n",
       "    </tr>\n",
       "  </tbody>\n",
       "</table>\n",
       "<p>10 rows × 45 columns</p>\n",
       "</div>"
      ],
      "text/plain": [
       "                                                 Class ID  \\\n",
       "80056   http://purl.bioontology.org/ontology/MESH/D002193   \n",
       "305406  http://purl.bioontology.org/ontology/MESH/C053477   \n",
       "213968  http://purl.bioontology.org/ontology/MESH/C000...   \n",
       "341291  http://purl.bioontology.org/ontology/MESH/C573122   \n",
       "81577   http://purl.bioontology.org/ontology/MESH/C017129   \n",
       "191476  http://purl.bioontology.org/ontology/MESH/C064212   \n",
       "165143  http://purl.bioontology.org/ontology/MESH/C550903   \n",
       "308995  http://purl.bioontology.org/ontology/MESH/C000...   \n",
       "325892  http://purl.bioontology.org/ontology/MESH/C000...   \n",
       "259915  http://purl.bioontology.org/ontology/MESH/C102760   \n",
       "\n",
       "                                   Preferred Label  \\\n",
       "80056                                  Cantharidin   \n",
       "305406                          adhesin, Rhizobium   \n",
       "213968                   Microbotryum heliospermae   \n",
       "341291                     MIRN431 microRNA, human   \n",
       "81577                  cholestane-3,7,24,25-tetrol   \n",
       "191476  poly(phenylalanyl-glutamyl-alanyl-glycine)   \n",
       "165143        GxTX-1E, Plesiophrictus guangxiensis   \n",
       "308995           long non-coding RNA PANDAR, human   \n",
       "325892                          Psilocybe mexicana   \n",
       "259915             YfiK protein, Bacillus subtilis   \n",
       "\n",
       "                                                 Synonyms  \\\n",
       "80056   Cantharides|Cantharidine|4,7-Epoxyisobenzofura...   \n",
       "305406  rhicadhesin|Rap A protein, Rhizobium|Rhizobium...   \n",
       "213968                                                NaN   \n",
       "341291     hsa-mir-431|microRNA-431, human|miR-431, human   \n",
       "81577      5 beta-cholestane-3 alpha,7 alpha,24,25-tetrol   \n",
       "191476            poly(Phe-Glu-Ala-Gly)|poly(Phe-G-A-Gly)   \n",
       "165143  guangxitoxin-1E, Plesiophrictus guangxiensis|G...   \n",
       "308995                               PANDAR lncRNA, human   \n",
       "325892                                                NaN   \n",
       "259915                                                NaN   \n",
       "\n",
       "                                              Definitions Obsolete  \\\n",
       "80056   A toxic compound, isolated from the Spanish fl...    false   \n",
       "305406                                                NaN    false   \n",
       "213968                                                NaN    false   \n",
       "341291                                                NaN    false   \n",
       "81577                                                 NaN    false   \n",
       "191476                                                NaN    false   \n",
       "165143                                                NaN    false   \n",
       "308995                                                NaN    false   \n",
       "325892                                                NaN    false   \n",
       "259915                                                NaN    false   \n",
       "\n",
       "                      CUI                                     Semantic Types  \\\n",
       "80056   C0006884|C0006886  http://purl.bioontology.org/ontology/STY/T204|...   \n",
       "305406           C0050834  http://purl.bioontology.org/ontology/STY/T123|...   \n",
       "213968           C3557791      http://purl.bioontology.org/ontology/STY/T004   \n",
       "341291           C3493022  http://purl.bioontology.org/ontology/STY/T123|...   \n",
       "81577            C0607366      http://purl.bioontology.org/ontology/STY/T109   \n",
       "191476           C0641208      http://purl.bioontology.org/ontology/STY/T116   \n",
       "165143           C2935428  http://purl.bioontology.org/ontology/STY/T116|...   \n",
       "308995           C4308447  http://purl.bioontology.org/ontology/STY/T123|...   \n",
       "325892           C0319736      http://purl.bioontology.org/ontology/STY/T004   \n",
       "259915           C1307880  http://purl.bioontology.org/ontology/STY/T123|...   \n",
       "\n",
       "                                                  Parents   AN  \\\n",
       "80056   http://purl.bioontology.org/ontology/MESH/D001572  NaN   \n",
       "305406                                                NaN  NaN   \n",
       "213968                                                NaN  NaN   \n",
       "341291                                                NaN  NaN   \n",
       "81577                                                 NaN  NaN   \n",
       "191476                                                NaN  NaN   \n",
       "165143                                                NaN  NaN   \n",
       "308995                                                NaN  NaN   \n",
       "325892                                                NaN  NaN   \n",
       "259915                                                NaN  NaN   \n",
       "\n",
       "                                                      AQL  ...  \\\n",
       "80056   AA AD AE AN CH CL CS EC HI IP ME PD PK PO RE S...  ...   \n",
       "305406                                                NaN  ...   \n",
       "213968                                                NaN  ...   \n",
       "341291                                                NaN  ...   \n",
       "81577                                                 NaN  ...   \n",
       "191476                                                NaN  ...   \n",
       "165143                                                NaN  ...   \n",
       "308995                                                NaN  ...   \n",
       "325892                                                NaN  ...   \n",
       "259915                                                NaN  ...   \n",
       "\n",
       "                                                   OL               PA  \\\n",
       "80056   use CANTHARIDIN to search CANTHARIDES 1966-78  D007509|D004791   \n",
       "305406                                            NaN              NaN   \n",
       "213968                                            NaN              NaN   \n",
       "341291                                            NaN              NaN   \n",
       "81577                                             NaN              NaN   \n",
       "191476                                            NaN              NaN   \n",
       "165143                                            NaN              NaN   \n",
       "308995                                            NaN              NaN   \n",
       "325892                                            NaN              NaN   \n",
       "259915                                            NaN              NaN   \n",
       "\n",
       "                                 PI                     RR   SC  \\\n",
       "80056                           NaN  56-25-7 (Cantharidin)  NaN   \n",
       "305406  *BACTERIAL PROTEINS (87-95)                    NaN    1   \n",
       "213968                          NaN                    NaN    4   \n",
       "341291                          NaN                    NaN    1   \n",
       "81577                           NaN                    NaN    1   \n",
       "191476        *Peptides (1990-2020)                    NaN    1   \n",
       "165143                          NaN                    NaN    1   \n",
       "308995                          NaN                    NaN    1   \n",
       "325892                          NaN                    NaN    4   \n",
       "259915                          NaN                    NaN    1   \n",
       "\n",
       "                                          Scope Statement  \\\n",
       "80056                                                 NaN   \n",
       "305406  involved in attachment of rhizobial cells to p...   \n",
       "213968                                                NaN   \n",
       "341291                                   RefSeq NR_029965   \n",
       "81577                                                 NaN   \n",
       "191476                                                NaN   \n",
       "165143  36-amino acid peptide that interacts with volt...   \n",
       "308995                                                NaN   \n",
       "325892                                                NaN   \n",
       "259915  similar to DegU protein; amino acid sequence i...   \n",
       "\n",
       "                              Semantic type UMLS property  \\\n",
       "80056   http://purl.bioontology.org/ontology/STY/T204|...   \n",
       "305406  http://purl.bioontology.org/ontology/STY/T123|...   \n",
       "213968      http://purl.bioontology.org/ontology/STY/T004   \n",
       "341291  http://purl.bioontology.org/ontology/STY/T123|...   \n",
       "81577       http://purl.bioontology.org/ontology/STY/T109   \n",
       "191476      http://purl.bioontology.org/ontology/STY/T116   \n",
       "165143  http://purl.bioontology.org/ontology/STY/T116|...   \n",
       "308995  http://purl.bioontology.org/ontology/STY/T123|...   \n",
       "325892      http://purl.bioontology.org/ontology/STY/T004   \n",
       "259915  http://purl.bioontology.org/ontology/STY/T123|...   \n",
       "\n",
       "                                             SRC  \\\n",
       "80056                                        NaN   \n",
       "305406              J Bacteriol 1987;169(9):4294   \n",
       "213968                                       NaN   \n",
       "341291       Int J Oncol. 2012 May;40(5):1470-6.   \n",
       "81577                      JBC 253(13):4688;1978   \n",
       "191476         Exp Clin Immunogenet 1986;3(1):54   \n",
       "165143  Biochemistry. 2010 Jun 29;49(25):5134-42   \n",
       "308995      Cell Death Dis. 2015 Feb 26;6:e1665.   \n",
       "325892                                       NaN   \n",
       "259915          Gene 1996 Nov 28;181(1-2):147-51   \n",
       "\n",
       "                                         TERMUI  \\\n",
       "80056                   T006269|T006271|T006270   \n",
       "305406  T181508|T462923|T181511|T181509|T181510   \n",
       "213968                               T001050358   \n",
       "341291          T825286|T825285|T825284|T825283   \n",
       "81577                           T097626|T097625   \n",
       "191476                  T206962|T206961|T206960   \n",
       "165143            T000876890|T000876891|T774676   \n",
       "308995                    T000911873|T000911874   \n",
       "325892                               T001070793   \n",
       "259915                                  T552038   \n",
       "\n",
       "                                          TH  \n",
       "80056   FDA SRS (2014)|UNK (19XX)|NLM (1966)  \n",
       "305406                 NLM (1987)|NLM (2001)  \n",
       "213968                            NLM (2021)  \n",
       "341291                            NLM (2012)  \n",
       "81577                             NLM (1978)  \n",
       "191476                            NLM (1990)  \n",
       "165143                 NLM (2015)|NLM (2010)  \n",
       "308995                            NLM (2017)  \n",
       "325892                            NLM (2021)  \n",
       "259915                            NLM (2003)  \n",
       "\n",
       "[10 rows x 45 columns]"
      ]
     },
     "execution_count": 75,
     "metadata": {},
     "output_type": "execute_result"
    }
   ],
   "source": [
    "mesh_df.sample(10)"
   ]
  },
  {
   "cell_type": "code",
   "execution_count": 47,
   "metadata": {},
   "outputs": [],
   "source": [
    "relevant_mesh_cols = mesh_df[[\"Class ID\", \"Preferred Label\", \"Synonyms\", \"Semantic Types\", \"Parents\"]]"
   ]
  },
  {
   "cell_type": "code",
   "execution_count": 48,
   "metadata": {},
   "outputs": [
    {
     "name": "stderr",
     "output_type": "stream",
     "text": [
      "<ipython-input-48-e62333b30e70>:2: SettingWithCopyWarning: \n",
      "A value is trying to be set on a copy of a slice from a DataFrame.\n",
      "Try using .loc[row_indexer,col_indexer] = value instead\n",
      "\n",
      "See the caveats in the documentation: https://pandas.pydata.org/pandas-docs/stable/user_guide/indexing.html#returning-a-view-versus-a-copy\n",
      "  syn_list_df[\"Synonyms\"] = syn_list_df[\"Synonyms\"].str.split(\"|\")\n"
     ]
    }
   ],
   "source": [
    "syn_list_df = relevant_mesh_cols\n",
    "syn_list_df[\"Synonyms\"] = syn_list_df[\"Synonyms\"].str.split(\"|\")\n",
    "exploded_syns_df = relevant_mesh_cols.explode(\"Synonyms\")"
   ]
  },
  {
   "cell_type": "code",
   "execution_count": 49,
   "metadata": {},
   "outputs": [
    {
     "data": {
      "text/html": [
       "<div>\n",
       "<style scoped>\n",
       "    .dataframe tbody tr th:only-of-type {\n",
       "        vertical-align: middle;\n",
       "    }\n",
       "\n",
       "    .dataframe tbody tr th {\n",
       "        vertical-align: top;\n",
       "    }\n",
       "\n",
       "    .dataframe thead th {\n",
       "        text-align: right;\n",
       "    }\n",
       "</style>\n",
       "<table border=\"1\" class=\"dataframe\">\n",
       "  <thead>\n",
       "    <tr style=\"text-align: right;\">\n",
       "      <th></th>\n",
       "      <th>Class ID</th>\n",
       "      <th>Preferred Label</th>\n",
       "      <th>Synonyms</th>\n",
       "      <th>Semantic Types</th>\n",
       "      <th>Parents</th>\n",
       "    </tr>\n",
       "  </thead>\n",
       "  <tbody>\n",
       "    <tr>\n",
       "      <th>325416</th>\n",
       "      <td>http://purl.bioontology.org/ontology/MESH/D018365</td>\n",
       "      <td>Neoplasm, Residual</td>\n",
       "      <td>Residual Tumor</td>\n",
       "      <td>http://purl.bioontology.org/ontology/STY/T191</td>\n",
       "      <td>http://purl.bioontology.org/ontology/MESH/D009385</td>\n",
       "    </tr>\n",
       "    <tr>\n",
       "      <th>325416</th>\n",
       "      <td>http://purl.bioontology.org/ontology/MESH/D018365</td>\n",
       "      <td>Neoplasm, Residual</td>\n",
       "      <td>Tumour, Residual</td>\n",
       "      <td>http://purl.bioontology.org/ontology/STY/T191</td>\n",
       "      <td>http://purl.bioontology.org/ontology/MESH/D009385</td>\n",
       "    </tr>\n",
       "    <tr>\n",
       "      <th>325416</th>\n",
       "      <td>http://purl.bioontology.org/ontology/MESH/D018365</td>\n",
       "      <td>Neoplasm, Residual</td>\n",
       "      <td>Residual Cancer</td>\n",
       "      <td>http://purl.bioontology.org/ontology/STY/T191</td>\n",
       "      <td>http://purl.bioontology.org/ontology/MESH/D009385</td>\n",
       "    </tr>\n",
       "    <tr>\n",
       "      <th>325416</th>\n",
       "      <td>http://purl.bioontology.org/ontology/MESH/D018365</td>\n",
       "      <td>Neoplasm, Residual</td>\n",
       "      <td>Residual Tumour</td>\n",
       "      <td>http://purl.bioontology.org/ontology/STY/T191</td>\n",
       "      <td>http://purl.bioontology.org/ontology/MESH/D009385</td>\n",
       "    </tr>\n",
       "    <tr>\n",
       "      <th>325416</th>\n",
       "      <td>http://purl.bioontology.org/ontology/MESH/D018365</td>\n",
       "      <td>Neoplasm, Residual</td>\n",
       "      <td>Minimal Residual Disease</td>\n",
       "      <td>http://purl.bioontology.org/ontology/STY/T191</td>\n",
       "      <td>http://purl.bioontology.org/ontology/MESH/D009385</td>\n",
       "    </tr>\n",
       "    <tr>\n",
       "      <th>325416</th>\n",
       "      <td>http://purl.bioontology.org/ontology/MESH/D018365</td>\n",
       "      <td>Neoplasm, Residual</td>\n",
       "      <td>Cancer, Residual</td>\n",
       "      <td>http://purl.bioontology.org/ontology/STY/T191</td>\n",
       "      <td>http://purl.bioontology.org/ontology/MESH/D009385</td>\n",
       "    </tr>\n",
       "    <tr>\n",
       "      <th>325416</th>\n",
       "      <td>http://purl.bioontology.org/ontology/MESH/D018365</td>\n",
       "      <td>Neoplasm, Residual</td>\n",
       "      <td>Residual Neoplasms</td>\n",
       "      <td>http://purl.bioontology.org/ontology/STY/T191</td>\n",
       "      <td>http://purl.bioontology.org/ontology/MESH/D009385</td>\n",
       "    </tr>\n",
       "    <tr>\n",
       "      <th>325416</th>\n",
       "      <td>http://purl.bioontology.org/ontology/MESH/D018365</td>\n",
       "      <td>Neoplasm, Residual</td>\n",
       "      <td>Residual Tumors</td>\n",
       "      <td>http://purl.bioontology.org/ontology/STY/T191</td>\n",
       "      <td>http://purl.bioontology.org/ontology/MESH/D009385</td>\n",
       "    </tr>\n",
       "    <tr>\n",
       "      <th>325416</th>\n",
       "      <td>http://purl.bioontology.org/ontology/MESH/D018365</td>\n",
       "      <td>Neoplasm, Residual</td>\n",
       "      <td>Residual Cancers</td>\n",
       "      <td>http://purl.bioontology.org/ontology/STY/T191</td>\n",
       "      <td>http://purl.bioontology.org/ontology/MESH/D009385</td>\n",
       "    </tr>\n",
       "    <tr>\n",
       "      <th>325416</th>\n",
       "      <td>http://purl.bioontology.org/ontology/MESH/D018365</td>\n",
       "      <td>Neoplasm, Residual</td>\n",
       "      <td>Residual Tumours</td>\n",
       "      <td>http://purl.bioontology.org/ontology/STY/T191</td>\n",
       "      <td>http://purl.bioontology.org/ontology/MESH/D009385</td>\n",
       "    </tr>\n",
       "    <tr>\n",
       "      <th>325416</th>\n",
       "      <td>http://purl.bioontology.org/ontology/MESH/D018365</td>\n",
       "      <td>Neoplasm, Residual</td>\n",
       "      <td>Residual Neoplasm</td>\n",
       "      <td>http://purl.bioontology.org/ontology/STY/T191</td>\n",
       "      <td>http://purl.bioontology.org/ontology/MESH/D009385</td>\n",
       "    </tr>\n",
       "    <tr>\n",
       "      <th>325416</th>\n",
       "      <td>http://purl.bioontology.org/ontology/MESH/D018365</td>\n",
       "      <td>Neoplasm, Residual</td>\n",
       "      <td>Minimal Disease, Residual</td>\n",
       "      <td>http://purl.bioontology.org/ontology/STY/T191</td>\n",
       "      <td>http://purl.bioontology.org/ontology/MESH/D009385</td>\n",
       "    </tr>\n",
       "    <tr>\n",
       "      <th>325416</th>\n",
       "      <td>http://purl.bioontology.org/ontology/MESH/D018365</td>\n",
       "      <td>Neoplasm, Residual</td>\n",
       "      <td>Minimal Residual Diseases</td>\n",
       "      <td>http://purl.bioontology.org/ontology/STY/T191</td>\n",
       "      <td>http://purl.bioontology.org/ontology/MESH/D009385</td>\n",
       "    </tr>\n",
       "    <tr>\n",
       "      <th>325416</th>\n",
       "      <td>http://purl.bioontology.org/ontology/MESH/D018365</td>\n",
       "      <td>Neoplasm, Residual</td>\n",
       "      <td>Residual Minimal Diseases</td>\n",
       "      <td>http://purl.bioontology.org/ontology/STY/T191</td>\n",
       "      <td>http://purl.bioontology.org/ontology/MESH/D009385</td>\n",
       "    </tr>\n",
       "    <tr>\n",
       "      <th>325416</th>\n",
       "      <td>http://purl.bioontology.org/ontology/MESH/D018365</td>\n",
       "      <td>Neoplasm, Residual</td>\n",
       "      <td>Residual Minimal Disease</td>\n",
       "      <td>http://purl.bioontology.org/ontology/STY/T191</td>\n",
       "      <td>http://purl.bioontology.org/ontology/MESH/D009385</td>\n",
       "    </tr>\n",
       "    <tr>\n",
       "      <th>325416</th>\n",
       "      <td>http://purl.bioontology.org/ontology/MESH/D018365</td>\n",
       "      <td>Neoplasm, Residual</td>\n",
       "      <td>Residual Disease, Minimal</td>\n",
       "      <td>http://purl.bioontology.org/ontology/STY/T191</td>\n",
       "      <td>http://purl.bioontology.org/ontology/MESH/D009385</td>\n",
       "    </tr>\n",
       "  </tbody>\n",
       "</table>\n",
       "</div>"
      ],
      "text/plain": [
       "                                                 Class ID     Preferred Label  \\\n",
       "325416  http://purl.bioontology.org/ontology/MESH/D018365  Neoplasm, Residual   \n",
       "325416  http://purl.bioontology.org/ontology/MESH/D018365  Neoplasm, Residual   \n",
       "325416  http://purl.bioontology.org/ontology/MESH/D018365  Neoplasm, Residual   \n",
       "325416  http://purl.bioontology.org/ontology/MESH/D018365  Neoplasm, Residual   \n",
       "325416  http://purl.bioontology.org/ontology/MESH/D018365  Neoplasm, Residual   \n",
       "325416  http://purl.bioontology.org/ontology/MESH/D018365  Neoplasm, Residual   \n",
       "325416  http://purl.bioontology.org/ontology/MESH/D018365  Neoplasm, Residual   \n",
       "325416  http://purl.bioontology.org/ontology/MESH/D018365  Neoplasm, Residual   \n",
       "325416  http://purl.bioontology.org/ontology/MESH/D018365  Neoplasm, Residual   \n",
       "325416  http://purl.bioontology.org/ontology/MESH/D018365  Neoplasm, Residual   \n",
       "325416  http://purl.bioontology.org/ontology/MESH/D018365  Neoplasm, Residual   \n",
       "325416  http://purl.bioontology.org/ontology/MESH/D018365  Neoplasm, Residual   \n",
       "325416  http://purl.bioontology.org/ontology/MESH/D018365  Neoplasm, Residual   \n",
       "325416  http://purl.bioontology.org/ontology/MESH/D018365  Neoplasm, Residual   \n",
       "325416  http://purl.bioontology.org/ontology/MESH/D018365  Neoplasm, Residual   \n",
       "325416  http://purl.bioontology.org/ontology/MESH/D018365  Neoplasm, Residual   \n",
       "\n",
       "                         Synonyms  \\\n",
       "325416             Residual Tumor   \n",
       "325416           Tumour, Residual   \n",
       "325416            Residual Cancer   \n",
       "325416            Residual Tumour   \n",
       "325416   Minimal Residual Disease   \n",
       "325416           Cancer, Residual   \n",
       "325416         Residual Neoplasms   \n",
       "325416            Residual Tumors   \n",
       "325416           Residual Cancers   \n",
       "325416           Residual Tumours   \n",
       "325416          Residual Neoplasm   \n",
       "325416  Minimal Disease, Residual   \n",
       "325416  Minimal Residual Diseases   \n",
       "325416  Residual Minimal Diseases   \n",
       "325416   Residual Minimal Disease   \n",
       "325416  Residual Disease, Minimal   \n",
       "\n",
       "                                       Semantic Types  \\\n",
       "325416  http://purl.bioontology.org/ontology/STY/T191   \n",
       "325416  http://purl.bioontology.org/ontology/STY/T191   \n",
       "325416  http://purl.bioontology.org/ontology/STY/T191   \n",
       "325416  http://purl.bioontology.org/ontology/STY/T191   \n",
       "325416  http://purl.bioontology.org/ontology/STY/T191   \n",
       "325416  http://purl.bioontology.org/ontology/STY/T191   \n",
       "325416  http://purl.bioontology.org/ontology/STY/T191   \n",
       "325416  http://purl.bioontology.org/ontology/STY/T191   \n",
       "325416  http://purl.bioontology.org/ontology/STY/T191   \n",
       "325416  http://purl.bioontology.org/ontology/STY/T191   \n",
       "325416  http://purl.bioontology.org/ontology/STY/T191   \n",
       "325416  http://purl.bioontology.org/ontology/STY/T191   \n",
       "325416  http://purl.bioontology.org/ontology/STY/T191   \n",
       "325416  http://purl.bioontology.org/ontology/STY/T191   \n",
       "325416  http://purl.bioontology.org/ontology/STY/T191   \n",
       "325416  http://purl.bioontology.org/ontology/STY/T191   \n",
       "\n",
       "                                                  Parents  \n",
       "325416  http://purl.bioontology.org/ontology/MESH/D009385  \n",
       "325416  http://purl.bioontology.org/ontology/MESH/D009385  \n",
       "325416  http://purl.bioontology.org/ontology/MESH/D009385  \n",
       "325416  http://purl.bioontology.org/ontology/MESH/D009385  \n",
       "325416  http://purl.bioontology.org/ontology/MESH/D009385  \n",
       "325416  http://purl.bioontology.org/ontology/MESH/D009385  \n",
       "325416  http://purl.bioontology.org/ontology/MESH/D009385  \n",
       "325416  http://purl.bioontology.org/ontology/MESH/D009385  \n",
       "325416  http://purl.bioontology.org/ontology/MESH/D009385  \n",
       "325416  http://purl.bioontology.org/ontology/MESH/D009385  \n",
       "325416  http://purl.bioontology.org/ontology/MESH/D009385  \n",
       "325416  http://purl.bioontology.org/ontology/MESH/D009385  \n",
       "325416  http://purl.bioontology.org/ontology/MESH/D009385  \n",
       "325416  http://purl.bioontology.org/ontology/MESH/D009385  \n",
       "325416  http://purl.bioontology.org/ontology/MESH/D009385  \n",
       "325416  http://purl.bioontology.org/ontology/MESH/D009385  "
      ]
     },
     "execution_count": 49,
     "metadata": {},
     "output_type": "execute_result"
    }
   ],
   "source": [
    "exploded_syns_df[exploded_syns_df[\"Class ID\"].str.contains(\"D018365\")]"
   ]
  },
  {
   "cell_type": "code",
   "execution_count": 50,
   "metadata": {},
   "outputs": [
    {
     "name": "stderr",
     "output_type": "stream",
     "text": [
      "<ipython-input-50-53cbb05b229b>:1: SettingWithCopyWarning: \n",
      "A value is trying to be set on a copy of a slice from a DataFrame.\n",
      "Try using .loc[row_indexer,col_indexer] = value instead\n",
      "\n",
      "See the caveats in the documentation: https://pandas.pydata.org/pandas-docs/stable/user_guide/indexing.html#returning-a-view-versus-a-copy\n",
      "  relevant_mesh_cols[\"is_preferred_name\"] = \"1\"\n"
     ]
    }
   ],
   "source": [
    "relevant_mesh_cols[\"is_preferred_name\"] = \"1\"\n",
    "exploded_syns_df[\"is_preferred_name\"] = \"0\""
   ]
  },
  {
   "cell_type": "code",
   "execution_count": 51,
   "metadata": {},
   "outputs": [],
   "source": [
    "relevant_mesh_cols = relevant_mesh_cols.drop(columns=[\"Synonyms\"])\n",
    "exploded_syns_df = exploded_syns_df.drop(columns=[\"Preferred Label\"])\n",
    "relevant_mesh_cols = relevant_mesh_cols.rename(columns={\"Class ID\": \"cui\", \"Preferred Label\":\"concept_name\", \"Semantic Types\":\"tui\"})\n",
    "exploded_syns_df = exploded_syns_df.rename(columns={\"Class ID\": \"cui\", \"Synonyms\":\"concept_name\", \"Semantic Types\":\"tui\"})"
   ]
  },
  {
   "cell_type": "code",
   "execution_count": 52,
   "metadata": {},
   "outputs": [
    {
     "data": {
      "text/html": [
       "<div>\n",
       "<style scoped>\n",
       "    .dataframe tbody tr th:only-of-type {\n",
       "        vertical-align: middle;\n",
       "    }\n",
       "\n",
       "    .dataframe tbody tr th {\n",
       "        vertical-align: top;\n",
       "    }\n",
       "\n",
       "    .dataframe thead th {\n",
       "        text-align: right;\n",
       "    }\n",
       "</style>\n",
       "<table border=\"1\" class=\"dataframe\">\n",
       "  <thead>\n",
       "    <tr style=\"text-align: right;\">\n",
       "      <th></th>\n",
       "      <th>cui</th>\n",
       "      <th>concept_name</th>\n",
       "      <th>tui</th>\n",
       "      <th>Parents</th>\n",
       "      <th>is_preferred_name</th>\n",
       "    </tr>\n",
       "  </thead>\n",
       "  <tbody>\n",
       "    <tr>\n",
       "      <th>0</th>\n",
       "      <td>http://purl.bioontology.org/ontology/MESH/C000...</td>\n",
       "      <td>NaN</td>\n",
       "      <td>http://purl.bioontology.org/ontology/STY/T004</td>\n",
       "      <td>NaN</td>\n",
       "      <td>0</td>\n",
       "    </tr>\n",
       "    <tr>\n",
       "      <th>1</th>\n",
       "      <td>http://purl.bioontology.org/ontology/MESH/C000...</td>\n",
       "      <td>99mTc-HDP</td>\n",
       "      <td>http://purl.bioontology.org/ontology/STY/T130|...</td>\n",
       "      <td>NaN</td>\n",
       "      <td>0</td>\n",
       "    </tr>\n",
       "    <tr>\n",
       "      <th>1</th>\n",
       "      <td>http://purl.bioontology.org/ontology/MESH/C000...</td>\n",
       "      <td>99mTc-hydroxyethylene-diphosphonate</td>\n",
       "      <td>http://purl.bioontology.org/ontology/STY/T130|...</td>\n",
       "      <td>NaN</td>\n",
       "      <td>0</td>\n",
       "    </tr>\n",
       "    <tr>\n",
       "      <th>2</th>\n",
       "      <td>http://purl.bioontology.org/ontology/MESH/C585345</td>\n",
       "      <td>Tardbpl-FL protein, zebrafish</td>\n",
       "      <td>http://purl.bioontology.org/ontology/STY/T123|...</td>\n",
       "      <td>NaN</td>\n",
       "      <td>0</td>\n",
       "    </tr>\n",
       "    <tr>\n",
       "      <th>2</th>\n",
       "      <td>http://purl.bioontology.org/ontology/MESH/C585345</td>\n",
       "      <td>Tardbpl protein, zebrafish</td>\n",
       "      <td>http://purl.bioontology.org/ontology/STY/T123|...</td>\n",
       "      <td>NaN</td>\n",
       "      <td>0</td>\n",
       "    </tr>\n",
       "    <tr>\n",
       "      <th>...</th>\n",
       "      <td>...</td>\n",
       "      <td>...</td>\n",
       "      <td>...</td>\n",
       "      <td>...</td>\n",
       "      <td>...</td>\n",
       "    </tr>\n",
       "    <tr>\n",
       "      <th>347690</th>\n",
       "      <td>http://purl.bioontology.org/ontology/MESH/C089786</td>\n",
       "      <td>POG4POA(POG)5</td>\n",
       "      <td>http://purl.bioontology.org/ontology/STY/T116</td>\n",
       "      <td>NaN</td>\n",
       "      <td>0</td>\n",
       "    </tr>\n",
       "    <tr>\n",
       "      <th>347691</th>\n",
       "      <td>http://purl.bioontology.org/ontology/MESH/C066675</td>\n",
       "      <td>2,2',3,5,5',6-HCBP</td>\n",
       "      <td>http://purl.bioontology.org/ontology/STY/T109</td>\n",
       "      <td>NaN</td>\n",
       "      <td>0</td>\n",
       "    </tr>\n",
       "    <tr>\n",
       "      <th>347691</th>\n",
       "      <td>http://purl.bioontology.org/ontology/MESH/C066675</td>\n",
       "      <td>PCB 151</td>\n",
       "      <td>http://purl.bioontology.org/ontology/STY/T109</td>\n",
       "      <td>NaN</td>\n",
       "      <td>0</td>\n",
       "    </tr>\n",
       "    <tr>\n",
       "      <th>347691</th>\n",
       "      <td>http://purl.bioontology.org/ontology/MESH/C066675</td>\n",
       "      <td>PCB-151</td>\n",
       "      <td>http://purl.bioontology.org/ontology/STY/T109</td>\n",
       "      <td>NaN</td>\n",
       "      <td>0</td>\n",
       "    </tr>\n",
       "    <tr>\n",
       "      <th>347691</th>\n",
       "      <td>http://purl.bioontology.org/ontology/MESH/C066675</td>\n",
       "      <td>PCB151</td>\n",
       "      <td>http://purl.bioontology.org/ontology/STY/T109</td>\n",
       "      <td>NaN</td>\n",
       "      <td>0</td>\n",
       "    </tr>\n",
       "  </tbody>\n",
       "</table>\n",
       "<p>763862 rows × 5 columns</p>\n",
       "</div>"
      ],
      "text/plain": [
       "                                                      cui  \\\n",
       "0       http://purl.bioontology.org/ontology/MESH/C000...   \n",
       "1       http://purl.bioontology.org/ontology/MESH/C000...   \n",
       "1       http://purl.bioontology.org/ontology/MESH/C000...   \n",
       "2       http://purl.bioontology.org/ontology/MESH/C585345   \n",
       "2       http://purl.bioontology.org/ontology/MESH/C585345   \n",
       "...                                                   ...   \n",
       "347690  http://purl.bioontology.org/ontology/MESH/C089786   \n",
       "347691  http://purl.bioontology.org/ontology/MESH/C066675   \n",
       "347691  http://purl.bioontology.org/ontology/MESH/C066675   \n",
       "347691  http://purl.bioontology.org/ontology/MESH/C066675   \n",
       "347691  http://purl.bioontology.org/ontology/MESH/C066675   \n",
       "\n",
       "                               concept_name  \\\n",
       "0                                       NaN   \n",
       "1                                 99mTc-HDP   \n",
       "1       99mTc-hydroxyethylene-diphosphonate   \n",
       "2             Tardbpl-FL protein, zebrafish   \n",
       "2                Tardbpl protein, zebrafish   \n",
       "...                                     ...   \n",
       "347690                        POG4POA(POG)5   \n",
       "347691                   2,2',3,5,5',6-HCBP   \n",
       "347691                              PCB 151   \n",
       "347691                              PCB-151   \n",
       "347691                               PCB151   \n",
       "\n",
       "                                                      tui Parents  \\\n",
       "0           http://purl.bioontology.org/ontology/STY/T004     NaN   \n",
       "1       http://purl.bioontology.org/ontology/STY/T130|...     NaN   \n",
       "1       http://purl.bioontology.org/ontology/STY/T130|...     NaN   \n",
       "2       http://purl.bioontology.org/ontology/STY/T123|...     NaN   \n",
       "2       http://purl.bioontology.org/ontology/STY/T123|...     NaN   \n",
       "...                                                   ...     ...   \n",
       "347690      http://purl.bioontology.org/ontology/STY/T116     NaN   \n",
       "347691      http://purl.bioontology.org/ontology/STY/T109     NaN   \n",
       "347691      http://purl.bioontology.org/ontology/STY/T109     NaN   \n",
       "347691      http://purl.bioontology.org/ontology/STY/T109     NaN   \n",
       "347691      http://purl.bioontology.org/ontology/STY/T109     NaN   \n",
       "\n",
       "       is_preferred_name  \n",
       "0                      0  \n",
       "1                      0  \n",
       "1                      0  \n",
       "2                      0  \n",
       "2                      0  \n",
       "...                  ...  \n",
       "347690                 0  \n",
       "347691                 0  \n",
       "347691                 0  \n",
       "347691                 0  \n",
       "347691                 0  \n",
       "\n",
       "[763862 rows x 5 columns]"
      ]
     },
     "execution_count": 52,
     "metadata": {},
     "output_type": "execute_result"
    }
   ],
   "source": [
    "exploded_syns_df"
   ]
  },
  {
   "cell_type": "code",
   "execution_count": 62,
   "metadata": {},
   "outputs": [],
   "source": [
    "combined_df = pd.concat([exploded_syns_df, relevant_mesh_cols], ignore_index=True)"
   ]
  },
  {
   "cell_type": "code",
   "execution_count": 73,
   "metadata": {},
   "outputs": [
    {
     "data": {
      "text/html": [
       "<div>\n",
       "<style scoped>\n",
       "    .dataframe tbody tr th:only-of-type {\n",
       "        vertical-align: middle;\n",
       "    }\n",
       "\n",
       "    .dataframe tbody tr th {\n",
       "        vertical-align: top;\n",
       "    }\n",
       "\n",
       "    .dataframe thead th {\n",
       "        text-align: right;\n",
       "    }\n",
       "</style>\n",
       "<table border=\"1\" class=\"dataframe\">\n",
       "  <thead>\n",
       "    <tr style=\"text-align: right;\">\n",
       "      <th></th>\n",
       "      <th>cui</th>\n",
       "      <th>concept_name</th>\n",
       "      <th>tui</th>\n",
       "      <th>is_preferred_name</th>\n",
       "    </tr>\n",
       "  </thead>\n",
       "  <tbody>\n",
       "    <tr>\n",
       "      <th>944955</th>\n",
       "      <td>C032509</td>\n",
       "      <td>4-azidobenzylcarazolol</td>\n",
       "      <td>T130|T109</td>\n",
       "      <td>1</td>\n",
       "    </tr>\n",
       "    <tr>\n",
       "      <th>272162</th>\n",
       "      <td>C071124</td>\n",
       "      <td>mast cell degranulating peptide (polistes jadw...</td>\n",
       "      <td>T116</td>\n",
       "      <td>0</td>\n",
       "    </tr>\n",
       "    <tr>\n",
       "      <th>73388</th>\n",
       "      <td>C581631</td>\n",
       "      <td>microrna-3940, human</td>\n",
       "      <td>T123|T114</td>\n",
       "      <td>0</td>\n",
       "    </tr>\n",
       "    <tr>\n",
       "      <th>432407</th>\n",
       "      <td>C070224</td>\n",
       "      <td>gly-ala-ile</td>\n",
       "      <td>T116</td>\n",
       "      <td>0</td>\n",
       "    </tr>\n",
       "    <tr>\n",
       "      <th>733467</th>\n",
       "      <td>C104647</td>\n",
       "      <td>protein kinase, interferon-inducible double st...</td>\n",
       "      <td>T123|T116</td>\n",
       "      <td>0</td>\n",
       "    </tr>\n",
       "  </tbody>\n",
       "</table>\n",
       "</div>"
      ],
      "text/plain": [
       "            cui                                       concept_name        tui  \\\n",
       "944955  C032509                             4-azidobenzylcarazolol  T130|T109   \n",
       "272162  C071124  mast cell degranulating peptide (polistes jadw...       T116   \n",
       "73388   C581631                               microrna-3940, human  T123|T114   \n",
       "432407  C070224                                        gly-ala-ile       T116   \n",
       "733467  C104647  protein kinase, interferon-inducible double st...  T123|T116   \n",
       "\n",
       "       is_preferred_name  \n",
       "944955                 1  \n",
       "272162                 0  \n",
       "73388                  0  \n",
       "432407                 0  \n",
       "733467                 0  "
      ]
     },
     "execution_count": 73,
     "metadata": {},
     "output_type": "execute_result"
    }
   ],
   "source": [
    "combined_df.sample(5)"
   ]
  },
  {
   "cell_type": "code",
   "execution_count": 65,
   "metadata": {},
   "outputs": [
    {
     "data": {
      "text/plain": [
       "Index(['cui', 'concept_name', 'tui', 'Parents', 'is_preferred_name'], dtype='object')"
      ]
     },
     "execution_count": 65,
     "metadata": {},
     "output_type": "execute_result"
    }
   ],
   "source": [
    "combined_df.columns"
   ]
  },
  {
   "cell_type": "code",
   "execution_count": 64,
   "metadata": {},
   "outputs": [],
   "source": [
    "combined_df[\"cui\"] = combined_df[\"cui\"].str.replace(\"http://purl.bioontology.org/ontology/MESH/\", \"\", regex=False)\n",
    "combined_df[\"tui\"] = combined_df[\"tui\"].str.replace(\"http://purl.bioontology.org/ontology/STY/\", \"\", regex=False)"
   ]
  },
  {
   "cell_type": "code",
   "execution_count": 69,
   "metadata": {},
   "outputs": [],
   "source": [
    "combined_df[\"concept_name\"] = combined_df[\"concept_name\"].str.lower()"
   ]
  },
  {
   "cell_type": "code",
   "execution_count": 72,
   "metadata": {},
   "outputs": [],
   "source": [
    "combined_df =combined_df.drop(columns=[\"Parents\"])"
   ]
  },
  {
   "cell_type": "code",
   "execution_count": 80,
   "metadata": {},
   "outputs": [],
   "source": [
    "type_rows = combined_df[combined_df[\"cui\"].str.contains(\"http\")]"
   ]
  },
  {
   "cell_type": "code",
   "execution_count": 83,
   "metadata": {},
   "outputs": [
    {
     "name": "stderr",
     "output_type": "stream",
     "text": [
      "<ipython-input-83-2d894473de66>:1: FutureWarning: The default value of regex will change from True to False in a future version.\n",
      "  type_rows[\"cui\"] = type_rows[\"cui\"].str.replace(\"http://purl.bioontology.org/ontology/STY/\", \"\")\n",
      "<ipython-input-83-2d894473de66>:1: SettingWithCopyWarning: \n",
      "A value is trying to be set on a copy of a slice from a DataFrame.\n",
      "Try using .loc[row_indexer,col_indexer] = value instead\n",
      "\n",
      "See the caveats in the documentation: https://pandas.pydata.org/pandas-docs/stable/user_guide/indexing.html#returning-a-view-versus-a-copy\n",
      "  type_rows[\"cui\"] = type_rows[\"cui\"].str.replace(\"http://purl.bioontology.org/ontology/STY/\", \"\")\n"
     ]
    }
   ],
   "source": [
    "type_rows[\"cui\"] = type_rows[\"cui\"].str.replace(\"http://purl.bioontology.org/ontology/STY/\", \"\")"
   ]
  },
  {
   "cell_type": "code",
   "execution_count": 118,
   "metadata": {},
   "outputs": [],
   "source": [
    "type_rows2 = type_rows[[\"cui\", \"concept_name\"]]\n",
    "type_rows2 = type_rows2.dropna()\n",
    "type_mapping = type_rows2.to_records(index=False)"
   ]
  },
  {
   "cell_type": "code",
   "execution_count": 120,
   "metadata": {},
   "outputs": [],
   "source": [
    "type_mapping = {a:b for a, b in type_mapping}"
   ]
  },
  {
   "cell_type": "code",
   "execution_count": 81,
   "metadata": {},
   "outputs": [],
   "source": [
    "combined_df_no_types = combined_df[~combined_df[\"cui\"].str.contains(\"http\")]"
   ]
  },
  {
   "cell_type": "code",
   "execution_count": 98,
   "metadata": {},
   "outputs": [
    {
     "name": "stderr",
     "output_type": "stream",
     "text": [
      "<ipython-input-98-19045b32ff27>:1: SettingWithCopyWarning: \n",
      "A value is trying to be set on a copy of a slice from a DataFrame.\n",
      "Try using .loc[row_indexer,col_indexer] = value instead\n",
      "\n",
      "See the caveats in the documentation: https://pandas.pydata.org/pandas-docs/stable/user_guide/indexing.html#returning-a-view-versus-a-copy\n",
      "  combined_df_no_types[\"tui\"] = combined_df_no_types[\"tui\"].str.replace(r\"\\|.+\", \"\", regex=True)\n"
     ]
    }
   ],
   "source": [
    "combined_df_no_types[\"tui\"] = combined_df_no_types[\"tui\"].str.replace(r\"\\|.+\", \"\", regex=True)"
   ]
  },
  {
   "cell_type": "code",
   "execution_count": 121,
   "metadata": {},
   "outputs": [],
   "source": [
    "type_name_array = [type_mapping[tui] if tui in type_mapping.keys() else \"NA\" for tui in combined_df_no_types[\"tui\"]]"
   ]
  },
  {
   "cell_type": "code",
   "execution_count": 123,
   "metadata": {},
   "outputs": [
    {
     "name": "stderr",
     "output_type": "stream",
     "text": [
      "<ipython-input-123-2cc1ee469856>:1: SettingWithCopyWarning: \n",
      "A value is trying to be set on a copy of a slice from a DataFrame.\n",
      "Try using .loc[row_indexer,col_indexer] = value instead\n",
      "\n",
      "See the caveats in the documentation: https://pandas.pydata.org/pandas-docs/stable/user_guide/indexing.html#returning-a-view-versus-a-copy\n",
      "  combined_df_no_types[\"type_name\"] = type_name_array\n"
     ]
    }
   ],
   "source": [
    "combined_df_no_types[\"type_name\"] = type_name_array"
   ]
  },
  {
   "cell_type": "code",
   "execution_count": 138,
   "metadata": {},
   "outputs": [],
   "source": [
    "mesh_df_concepts = combined_df_no_types[~combined_df_no_types[\"concept_name\"].isna()]"
   ]
  },
  {
   "cell_type": "code",
   "execution_count": 139,
   "metadata": {},
   "outputs": [
    {
     "data": {
      "text/plain": [
       "976929"
      ]
     },
     "execution_count": 139,
     "metadata": {},
     "output_type": "execute_result"
    }
   ],
   "source": [
    "len(mesh_df_concepts)"
   ]
  },
  {
   "cell_type": "code",
   "execution_count": 140,
   "metadata": {},
   "outputs": [],
   "source": [
    "mesh_df_concepts = mesh_df_concepts.reset_index(drop=True)"
   ]
  },
  {
   "cell_type": "code",
   "execution_count": 147,
   "metadata": {},
   "outputs": [],
   "source": [
    "mesh_df_concepts[\"ontology\"] = \"MESH\""
   ]
  },
  {
   "cell_type": "code",
   "execution_count": 150,
   "metadata": {},
   "outputs": [
    {
     "data": {
      "text/html": [
       "<div>\n",
       "<style scoped>\n",
       "    .dataframe tbody tr th:only-of-type {\n",
       "        vertical-align: middle;\n",
       "    }\n",
       "\n",
       "    .dataframe tbody tr th {\n",
       "        vertical-align: top;\n",
       "    }\n",
       "\n",
       "    .dataframe thead th {\n",
       "        text-align: right;\n",
       "    }\n",
       "</style>\n",
       "<table border=\"1\" class=\"dataframe\">\n",
       "  <thead>\n",
       "    <tr style=\"text-align: right;\">\n",
       "      <th></th>\n",
       "      <th>cui</th>\n",
       "      <th>concept_name</th>\n",
       "      <th>tui</th>\n",
       "      <th>is_preferred_name</th>\n",
       "      <th>type_name</th>\n",
       "      <th>ontology</th>\n",
       "    </tr>\n",
       "  </thead>\n",
       "  <tbody>\n",
       "    <tr>\n",
       "      <th>113123</th>\n",
       "      <td>C535386</td>\n",
       "      <td>arthrogryposis, distal, type 6</td>\n",
       "      <td>T047</td>\n",
       "      <td>0</td>\n",
       "      <td>disease or syndrome</td>\n",
       "      <td>MESH</td>\n",
       "    </tr>\n",
       "    <tr>\n",
       "      <th>546220</th>\n",
       "      <td>D012988</td>\n",
       "      <td>microbiology, soil</td>\n",
       "      <td>T067</td>\n",
       "      <td>0</td>\n",
       "      <td>phenomenon or process</td>\n",
       "      <td>MESH</td>\n",
       "    </tr>\n",
       "    <tr>\n",
       "      <th>303258</th>\n",
       "      <td>D005894</td>\n",
       "      <td>ginseng, korean</td>\n",
       "      <td>T002</td>\n",
       "      <td>0</td>\n",
       "      <td>plant</td>\n",
       "      <td>MESH</td>\n",
       "    </tr>\n",
       "    <tr>\n",
       "      <th>122818</th>\n",
       "      <td>D005053</td>\n",
       "      <td>eugenics, negative</td>\n",
       "      <td>T078</td>\n",
       "      <td>0</td>\n",
       "      <td>idea or concept</td>\n",
       "      <td>MESH</td>\n",
       "    </tr>\n",
       "    <tr>\n",
       "      <th>425736</th>\n",
       "      <td>C028174</td>\n",
       "      <td>12903</td>\n",
       "      <td>T109</td>\n",
       "      <td>0</td>\n",
       "      <td>organic chemical</td>\n",
       "      <td>MESH</td>\n",
       "    </tr>\n",
       "    <tr>\n",
       "      <th>805839</th>\n",
       "      <td>D013178</td>\n",
       "      <td>sports medicine</td>\n",
       "      <td>T091</td>\n",
       "      <td>1</td>\n",
       "      <td>biomedical occupation or discipline</td>\n",
       "      <td>MESH</td>\n",
       "    </tr>\n",
       "    <tr>\n",
       "      <th>353086</th>\n",
       "      <td>C529218</td>\n",
       "      <td>fmd protein, mouse</td>\n",
       "      <td>T123</td>\n",
       "      <td>0</td>\n",
       "      <td>biologically active substance</td>\n",
       "      <td>MESH</td>\n",
       "    </tr>\n",
       "    <tr>\n",
       "      <th>148569</th>\n",
       "      <td>D000596</td>\n",
       "      <td>acid, amino</td>\n",
       "      <td>T123</td>\n",
       "      <td>0</td>\n",
       "      <td>biologically active substance</td>\n",
       "      <td>MESH</td>\n",
       "    </tr>\n",
       "    <tr>\n",
       "      <th>463341</th>\n",
       "      <td>C101137</td>\n",
       "      <td>rfabp protein, drosophila</td>\n",
       "      <td>T123</td>\n",
       "      <td>0</td>\n",
       "      <td>biologically active substance</td>\n",
       "      <td>MESH</td>\n",
       "    </tr>\n",
       "    <tr>\n",
       "      <th>415119</th>\n",
       "      <td>D009727</td>\n",
       "      <td>male nurse</td>\n",
       "      <td>T097</td>\n",
       "      <td>0</td>\n",
       "      <td>professional or occupational group</td>\n",
       "      <td>MESH</td>\n",
       "    </tr>\n",
       "  </tbody>\n",
       "</table>\n",
       "</div>"
      ],
      "text/plain": [
       "            cui                    concept_name   tui is_preferred_name  \\\n",
       "113123  C535386  arthrogryposis, distal, type 6  T047                 0   \n",
       "546220  D012988              microbiology, soil  T067                 0   \n",
       "303258  D005894                 ginseng, korean  T002                 0   \n",
       "122818  D005053              eugenics, negative  T078                 0   \n",
       "425736  C028174                           12903  T109                 0   \n",
       "805839  D013178                 sports medicine  T091                 1   \n",
       "353086  C529218              fmd protein, mouse  T123                 0   \n",
       "148569  D000596                     acid, amino  T123                 0   \n",
       "463341  C101137       rfabp protein, drosophila  T123                 0   \n",
       "415119  D009727                      male nurse  T097                 0   \n",
       "\n",
       "                                  type_name ontology  \n",
       "113123                  disease or syndrome     MESH  \n",
       "546220                phenomenon or process     MESH  \n",
       "303258                                plant     MESH  \n",
       "122818                      idea or concept     MESH  \n",
       "425736                     organic chemical     MESH  \n",
       "805839  biomedical occupation or discipline     MESH  \n",
       "353086        biologically active substance     MESH  \n",
       "148569        biologically active substance     MESH  \n",
       "463341        biologically active substance     MESH  \n",
       "415119   professional or occupational group     MESH  "
      ]
     },
     "execution_count": 150,
     "metadata": {},
     "output_type": "execute_result"
    }
   ],
   "source": [
    "mesh_df_concepts.sample(10)"
   ]
  },
  {
   "cell_type": "code",
   "execution_count": 151,
   "metadata": {},
   "outputs": [],
   "source": [
    "mesh_df_concepts_noc = mesh_df_concepts[~mesh_df_concepts[\"cui\"].str.contains(\"C\", regex=False)]"
   ]
  },
  {
   "cell_type": "code",
   "execution_count": 152,
   "metadata": {},
   "outputs": [
    {
     "data": {
      "text/plain": [
       "255178"
      ]
     },
     "execution_count": 152,
     "metadata": {},
     "output_type": "execute_result"
    }
   ],
   "source": [
    "len(mesh_df_concepts_noc)"
   ]
  },
  {
   "cell_type": "code",
   "execution_count": 153,
   "metadata": {},
   "outputs": [
    {
     "data": {
      "text/html": [
       "<div>\n",
       "<style scoped>\n",
       "    .dataframe tbody tr th:only-of-type {\n",
       "        vertical-align: middle;\n",
       "    }\n",
       "\n",
       "    .dataframe tbody tr th {\n",
       "        vertical-align: top;\n",
       "    }\n",
       "\n",
       "    .dataframe thead th {\n",
       "        text-align: right;\n",
       "    }\n",
       "</style>\n",
       "<table border=\"1\" class=\"dataframe\">\n",
       "  <thead>\n",
       "    <tr style=\"text-align: right;\">\n",
       "      <th></th>\n",
       "      <th>cui</th>\n",
       "      <th>concept_name</th>\n",
       "      <th>tui</th>\n",
       "      <th>is_preferred_name</th>\n",
       "      <th>type_name</th>\n",
       "      <th>ontology</th>\n",
       "    </tr>\n",
       "  </thead>\n",
       "  <tbody>\n",
       "    <tr>\n",
       "      <th>73668</th>\n",
       "      <td>D031841</td>\n",
       "      <td>monkshoods</td>\n",
       "      <td>T002</td>\n",
       "      <td>0</td>\n",
       "      <td>plant</td>\n",
       "      <td>MESH</td>\n",
       "    </tr>\n",
       "    <tr>\n",
       "      <th>458224</th>\n",
       "      <td>D014238</td>\n",
       "      <td>trichloroacetate, sodium</td>\n",
       "      <td>T109</td>\n",
       "      <td>0</td>\n",
       "      <td>organic chemical</td>\n",
       "      <td>MESH</td>\n",
       "    </tr>\n",
       "    <tr>\n",
       "      <th>202039</th>\n",
       "      <td>D058066</td>\n",
       "      <td>foot wart, bovine</td>\n",
       "      <td>T047</td>\n",
       "      <td>0</td>\n",
       "      <td>disease or syndrome</td>\n",
       "      <td>MESH</td>\n",
       "    </tr>\n",
       "    <tr>\n",
       "      <th>447341</th>\n",
       "      <td>D001022</td>\n",
       "      <td>aortic incompetence</td>\n",
       "      <td>T047</td>\n",
       "      <td>0</td>\n",
       "      <td>disease or syndrome</td>\n",
       "      <td>MESH</td>\n",
       "    </tr>\n",
       "    <tr>\n",
       "      <th>250049</th>\n",
       "      <td>D004268</td>\n",
       "      <td>single stranded dna binding proteins</td>\n",
       "      <td>T123</td>\n",
       "      <td>0</td>\n",
       "      <td>biologically active substance</td>\n",
       "      <td>MESH</td>\n",
       "    </tr>\n",
       "    <tr>\n",
       "      <th>54029</th>\n",
       "      <td>D019806</td>\n",
       "      <td>levcromakalim</td>\n",
       "      <td>T109</td>\n",
       "      <td>0</td>\n",
       "      <td>organic chemical</td>\n",
       "      <td>MESH</td>\n",
       "    </tr>\n",
       "    <tr>\n",
       "      <th>53689</th>\n",
       "      <td>D061387</td>\n",
       "      <td>chlamydophila pneumonia</td>\n",
       "      <td>T047</td>\n",
       "      <td>0</td>\n",
       "      <td>disease or syndrome</td>\n",
       "      <td>MESH</td>\n",
       "    </tr>\n",
       "    <tr>\n",
       "      <th>238877</th>\n",
       "      <td>D039603</td>\n",
       "      <td>eukaryotic peptide initiation factor-4g</td>\n",
       "      <td>T123</td>\n",
       "      <td>0</td>\n",
       "      <td>biologically active substance</td>\n",
       "      <td>MESH</td>\n",
       "    </tr>\n",
       "    <tr>\n",
       "      <th>255430</th>\n",
       "      <td>D000070660</td>\n",
       "      <td>fungus, tuckahoe</td>\n",
       "      <td>T004</td>\n",
       "      <td>0</td>\n",
       "      <td>fungus</td>\n",
       "      <td>MESH</td>\n",
       "    </tr>\n",
       "    <tr>\n",
       "      <th>119557</th>\n",
       "      <td>D017076</td>\n",
       "      <td>cad-cam</td>\n",
       "      <td>T066</td>\n",
       "      <td>0</td>\n",
       "      <td>machine activity</td>\n",
       "      <td>MESH</td>\n",
       "    </tr>\n",
       "  </tbody>\n",
       "</table>\n",
       "</div>"
      ],
      "text/plain": [
       "               cui                             concept_name   tui  \\\n",
       "73668      D031841                               monkshoods  T002   \n",
       "458224     D014238                 trichloroacetate, sodium  T109   \n",
       "202039     D058066                        foot wart, bovine  T047   \n",
       "447341     D001022                      aortic incompetence  T047   \n",
       "250049     D004268     single stranded dna binding proteins  T123   \n",
       "54029      D019806                            levcromakalim  T109   \n",
       "53689      D061387                  chlamydophila pneumonia  T047   \n",
       "238877     D039603  eukaryotic peptide initiation factor-4g  T123   \n",
       "255430  D000070660                         fungus, tuckahoe  T004   \n",
       "119557     D017076                                  cad-cam  T066   \n",
       "\n",
       "       is_preferred_name                      type_name ontology  \n",
       "73668                  0                          plant     MESH  \n",
       "458224                 0               organic chemical     MESH  \n",
       "202039                 0            disease or syndrome     MESH  \n",
       "447341                 0            disease or syndrome     MESH  \n",
       "250049                 0  biologically active substance     MESH  \n",
       "54029                  0               organic chemical     MESH  \n",
       "53689                  0            disease or syndrome     MESH  \n",
       "238877                 0  biologically active substance     MESH  \n",
       "255430                 0                         fungus     MESH  \n",
       "119557                 0               machine activity     MESH  "
      ]
     },
     "execution_count": 153,
     "metadata": {},
     "output_type": "execute_result"
    }
   ],
   "source": [
    "mesh_df_concepts_noc.sample(10)"
   ]
  },
  {
   "cell_type": "code",
   "execution_count": 154,
   "metadata": {},
   "outputs": [],
   "source": [
    "mesh_df_concepts_noc = mesh_df_concepts_noc.reset_index(drop=True)"
   ]
  },
  {
   "cell_type": "code",
   "execution_count": 156,
   "metadata": {},
   "outputs": [],
   "source": [
    "mesh_df_concepts_noc.to_csv(\"/home/hwatkins/Desktop/neuroOnto/ontologies/mesh/ontology_concepts.csv\")"
   ]
  },
  {
   "cell_type": "code",
   "execution_count": 184,
   "metadata": {},
   "outputs": [],
   "source": [
    "relation_cols = relevant_mesh_cols[[\"cui\", \"Parents\"]]"
   ]
  },
  {
   "cell_type": "code",
   "execution_count": 185,
   "metadata": {
    "collapsed": true,
    "jupyter": {
     "outputs_hidden": true
    }
   },
   "outputs": [
    {
     "name": "stderr",
     "output_type": "stream",
     "text": [
      "<ipython-input-185-6d92032c7d53>:1: FutureWarning: The default value of regex will change from True to False in a future version.\n",
      "  relation_cols[\"cui\"] = relation_cols[\"cui\"].str.replace(\"http://purl.bioontology.org/ontology/MESH/\", \"\")\n",
      "<ipython-input-185-6d92032c7d53>:1: SettingWithCopyWarning: \n",
      "A value is trying to be set on a copy of a slice from a DataFrame.\n",
      "Try using .loc[row_indexer,col_indexer] = value instead\n",
      "\n",
      "See the caveats in the documentation: https://pandas.pydata.org/pandas-docs/stable/user_guide/indexing.html#returning-a-view-versus-a-copy\n",
      "  relation_cols[\"cui\"] = relation_cols[\"cui\"].str.replace(\"http://purl.bioontology.org/ontology/MESH/\", \"\")\n"
     ]
    }
   ],
   "source": [
    "relation_cols[\"cui\"] = relation_cols[\"cui\"].str.replace(\"http://purl.bioontology.org/ontology/MESH/\", \"\")"
   ]
  },
  {
   "cell_type": "code",
   "execution_count": 186,
   "metadata": {
    "collapsed": true,
    "jupyter": {
     "outputs_hidden": true
    }
   },
   "outputs": [
    {
     "name": "stderr",
     "output_type": "stream",
     "text": [
      "<ipython-input-186-fa257c1a8bd5>:1: FutureWarning: The default value of regex will change from True to False in a future version.\n",
      "  relation_cols[\"cui\"] = relation_cols[\"cui\"].str.replace(\"http://purl.bioontology.org/ontology/STY/\", \"\")\n",
      "<ipython-input-186-fa257c1a8bd5>:1: SettingWithCopyWarning: \n",
      "A value is trying to be set on a copy of a slice from a DataFrame.\n",
      "Try using .loc[row_indexer,col_indexer] = value instead\n",
      "\n",
      "See the caveats in the documentation: https://pandas.pydata.org/pandas-docs/stable/user_guide/indexing.html#returning-a-view-versus-a-copy\n",
      "  relation_cols[\"cui\"] = relation_cols[\"cui\"].str.replace(\"http://purl.bioontology.org/ontology/STY/\", \"\")\n"
     ]
    }
   ],
   "source": [
    "relation_cols[\"cui\"] = relation_cols[\"cui\"].str.replace(\"http://purl.bioontology.org/ontology/STY/\", \"\")"
   ]
  },
  {
   "cell_type": "code",
   "execution_count": 194,
   "metadata": {},
   "outputs": [],
   "source": [
    "relation_cols_noc = relation_cols[~relation_cols[\"cui\"].str.contains(\"C\")]"
   ]
  },
  {
   "cell_type": "code",
   "execution_count": 195,
   "metadata": {},
   "outputs": [],
   "source": [
    "relation_cols_nona = relation_cols_noc[~relation_cols_noc[\"Parents\"].isna()]"
   ]
  },
  {
   "cell_type": "code",
   "execution_count": 199,
   "metadata": {
    "collapsed": true,
    "jupyter": {
     "outputs_hidden": true
    }
   },
   "outputs": [
    {
     "name": "stderr",
     "output_type": "stream",
     "text": [
      "<ipython-input-199-2ffd622dee3d>:1: FutureWarning: The default value of regex will change from True to False in a future version.\n",
      "  relation_cols_nona[\"destinationId\"] = relation_cols_nona[\"Parents\"].str.replace(\"http://purl.bioontology.org/ontology/MESH/\" ,\"\")\n",
      "<ipython-input-199-2ffd622dee3d>:1: SettingWithCopyWarning: \n",
      "A value is trying to be set on a copy of a slice from a DataFrame.\n",
      "Try using .loc[row_indexer,col_indexer] = value instead\n",
      "\n",
      "See the caveats in the documentation: https://pandas.pydata.org/pandas-docs/stable/user_guide/indexing.html#returning-a-view-versus-a-copy\n",
      "  relation_cols_nona[\"destinationId\"] = relation_cols_nona[\"Parents\"].str.replace(\"http://purl.bioontology.org/ontology/MESH/\" ,\"\")\n"
     ]
    }
   ],
   "source": [
    "relation_cols_nona[\"destinationId\"] = relation_cols_nona[\"Parents\"].str.replace(\"http://purl.bioontology.org/ontology/MESH/\" ,\"\")"
   ]
  },
  {
   "cell_type": "code",
   "execution_count": 201,
   "metadata": {
    "collapsed": true,
    "jupyter": {
     "outputs_hidden": true
    }
   },
   "outputs": [
    {
     "name": "stderr",
     "output_type": "stream",
     "text": [
      "<ipython-input-201-d8320bb96b27>:1: SettingWithCopyWarning: \n",
      "A value is trying to be set on a copy of a slice from a DataFrame.\n",
      "Try using .loc[row_indexer,col_indexer] = value instead\n",
      "\n",
      "See the caveats in the documentation: https://pandas.pydata.org/pandas-docs/stable/user_guide/indexing.html#returning-a-view-versus-a-copy\n",
      "  relation_cols_nona[\"destinationId\"] = relation_cols_nona[\"destinationId\"].str.replace(r\"\\|.+\", \"\", regex=True)\n"
     ]
    }
   ],
   "source": [
    "relation_cols_nona[\"destinationId\"] = relation_cols_nona[\"destinationId\"].str.replace(r\"\\|.+\", \"\", regex=True)"
   ]
  },
  {
   "cell_type": "code",
   "execution_count": 202,
   "metadata": {},
   "outputs": [
    {
     "data": {
      "text/html": [
       "<div>\n",
       "<style scoped>\n",
       "    .dataframe tbody tr th:only-of-type {\n",
       "        vertical-align: middle;\n",
       "    }\n",
       "\n",
       "    .dataframe tbody tr th {\n",
       "        vertical-align: top;\n",
       "    }\n",
       "\n",
       "    .dataframe thead th {\n",
       "        text-align: right;\n",
       "    }\n",
       "</style>\n",
       "<table border=\"1\" class=\"dataframe\">\n",
       "  <thead>\n",
       "    <tr style=\"text-align: right;\">\n",
       "      <th></th>\n",
       "      <th>cui</th>\n",
       "      <th>Parents</th>\n",
       "      <th>destinationId</th>\n",
       "    </tr>\n",
       "  </thead>\n",
       "  <tbody>\n",
       "    <tr>\n",
       "      <th>26</th>\n",
       "      <td>D014437</td>\n",
       "      <td>http://purl.bioontology.org/ontology/MESH/D012282</td>\n",
       "      <td>D012282</td>\n",
       "    </tr>\n",
       "    <tr>\n",
       "      <th>44</th>\n",
       "      <td>D019074</td>\n",
       "      <td>http://purl.bioontology.org/ontology/MESH/D001158</td>\n",
       "      <td>D001158</td>\n",
       "    </tr>\n",
       "    <tr>\n",
       "      <th>82</th>\n",
       "      <td>D006371</td>\n",
       "      <td>http://purl.bioontology.org/ontology/MESH/D005741</td>\n",
       "      <td>D005741</td>\n",
       "    </tr>\n",
       "    <tr>\n",
       "      <th>83</th>\n",
       "      <td>D054881</td>\n",
       "      <td>http://purl.bioontology.org/ontology/MESH/D012...</td>\n",
       "      <td>D012732</td>\n",
       "    </tr>\n",
       "    <tr>\n",
       "      <th>86</th>\n",
       "      <td>D020880</td>\n",
       "      <td>http://purl.bioontology.org/ontology/MESH/D009414</td>\n",
       "      <td>D009414</td>\n",
       "    </tr>\n",
       "    <tr>\n",
       "      <th>...</th>\n",
       "      <td>...</td>\n",
       "      <td>...</td>\n",
       "      <td>...</td>\n",
       "    </tr>\n",
       "    <tr>\n",
       "      <th>347643</th>\n",
       "      <td>D000081006</td>\n",
       "      <td>http://purl.bioontology.org/ontology/MESH/D003951</td>\n",
       "      <td>D003951</td>\n",
       "    </tr>\n",
       "    <tr>\n",
       "      <th>347653</th>\n",
       "      <td>D004318</td>\n",
       "      <td>http://purl.bioontology.org/ontology/MESH/D013754</td>\n",
       "      <td>D013754</td>\n",
       "    </tr>\n",
       "    <tr>\n",
       "      <th>347659</th>\n",
       "      <td>D017713</td>\n",
       "      <td>http://purl.bioontology.org/ontology/MESH/D016913</td>\n",
       "      <td>D016913</td>\n",
       "    </tr>\n",
       "    <tr>\n",
       "      <th>347683</th>\n",
       "      <td>D007990</td>\n",
       "      <td>http://purl.bioontology.org/ontology/MESH/D007253</td>\n",
       "      <td>D007253</td>\n",
       "    </tr>\n",
       "    <tr>\n",
       "      <th>347686</th>\n",
       "      <td>D000237</td>\n",
       "      <td>http://purl.bioontology.org/ontology/MESH/D000...</td>\n",
       "      <td>D000236</td>\n",
       "    </tr>\n",
       "  </tbody>\n",
       "</table>\n",
       "<p>30043 rows × 3 columns</p>\n",
       "</div>"
      ],
      "text/plain": [
       "               cui                                            Parents  \\\n",
       "26         D014437  http://purl.bioontology.org/ontology/MESH/D012282   \n",
       "44         D019074  http://purl.bioontology.org/ontology/MESH/D001158   \n",
       "82         D006371  http://purl.bioontology.org/ontology/MESH/D005741   \n",
       "83         D054881  http://purl.bioontology.org/ontology/MESH/D012...   \n",
       "86         D020880  http://purl.bioontology.org/ontology/MESH/D009414   \n",
       "...            ...                                                ...   \n",
       "347643  D000081006  http://purl.bioontology.org/ontology/MESH/D003951   \n",
       "347653     D004318  http://purl.bioontology.org/ontology/MESH/D013754   \n",
       "347659     D017713  http://purl.bioontology.org/ontology/MESH/D016913   \n",
       "347683     D007990  http://purl.bioontology.org/ontology/MESH/D007253   \n",
       "347686     D000237  http://purl.bioontology.org/ontology/MESH/D000...   \n",
       "\n",
       "       destinationId  \n",
       "26           D012282  \n",
       "44           D001158  \n",
       "82           D005741  \n",
       "83           D012732  \n",
       "86           D009414  \n",
       "...              ...  \n",
       "347643       D003951  \n",
       "347653       D013754  \n",
       "347659       D016913  \n",
       "347683       D007253  \n",
       "347686       D000236  \n",
       "\n",
       "[30043 rows x 3 columns]"
      ]
     },
     "execution_count": 202,
     "metadata": {},
     "output_type": "execute_result"
    }
   ],
   "source": [
    "relation_cols_nona"
   ]
  },
  {
   "cell_type": "code",
   "execution_count": 215,
   "metadata": {},
   "outputs": [
    {
     "name": "stderr",
     "output_type": "stream",
     "text": [
      "<ipython-input-215-66a058d22c68>:1: FutureWarning: The default value of regex will change from True to False in a future version.\n",
      "  relation_cols_nona[\"destinationId\"] = relation_cols_nona[\"destinationId\"].str.replace(\"http://www.w3.org/2002/07/owl#Thing\", \"ROOT\")\n",
      "<ipython-input-215-66a058d22c68>:1: SettingWithCopyWarning: \n",
      "A value is trying to be set on a copy of a slice from a DataFrame.\n",
      "Try using .loc[row_indexer,col_indexer] = value instead\n",
      "\n",
      "See the caveats in the documentation: https://pandas.pydata.org/pandas-docs/stable/user_guide/indexing.html#returning-a-view-versus-a-copy\n",
      "  relation_cols_nona[\"destinationId\"] = relation_cols_nona[\"destinationId\"].str.replace(\"http://www.w3.org/2002/07/owl#Thing\", \"ROOT\")\n"
     ]
    }
   ],
   "source": [
    "relation_cols_nona[\"destinationId\"] = relation_cols_nona[\"destinationId\"].str.replace(\"http://www.w3.org/2002/07/owl#Thing\", \"ROOT\")"
   ]
  },
  {
   "cell_type": "code",
   "execution_count": 226,
   "metadata": {},
   "outputs": [
    {
     "data": {
      "text/html": [
       "<div>\n",
       "<style scoped>\n",
       "    .dataframe tbody tr th:only-of-type {\n",
       "        vertical-align: middle;\n",
       "    }\n",
       "\n",
       "    .dataframe tbody tr th {\n",
       "        vertical-align: top;\n",
       "    }\n",
       "\n",
       "    .dataframe thead th {\n",
       "        text-align: right;\n",
       "    }\n",
       "</style>\n",
       "<table border=\"1\" class=\"dataframe\">\n",
       "  <thead>\n",
       "    <tr style=\"text-align: right;\">\n",
       "      <th></th>\n",
       "      <th>cui</th>\n",
       "      <th>Parents</th>\n",
       "      <th>destinationId</th>\n",
       "    </tr>\n",
       "  </thead>\n",
       "  <tbody>\n",
       "    <tr>\n",
       "      <th>35844</th>\n",
       "      <td>D013804</td>\n",
       "      <td>http://purl.bioontology.org/ontology/MESH/D013...</td>\n",
       "      <td>D013876</td>\n",
       "    </tr>\n",
       "    <tr>\n",
       "      <th>144719</th>\n",
       "      <td>D020202</td>\n",
       "      <td>http://purl.bioontology.org/ontology/MESH/D002...</td>\n",
       "      <td>D002543</td>\n",
       "    </tr>\n",
       "    <tr>\n",
       "      <th>66935</th>\n",
       "      <td>D007441</td>\n",
       "      <td>http://purl.bioontology.org/ontology/MESH/D007440</td>\n",
       "      <td>D007440</td>\n",
       "    </tr>\n",
       "    <tr>\n",
       "      <th>150964</th>\n",
       "      <td>D024801</td>\n",
       "      <td>http://purl.bioontology.org/ontology/MESH/D019636</td>\n",
       "      <td>D019636</td>\n",
       "    </tr>\n",
       "    <tr>\n",
       "      <th>11084</th>\n",
       "      <td>D002364</td>\n",
       "      <td>http://purl.bioontology.org/ontology/MESH/D010...</td>\n",
       "      <td>D010750</td>\n",
       "    </tr>\n",
       "    <tr>\n",
       "      <th>271190</th>\n",
       "      <td>D012709</td>\n",
       "      <td>http://purl.bioontology.org/ontology/MESH/D000...</td>\n",
       "      <td>D000418</td>\n",
       "    </tr>\n",
       "    <tr>\n",
       "      <th>206342</th>\n",
       "      <td>D050765</td>\n",
       "      <td>http://purl.bioontology.org/ontology/MESH/D050682</td>\n",
       "      <td>D050682</td>\n",
       "    </tr>\n",
       "    <tr>\n",
       "      <th>127048</th>\n",
       "      <td>D006298</td>\n",
       "      <td>http://www.w3.org/2002/07/owl#Thing|http://pur...</td>\n",
       "      <td>ROOT</td>\n",
       "    </tr>\n",
       "    <tr>\n",
       "      <th>21918</th>\n",
       "      <td>D012642</td>\n",
       "      <td>http://purl.bioontology.org/ontology/MESH/D010627</td>\n",
       "      <td>D010627</td>\n",
       "    </tr>\n",
       "    <tr>\n",
       "      <th>32581</th>\n",
       "      <td>D000073436</td>\n",
       "      <td>http://purl.bioontology.org/ontology/MESH/D020763</td>\n",
       "      <td>D020763</td>\n",
       "    </tr>\n",
       "  </tbody>\n",
       "</table>\n",
       "</div>"
      ],
      "text/plain": [
       "               cui                                            Parents  \\\n",
       "35844      D013804  http://purl.bioontology.org/ontology/MESH/D013...   \n",
       "144719     D020202  http://purl.bioontology.org/ontology/MESH/D002...   \n",
       "66935      D007441  http://purl.bioontology.org/ontology/MESH/D007440   \n",
       "150964     D024801  http://purl.bioontology.org/ontology/MESH/D019636   \n",
       "11084      D002364  http://purl.bioontology.org/ontology/MESH/D010...   \n",
       "271190     D012709  http://purl.bioontology.org/ontology/MESH/D000...   \n",
       "206342     D050765  http://purl.bioontology.org/ontology/MESH/D050682   \n",
       "127048     D006298  http://www.w3.org/2002/07/owl#Thing|http://pur...   \n",
       "21918      D012642  http://purl.bioontology.org/ontology/MESH/D010627   \n",
       "32581   D000073436  http://purl.bioontology.org/ontology/MESH/D020763   \n",
       "\n",
       "       destinationId  \n",
       "35844        D013876  \n",
       "144719       D002543  \n",
       "66935        D007440  \n",
       "150964       D019636  \n",
       "11084        D010750  \n",
       "271190       D000418  \n",
       "206342       D050682  \n",
       "127048          ROOT  \n",
       "21918        D010627  \n",
       "32581        D020763  "
      ]
     },
     "execution_count": 226,
     "metadata": {},
     "output_type": "execute_result"
    }
   ],
   "source": [
    "relation_cols_nona[relation_cols_nona[\"destinationId\"].str.contains(\"|\")].sample(10)"
   ]
  },
  {
   "cell_type": "code",
   "execution_count": null,
   "metadata": {},
   "outputs": [],
   "source": [
    "relation_cols_nona = relation_cols_nona.rename(columns={\"cui\":\"sourceId\"})"
   ]
  },
  {
   "cell_type": "code",
   "execution_count": 235,
   "metadata": {},
   "outputs": [],
   "source": [
    "to_add_concept = pd.read_csv(\"/home/hwatkins/Desktop/neuroOnto/ontologies/mesh/ontology_concepts.csv\", index_col=0)"
   ]
  },
  {
   "cell_type": "code",
   "execution_count": 236,
   "metadata": {},
   "outputs": [
    {
     "data": {
      "text/html": [
       "<div>\n",
       "<style scoped>\n",
       "    .dataframe tbody tr th:only-of-type {\n",
       "        vertical-align: middle;\n",
       "    }\n",
       "\n",
       "    .dataframe tbody tr th {\n",
       "        vertical-align: top;\n",
       "    }\n",
       "\n",
       "    .dataframe thead th {\n",
       "        text-align: right;\n",
       "    }\n",
       "</style>\n",
       "<table border=\"1\" class=\"dataframe\">\n",
       "  <thead>\n",
       "    <tr style=\"text-align: right;\">\n",
       "      <th></th>\n",
       "      <th>cui</th>\n",
       "      <th>concept_name</th>\n",
       "      <th>tui</th>\n",
       "      <th>is_preferred_name</th>\n",
       "      <th>type_name</th>\n",
       "      <th>ontology</th>\n",
       "    </tr>\n",
       "  </thead>\n",
       "  <tbody>\n",
       "    <tr>\n",
       "      <th>13778</th>\n",
       "      <td>D018467</td>\n",
       "      <td>nontherapeutic positive pressure respiration</td>\n",
       "      <td>T047</td>\n",
       "      <td>0</td>\n",
       "      <td>disease or syndrome</td>\n",
       "      <td>MESH</td>\n",
       "    </tr>\n",
       "    <tr>\n",
       "      <th>35247</th>\n",
       "      <td>D000987</td>\n",
       "      <td>antisocial behavior</td>\n",
       "      <td>T048</td>\n",
       "      <td>0</td>\n",
       "      <td>mental or behavioral dysfunction</td>\n",
       "      <td>MESH</td>\n",
       "    </tr>\n",
       "    <tr>\n",
       "      <th>109940</th>\n",
       "      <td>D050256</td>\n",
       "      <td>antimitotics</td>\n",
       "      <td>T121</td>\n",
       "      <td>0</td>\n",
       "      <td>pharmacologic substance</td>\n",
       "      <td>MESH</td>\n",
       "    </tr>\n",
       "    <tr>\n",
       "      <th>189840</th>\n",
       "      <td>D054018</td>\n",
       "      <td>lasers, arf</td>\n",
       "      <td>T074</td>\n",
       "      <td>0</td>\n",
       "      <td>medical device</td>\n",
       "      <td>MESH</td>\n",
       "    </tr>\n",
       "    <tr>\n",
       "      <th>41114</th>\n",
       "      <td>D012244</td>\n",
       "      <td>purple nonsulfur bacteria</td>\n",
       "      <td>T007</td>\n",
       "      <td>0</td>\n",
       "      <td>bacterium</td>\n",
       "      <td>MESH</td>\n",
       "    </tr>\n",
       "    <tr>\n",
       "      <th>238903</th>\n",
       "      <td>D017607</td>\n",
       "      <td>aluminum compounds</td>\n",
       "      <td>T197</td>\n",
       "      <td>1</td>\n",
       "      <td>inorganic chemical</td>\n",
       "      <td>MESH</td>\n",
       "    </tr>\n",
       "    <tr>\n",
       "      <th>20755</th>\n",
       "      <td>D001004</td>\n",
       "      <td>disease, anus</td>\n",
       "      <td>T047</td>\n",
       "      <td>0</td>\n",
       "      <td>disease or syndrome</td>\n",
       "      <td>MESH</td>\n",
       "    </tr>\n",
       "    <tr>\n",
       "      <th>244040</th>\n",
       "      <td>D002387</td>\n",
       "      <td>cataract extraction</td>\n",
       "      <td>T061</td>\n",
       "      <td>1</td>\n",
       "      <td>therapeutic or preventive procedure</td>\n",
       "      <td>MESH</td>\n",
       "    </tr>\n",
       "    <tr>\n",
       "      <th>251596</th>\n",
       "      <td>D007567</td>\n",
       "      <td>jaundice, neonatal</td>\n",
       "      <td>T047</td>\n",
       "      <td>1</td>\n",
       "      <td>disease or syndrome</td>\n",
       "      <td>MESH</td>\n",
       "    </tr>\n",
       "    <tr>\n",
       "      <th>196271</th>\n",
       "      <td>D009624</td>\n",
       "      <td>noises, transportation</td>\n",
       "      <td>T069</td>\n",
       "      <td>0</td>\n",
       "      <td>environmental effect of humans</td>\n",
       "      <td>MESH</td>\n",
       "    </tr>\n",
       "  </tbody>\n",
       "</table>\n",
       "</div>"
      ],
      "text/plain": [
       "            cui                                  concept_name   tui  \\\n",
       "13778   D018467  nontherapeutic positive pressure respiration  T047   \n",
       "35247   D000987                           antisocial behavior  T048   \n",
       "109940  D050256                                  antimitotics  T121   \n",
       "189840  D054018                                   lasers, arf  T074   \n",
       "41114   D012244                     purple nonsulfur bacteria  T007   \n",
       "238903  D017607                            aluminum compounds  T197   \n",
       "20755   D001004                                 disease, anus  T047   \n",
       "244040  D002387                           cataract extraction  T061   \n",
       "251596  D007567                            jaundice, neonatal  T047   \n",
       "196271  D009624                        noises, transportation  T069   \n",
       "\n",
       "        is_preferred_name                            type_name ontology  \n",
       "13778                   0                  disease or syndrome     MESH  \n",
       "35247                   0     mental or behavioral dysfunction     MESH  \n",
       "109940                  0              pharmacologic substance     MESH  \n",
       "189840                  0                       medical device     MESH  \n",
       "41114                   0                            bacterium     MESH  \n",
       "238903                  1                   inorganic chemical     MESH  \n",
       "20755                   0                  disease or syndrome     MESH  \n",
       "244040                  1  therapeutic or preventive procedure     MESH  \n",
       "251596                  1                  disease or syndrome     MESH  \n",
       "196271                  0       environmental effect of humans     MESH  "
      ]
     },
     "execution_count": 236,
     "metadata": {},
     "output_type": "execute_result"
    }
   ],
   "source": [
    "to_add_concept.sample(10)"
   ]
  },
  {
   "cell_type": "code",
   "execution_count": 237,
   "metadata": {},
   "outputs": [],
   "source": [
    "to_add_concept.loc[len(to_add_concept.index)] = [\"ROOT\", \"root concept\", \"TROOT\", \"1\", \"ROOT\", \"MESH\"]"
   ]
  },
  {
   "cell_type": "code",
   "execution_count": null,
   "metadata": {},
   "outputs": [],
   "source": []
  },
  {
   "cell_type": "code",
   "execution_count": null,
   "metadata": {},
   "outputs": [],
   "source": []
  },
  {
   "cell_type": "code",
   "execution_count": 245,
   "metadata": {},
   "outputs": [],
   "source": [
    "error_codes = ['Q000401', 'Q000639', 'Q000295', 'Q000150', 'Q000188', 'Q000517',\n",
    "       'Q000032', 'Q000138', 'Q000737', 'Q000493', 'Q000201', 'U000022',\n",
    "       'Q000145', 'Q000941', 'Q000458', 'Q000556', 'Q000706', 'U000004',\n",
    "       'Q000503', 'Q000506', 'Q000819', 'Q000187', 'Q000096', 'Q000453',\n",
    "       'Q000002', 'U000011', 'Q000472', 'U000014', 'U000002', 'Q000208',\n",
    "       'Q000037', 'Q000134', 'U000021', 'Q000592', 'Q000528', 'Q000166',\n",
    "       'Q000294', 'Q000008', 'Q000254', 'Q000821', 'Q000382', 'Q000031',\n",
    "       'Q000601', 'Q000235', 'U000003', 'U000006', 'Q000648', 'Q000523',\n",
    "       'Q000276', 'Q000191', 'Q000633', 'Q000652', 'Q000009', 'U000009',\n",
    "       'D005260', 'Q000379', 'Q000662', 'Q000302', 'U000019', 'Q000151',\n",
    "       'Q000502', 'Q000637', 'U000013', 'Q000628', 'Q000293', 'Q000494',\n",
    "       'Q000098', 'Q000196', 'U000010', 'Q000534', 'U000001', 'U000020',\n",
    "       'U000023', 'Q000635', 'Q000193', 'Q000033', 'Q000266', 'U000005',\n",
    "       'Q000532', 'Q000600', 'Q000139', 'Q000378', 'Q000175',\n",
    "       'Q000000981', 'Q000172', 'Q000331', 'Q000097', 'Q000473',\n",
    "       'U000015', 'Q000627', 'U000012', 'Q000451', 'Q000209', 'D008297',\n",
    "       'Q000178', 'U000008', 'Q000469']"
   ]
  },
  {
   "cell_type": "code",
   "execution_count": 246,
   "metadata": {},
   "outputs": [],
   "source": [
    "to_add_concept = to_add_concept[~to_add_concept[\"cui\"].isin(error_codes)]"
   ]
  },
  {
   "cell_type": "code",
   "execution_count": 247,
   "metadata": {},
   "outputs": [],
   "source": [
    "to_add_concept.to_csv(\"/home/hwatkins/Desktop/neuroOnto/ontologies/mesh/ontology_concepts.csv\")"
   ]
  },
  {
   "cell_type": "code",
   "execution_count": 227,
   "metadata": {},
   "outputs": [],
   "source": [
    "relation_cols_nona.to_csv(\"/home/hwatkins/Desktop/neuroOnto/ontologies/mesh/ontology_relations.csv\")"
   ]
  },
  {
   "cell_type": "code",
   "execution_count": 248,
   "metadata": {},
   "outputs": [],
   "source": [
    "processed_mesh_path = \"/home/hwatkins/Desktop/neuroOnto/ontologies/mesh\"\n",
    "cons = processed_mesh_path + \"/ontology_concepts.csv\"\n",
    "rels = processed_mesh_path + \"/ontology_relations.csv\""
   ]
  },
  {
   "cell_type": "code",
   "execution_count": 249,
   "metadata": {},
   "outputs": [],
   "source": [
    "onto = Ontology(cons, rels)"
   ]
  },
  {
   "cell_type": "code",
   "execution_count": 251,
   "metadata": {},
   "outputs": [
    {
     "data": {
      "text/plain": [
       "[integumentary system physiological phenomena, cui: D055827,\n",
       " immune system phenomena, cui: D055633,\n",
       " nervous system diseases, cui: D009422,\n",
       " animal diseases, cui: D000820,\n",
       " cells, cui: D002477,\n",
       " mesh qualifiers, cui: U000018,\n",
       " population characteristics, cui: D011154,\n",
       " behavioral disciplines and activities, cui: D004191,\n",
       " respiratory system, cui: D012137,\n",
       " stomatognathic system, cui: D013284,\n",
       " circulatory and respiratory physiological phenomena, cui: D002943,\n",
       " immune system diseases, cui: D007154,\n",
       " infections, cui: D007239,\n",
       " neoplasms, cui: D009369,\n",
       " genetic phenomena, cui: D055614,\n",
       " chemically-induced disorders, cui: D064419,\n",
       " polycyclic compounds, cui: D011083,\n",
       " pharmaceutical preparations, cui: D004364,\n",
       " health care facilities, manpower, and services, cui: D005159,\n",
       " eukaryota, cui: D056890,\n",
       " tissues, cui: D014024,\n",
       " male urogenital diseases, cui: D052801,\n",
       " health occupations, cui: D006281,\n",
       " geographic locations, cui: D005842,\n",
       " ocular physiological phenomena, cui: D009799,\n",
       " organic chemicals, cui: D009930,\n",
       " integumentary system, cui: D034582,\n",
       " hemic and lymphatic diseases, cui: D006425,\n",
       " dentistry, cui: D003813,\n",
       " occupational diseases, cui: D009784,\n",
       " reproductive and urinary physiological phenomena, cui: D012101,\n",
       " musculoskeletal system, cui: D009141,\n",
       " cardiovascular system, cui: D002319,\n",
       " chemical actions and uses, cui: D020164,\n",
       " biological phenomena, cui: D001686,\n",
       " bacteria, cui: D001419,\n",
       " digestive system diseases, cui: D004066,\n",
       " mesh descriptors, cui: U000017,\n",
       " health care quality, access, and evaluation, cui: D017530,\n",
       " food and beverages, cui: D019602,\n",
       " digestive system and oral physiological phenomena, cui: D055688,\n",
       " endocrine system diseases, cui: D004700,\n",
       " physical phenomena, cui: D055585,\n",
       " animal structures, cui: D000825,\n",
       " therapeutics, cui: D013812,\n",
       " education, cui: D004493,\n",
       " health services administration, cui: D006298,\n",
       " amino acids, peptides, and proteins, cui: D000602,\n",
       " wounds and injuries, cui: D014947,\n",
       " otorhinolaryngologic diseases, cui: D010038,\n",
       " respiratory tract diseases, cui: D012140,\n",
       " lipids, cui: D008055,\n",
       " female urogenital diseases and pregnancy complications, cui: D005261,\n",
       " macromolecular substances, cui: D046911,\n",
       " skin and connective tissue diseases, cui: D017437,\n",
       " publication components, cui: D052181,\n",
       " sense organs, cui: D012679,\n",
       " psychological phenomena, cui: D011579,\n",
       " human activities, cui: D006802,\n",
       " equipment and supplies, cui: D004864,\n",
       " carbohydrates, cui: D002241,\n",
       " heterocyclic compounds, cui: D006571,\n",
       " social sciences, cui: D012942,\n",
       " urogenital system, cui: D014566,\n",
       " microbiological phenomena, cui: D008827,\n",
       " viral structures, cui: D056224,\n",
       " hemic and immune systems, cui: D006424,\n",
       " enzymes and coenzymes, cui: D045762,\n",
       " complex mixtures, cui: D045424,\n",
       " cell physiological phenomena, cui: D002468,\n",
       " technology, industry, and agriculture, cui: D013676,\n",
       " disorders of environmental origin, cui: D007280,\n",
       " musculoskeletal diseases, cui: D009140,\n",
       " fluids and secretions, cui: D005441,\n",
       " persons, cui: D009272,\n",
       " archaea, cui: D001105,\n",
       " eye diseases, cui: D005128,\n",
       " cardiovascular diseases, cui: D002318,\n",
       " biological factors, cui: D001685,\n",
       " physiological phenomena, cui: D010829,\n",
       " inorganic chemicals, cui: D007287,\n",
       " musculoskeletal and neural physiological phenomena, cui: D055687,\n",
       " body regions, cui: D001829,\n",
       " mesh supplementals, cui: U000016,\n",
       " plant structures, cui: D018514,\n",
       " viruses, cui: D014780,\n",
       " surgical procedures, operative, cui: D013514,\n",
       " study characteristics, cui: D052182,\n",
       " congenital, hereditary, and neonatal diseases and abnormalities, cui: D009358,\n",
       " fungal structures, cui: D056229,\n",
       " support of research, cui: D052288,\n",
       " digestive system, cui: D004064,\n",
       " investigative techniques, cui: D008919,\n",
       " environment and public health, cui: D004778,\n",
       " bacterial structures, cui: D056226,\n",
       " behavior and behavior mechanisms, cui: D001520,\n",
       " pathological conditions, signs and symptoms, cui: D013568,\n",
       " natural science disciplines, cui: D010811,\n",
       " nervous system, cui: D009420,\n",
       " stomatognathic diseases, cui: D009057,\n",
       " health care economics and organizations, cui: D004472,\n",
       " metabolism, cui: D008660,\n",
       " endocrine system, cui: D004703,\n",
       " publication formats, cui: D052180,\n",
       " mathematical concepts, cui: D055641,\n",
       " non-medical public and private facilities, cui: D000072182,\n",
       " hormones, hormone substitutes, and hormone antagonists, cui: D006730,\n",
       " diagnosis, cui: D003933,\n",
       " organism forms, cui: D056891,\n",
       " mental disorders, cui: D001523,\n",
       " nucleic acids, nucleotides, and nucleosides, cui: D009706,\n",
       " nutritional and metabolic diseases, cui: D009750,\n",
       " plant physiological phenomena, cui: D018521,\n",
       " anesthesia and analgesia, cui: D000760,\n",
       " chemical phenomena, cui: D055598,\n",
       " embryonic structures, cui: D004628,\n",
       " information science, cui: D007254,\n",
       " humanities, cui: D006809]"
      ]
     },
     "execution_count": 251,
     "metadata": {},
     "output_type": "execute_result"
    }
   ],
   "source": [
    "onto.get_root().children"
   ]
  },
  {
   "cell_type": "code",
   "execution_count": null,
   "metadata": {},
   "outputs": [],
   "source": []
  }
 ],
 "metadata": {
  "kernelspec": {
   "display_name": "Python 3",
   "language": "python",
   "name": "python3"
  },
  "language_info": {
   "codemirror_mode": {
    "name": "ipython",
    "version": 3
   },
   "file_extension": ".py",
   "mimetype": "text/x-python",
   "name": "python",
   "nbconvert_exporter": "python",
   "pygments_lexer": "ipython3",
   "version": "3.8.6"
  },
  "toc-autonumbering": true
 },
 "nbformat": 4,
 "nbformat_minor": 4
}
